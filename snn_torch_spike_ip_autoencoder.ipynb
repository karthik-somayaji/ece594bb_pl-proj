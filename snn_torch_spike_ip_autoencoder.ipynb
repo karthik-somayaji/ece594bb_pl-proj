{
 "cells": [
  {
   "cell_type": "code",
<<<<<<< HEAD
   "execution_count": 1,
=======
   "execution_count": 95,
>>>>>>> origin/master
   "metadata": {},
   "outputs": [],
   "source": [
    "# imports\n",
    "import snntorch as snn\n",
    "from snntorch import spikeplot as splt\n",
    "from snntorch import spikegen\n",
    "\n",
    "import torch\n",
    "import torch.nn as nn\n",
    "from torch.utils.data import DataLoader, Dataset\n",
    "from torchvision import datasets, transforms\n",
    "\n",
    "import matplotlib.pyplot as plt\n",
    "import numpy as np\n",
    "import itertools\n",
    "from snntorch import utils\n",
    "from snntorch import spikegen"
   ]
  },
  {
   "cell_type": "markdown",
   "metadata": {},
   "source": [
    "MNIST Data"
   ]
  },
  {
   "cell_type": "code",
<<<<<<< HEAD
   "execution_count": 2,
=======
   "execution_count": 96,
>>>>>>> origin/master
   "metadata": {},
   "outputs": [
    {
     "name": "stdout",
     "output_type": "stream",
     "text": [
      "468 78\n"
     ]
    }
   ],
   "source": [
    "# dataloader arguments\n",
    "batch_size = 128\n",
    "data_path='/data/mnist'\n",
    "num_steps=100\n",
    "n_in=28\n",
    "\n",
    "dtype = torch.float\n",
    "#device = torch.device(\"cuda\") if torch.cuda.is_available() else torch.device(\"cpu\")\n",
    "device = 'cpu'\n",
    "\n",
    "# Define a transform\n",
    "transform = transforms.Compose([\n",
    "            transforms.Resize((28, 28)),\n",
    "            transforms.Grayscale(),\n",
    "            transforms.ToTensor(),\n",
    "            transforms.Normalize((0,), (1,))])\n",
    "\n",
    "mnist_train = datasets.MNIST(data_path, train=True, download=True, transform=transform)\n",
    "mnist_test = datasets.MNIST(data_path, train=False, download=True, transform=transform)\n",
    "\n",
    "#subset = 10\n",
    "#mnist_train = utils.data_subset(mnist_train, subset)\n",
    "\n",
    "# Create DataLoaders\n",
    "train_loader = DataLoader(mnist_train, batch_size=batch_size, shuffle=True, drop_last=True)\n",
    "test_loader = DataLoader(mnist_test, batch_size=batch_size, shuffle=True, drop_last=True)\n",
    "\n",
    "print(len(train_loader), len(test_loader))\n"
   ]
  },
  {
   "cell_type": "markdown",
   "metadata": {},
   "source": [
    "DVS data"
   ]
  },
  {
   "cell_type": "code",
   "execution_count": 85,
   "metadata": {},
   "outputs": [
    {
     "name": "stdout",
     "output_type": "stream",
     "text": [
      "(60, 10000, 900) (15, 10000, 900)\n"
     ]
    }
   ],
   "source": [
    "from src.io.psee_loader import PSEELoader\n",
    "\n",
    "import pathlib\n",
    "from glob import glob\n",
    "\n",
    "delta_t = 10000\n",
    "n = 75\n",
    "skip = 100\n",
    "\n",
    "vids = map(PSEELoader, glob(\"Prophesee_Dataset_n_cars/n-cars_train/cars/*_td.dat\"))\n",
    "# height, width = vid.get_size()\n",
    "height, width = 120, 120\n",
    "# vid.seek_time(skip)\n",
    "event_seqs = [next(vids).load_delta_t(delta_t) for _ in range(n)]\n",
    "# N = len(event_seqs)\n",
    "\n",
    "#print(event_seqs[0])\n",
    "\n",
    "dat = np.zeros((n, delta_t, 30, 30),dtype=np.int8)\n",
    "for i,block in enumerate(event_seqs):\n",
    "    for ev in block:\n",
    "        dat[i,ev[0],ev[1]//4,ev[2]//4] = ev[3]\n",
    "# for ev in events:\n",
    "#     dat[ev[0],ev[1],ev[2]] = ev[3]\n",
    "\n",
    "# dat = decimate(dat,4,axis=2)\n",
    "# dat = decimate(dat,4,axis=3)\n",
    "\n",
    "train_data = dat[0:60,:,:,:]\n",
    "test_data  = dat[60:75,:,:,:]\n",
    "\n",
    "train_data = train_data.reshape((train_data.shape[0], train_data.shape[1], -1))\n",
    "test_data = test_data.reshape((test_data.shape[0], test_data.shape[1], -1))\n",
    "\n",
    "print(train_data.shape, test_data.shape)"
   ]
  },
  {
   "cell_type": "code",
   "execution_count": 76,
   "metadata": {},
   "outputs": [],
   "source": [
    "batch_size = 8\n",
    "data_path='/data/mnist'\n",
    "num_steps=100\n",
    "n_in = 30\n",
    "\n",
    "class RegressionDataset(Dataset):\n",
    "    def __init__(self, x,y):\n",
    "        self.x = x\n",
    "        self.y = y\n",
    "\n",
    "    def __len__(self):\n",
    "        return len(self.x)\n",
    "\n",
    "    def __getitem__(self, index):\n",
    "        return self.x[index], self.y[index]\n",
    "\n",
    "train_loader = DataLoader(RegressionDataset(train_data, train_data), batch_size=batch_size)\n",
    "test_loader  = DataLoader(RegressionDataset(test_data, test_data),  batch_size=batch_size)\n"
   ]
  },
  {
   "cell_type": "code",
<<<<<<< HEAD
   "execution_count": 3,
=======
   "execution_count": 97,
>>>>>>> origin/master
   "metadata": {},
   "outputs": [],
   "source": [
    "# Network Architecture\n",
    "num_inputs = n_in*n_in\n",
    "num_hidden = 1000\n",
    "num_outputs = n_in*n_in\n",
    "\n",
    "# Temporal Dynamics\n",
    "num_steps = 25\n",
    "beta = 0.95\n",
    "\n",
    "# Define Network\n",
    "class Net(nn.Module):\n",
    "    def __init__(self):\n",
    "        super().__init__()\n",
    "\n",
    "        # Initialize layers\n",
    "        self.fc1 = nn.Linear(num_inputs, num_hidden)\n",
    "        self.lif1 = snn.Leaky(beta=beta)\n",
    "        self.fc2 = nn.Linear(num_hidden, num_outputs)\n",
    "        self.lif2 = snn.Leaky(beta=beta)\n",
    "\n",
    "    def forward(self, x):\n",
    "\n",
    "        # Initialize hidden states at t=0\n",
    "        mem1 = self.lif1.init_leaky()\n",
    "        mem2 = self.lif2.init_leaky()\n",
    "\n",
    "        # Record the final layer\n",
    "        spk2_rec = []\n",
    "        mem2_rec = []\n",
    "\n",
    "        for step in range(num_steps):\n",
    "            cur1 = self.fc1(x[step])\n",
    "            spk1, mem1 = self.lif1(cur1, mem1)\n",
    "            cur2 = self.fc2(spk1)\n",
    "            spk2, mem2 = self.lif2(cur2, mem2)\n",
    "            spk2_rec.append(spk2)\n",
    "            mem2_rec.append(mem2)\n",
    "        #print(torch.stack(spk2_rec, dim=0))\n",
    "\n",
    "        return torch.stack(spk2_rec, dim=0), torch.stack(mem2_rec, dim=0)\n",
    "\n",
    "# Load the network onto CUDA if available\n",
    "net = Net().to(device)"
   ]
  },
  {
   "cell_type": "code",
<<<<<<< HEAD
   "execution_count": 4,
=======
   "execution_count": 98,
>>>>>>> origin/master
   "metadata": {},
   "outputs": [],
   "source": [
    "def print_batch_accuracy(data, targets, train=False):\n",
    "    output, _ = net(data.view(batch_size, -1))\n",
    "    targets = targets.view(batch_size,-1).numpy()\n",
    "    #_, idx = output.sum(dim=0).max(1)\n",
    "    #_, idx = output.sum(dim=0).max(1)\n",
    "    #acc = np.mean((targets == idx).detach().cpu().numpy())\n",
    "    #print('op',output.shape, targets.shape)\n",
    "    avg_rate_output = output.mean(axis=0).detach().numpy()\n",
    "    acc = np.mean((avg_rate_output - targets)**2)\n",
    "\n",
    "    #acc = np.mean((targets - idx).detach().cpu().numpy())\n",
    "\n",
    "    if train:\n",
    "        print(f\"Train set accuracy for a single minibatch: {acc}\")\n",
    "    else:\n",
    "        print(f\"Test set accuracy for a single minibatch: {acc}\")\n",
    "\n",
    "def train_printer():\n",
    "    print(f\"Epoch {epoch}, Iteration {iter_counter}\")\n",
    "    print(f\"Train Set Loss: {loss_hist[counter]:.2f}\")\n",
    "    print(f\"Test Set Loss: {test_loss_hist[counter]:.2f}\")\n",
    "    print_batch_accuracy(data, targets, train=True)\n",
    "    print_batch_accuracy(test_data, test_targets, train=False)\n",
    "    print(\"\\n\")"
   ]
  },
  {
   "cell_type": "code",
<<<<<<< HEAD
   "execution_count": 6,
=======
   "execution_count": 99,
>>>>>>> origin/master
   "metadata": {},
   "outputs": [],
   "source": [
    "loss = nn.MSELoss()\n",
    "optimizer = torch.optim.Adam(net.parameters(), lr=5e-4, betas=(0.9, 0.999))"
   ]
  },
  {
   "cell_type": "code",
<<<<<<< HEAD
   "execution_count": 6,
=======
   "execution_count": 100,
>>>>>>> origin/master
   "metadata": {},
   "outputs": [
    {
     "name": "stdout",
     "output_type": "stream",
     "text": [
      "torch.Size([128, 1, 28, 28]) torch.Size([128, 784])\n",
      "torch.Size([128, 784]) torch.Size([128, 784])\n",
      "torch.Size([25, 784]) torch.Size([25, 784])\n"
     ]
    },
    {
     "name": "stderr",
     "output_type": "stream",
     "text": [
      "/home/karthik/miniconda3/envs/neuromorphic/lib/python3.9/site-packages/torch/nn/modules/loss.py:520: UserWarning: Using a target size (torch.Size([128, 784])) that is different to the input size (torch.Size([784])). This will likely lead to incorrect results due to broadcasting. Please ensure they have the same size.\n",
      "  return F.mse_loss(input, target, reduction=self.reduction)\n"
     ]
    }
   ],
   "source": [
    "data, targets = next(iter(train_loader))\n",
    "data = data.to(device)\n",
    "targets = data.view(batch_size, -1).to(device)\n",
    "\n",
    "print(data.shape, targets.shape)\n",
    "\n",
    "print(targets.shape, data.view(batch_size, -1).shape)\n",
    "\n",
    "spk_rec, mem_rec = net(data.view(batch_size, -1))\n",
    "print(spk_rec.size(), mem_rec.size())\n",
    "\n",
    "# initialize the total loss value\n",
    "loss_val = torch.zeros((1), dtype=dtype, device=device)\n",
    "\n",
    "# sum loss at every step\n",
    "for step in range(num_steps):\n",
    "  loss_val += loss(mem_rec[step], targets)"
   ]
  },
  {
   "cell_type": "code",
<<<<<<< HEAD
   "execution_count": 8,
=======
   "execution_count": 101,
>>>>>>> origin/master
   "metadata": {},
   "outputs": [],
   "source": [
    "# clear previously stored gradients\n",
    "optimizer.zero_grad()\n",
    "\n",
    "# calculate the gradients\n",
<<<<<<< HEAD
    "#loss_val.backward()\n",
    "\n",
    "# weight update\n",
    "#optimizer.step()"
=======
    "loss_val.backward()\n",
    "\n",
    "# weight update\n",
    "optimizer.step()"
>>>>>>> origin/master
   ]
  },
  {
   "cell_type": "code",
<<<<<<< HEAD
   "execution_count": 9,
=======
   "execution_count": 102,
>>>>>>> origin/master
   "metadata": {},
   "outputs": [
    {
     "name": "stdout",
     "output_type": "stream",
     "text": [
      "Epoch 0, Iteration 0\n",
      "Train Set Loss: 0.11\n",
      "Test Set Loss: 0.11\n",
<<<<<<< HEAD
      "Train set accuracy for a single minibatch: 0.10567966848611832\n",
      "Test set accuracy for a single minibatch: 0.10735976696014404\n",
      "\n",
      "\n",
      "Epoch 0, Iteration 50\n",
      "Train Set Loss: 0.04\n",
      "Test Set Loss: 0.11\n",
      "Train set accuracy for a single minibatch: 0.0757414698600769\n",
      "Test set accuracy for a single minibatch: 0.07291780412197113\n",
      "\n",
      "\n",
      "Epoch 0, Iteration 100\n",
      "Train Set Loss: 0.04\n",
      "Test Set Loss: 0.11\n",
      "Train set accuracy for a single minibatch: 0.08040967583656311\n",
      "Test set accuracy for a single minibatch: 0.074870765209198\n",
      "\n",
      "\n",
      "Epoch 0, Iteration 150\n",
      "Train Set Loss: 0.04\n",
      "Test Set Loss: 0.10\n",
      "Train set accuracy for a single minibatch: 0.0772239938378334\n",
      "Test set accuracy for a single minibatch: 0.07322615385055542\n",
=======
      "Train set accuracy for a single minibatch: 0.11439310014247894\n",
      "Test set accuracy for a single minibatch: 0.11198621243238449\n",
      "\n",
      "\n",
      "Epoch 0, Iteration 50\n",
      "Train Set Loss: 0.03\n",
      "Test Set Loss: 0.10\n",
      "Train set accuracy for a single minibatch: 0.07111428678035736\n",
      "Test set accuracy for a single minibatch: 0.068352609872818\n",
      "\n",
      "\n",
      "Epoch 0, Iteration 100\n",
      "Train Set Loss: 0.03\n",
      "Test Set Loss: 0.10\n",
      "Train set accuracy for a single minibatch: 0.07001602649688721\n",
      "Test set accuracy for a single minibatch: 0.07114724069833755\n",
      "\n",
      "\n",
      "Epoch 0, Iteration 150\n",
      "Train Set Loss: 0.03\n",
      "Test Set Loss: 0.10\n",
      "Train set accuracy for a single minibatch: 0.07155098766088486\n",
      "Test set accuracy for a single minibatch: 0.07240711152553558\n",
>>>>>>> origin/master
      "\n",
      "\n",
      "Epoch 0, Iteration 200\n",
      "Train Set Loss: 0.04\n",
<<<<<<< HEAD
      "Test Set Loss: 0.10\n",
      "Train set accuracy for a single minibatch: 0.07320117205381393\n",
      "Test set accuracy for a single minibatch: 0.07924243062734604\n",
=======
      "Test Set Loss: 0.09\n",
      "Train set accuracy for a single minibatch: 0.07169633358716965\n",
      "Test set accuracy for a single minibatch: 0.07155429571866989\n",
>>>>>>> origin/master
      "\n",
      "\n",
      "Epoch 0, Iteration 250\n",
      "Train Set Loss: 0.04\n",
      "Test Set Loss: 0.10\n",
<<<<<<< HEAD
      "Train set accuracy for a single minibatch: 0.07681018114089966\n",
      "Test set accuracy for a single minibatch: 0.07819581776857376\n",
=======
      "Train set accuracy for a single minibatch: 0.0728718712925911\n",
      "Test set accuracy for a single minibatch: 0.07413629442453384\n",
>>>>>>> origin/master
      "\n",
      "\n",
      "Epoch 0, Iteration 300\n",
      "Train Set Loss: 0.04\n",
      "Test Set Loss: 0.10\n",
<<<<<<< HEAD
      "Train set accuracy for a single minibatch: 0.07598820328712463\n",
      "Test set accuracy for a single minibatch: 0.07863412797451019\n",
      "\n",
      "\n",
      "Epoch 0, Iteration 350\n",
      "Train Set Loss: 0.05\n",
      "Test Set Loss: 0.10\n",
      "Train set accuracy for a single minibatch: 0.07991473376750946\n",
      "Test set accuracy for a single minibatch: 0.07643646001815796\n",
=======
      "Train set accuracy for a single minibatch: 0.07182572036981583\n",
      "Test set accuracy for a single minibatch: 0.0729207992553711\n",
      "\n",
      "\n",
      "Epoch 0, Iteration 350\n",
      "Train Set Loss: 0.04\n",
      "Test Set Loss: 0.10\n",
      "Train set accuracy for a single minibatch: 0.07497385889291763\n",
      "Test set accuracy for a single minibatch: 0.07270851731300354\n",
>>>>>>> origin/master
      "\n",
      "\n",
      "Epoch 0, Iteration 400\n",
      "Train Set Loss: 0.04\n",
<<<<<<< HEAD
      "Test Set Loss: 0.10\n",
      "Train set accuracy for a single minibatch: 0.07473395019769669\n",
      "Test set accuracy for a single minibatch: 0.07773803919553757\n",
=======
      "Test Set Loss: 0.09\n",
      "Train set accuracy for a single minibatch: 0.07548896968364716\n",
      "Test set accuracy for a single minibatch: 0.07134408503770828\n",
>>>>>>> origin/master
      "\n",
      "\n",
      "Epoch 0, Iteration 450\n",
      "Train Set Loss: 0.04\n",
      "Test Set Loss: 0.10\n",
<<<<<<< HEAD
      "Train set accuracy for a single minibatch: 0.07732384651899338\n",
      "Test set accuracy for a single minibatch: 0.07956723123788834\n",
=======
      "Train set accuracy for a single minibatch: 0.07322204113006592\n",
      "Test set accuracy for a single minibatch: 0.07420548051595688\n",
>>>>>>> origin/master
      "\n",
      "\n"
     ]
    }
   ],
   "source": [
    "num_epochs = 1\n",
    "loss_hist = []\n",
    "test_loss_hist = []\n",
    "counter = 0\n",
    "\n",
    "# Outer training loop\n",
    "for epoch in range(num_epochs):\n",
    "    iter_counter = 0\n",
    "    train_batch = iter(train_loader)\n",
    "\n",
    "    # Minibatch training loop\n",
    "    for data, targets in train_batch:\n",
    "        data = data.to(device)\n",
    "        targets = data.to(device)#targets.to(device)\n",
    "        targets = targets.squeeze(1)\n",
    "\n",
    "        # Spiking Data\n",
    "        spike_data = spikegen.rate(data, num_steps=num_steps)\n",
    "        #print(spike_data.shape)\n",
    "\n",
    "        #print(targets.shape)\n",
    "\n",
    "        # forward pass\n",
    "        net.train()\n",
    "        spk_rec, mem_rec = net(spike_data.view(num_steps,batch_size, -1))\n",
    "\n",
    "        #print(spk_rec.shape, mem_rec.shape, data.shape, targets.shape)\n",
    "\n",
    "        # initialize the loss & sum over time\n",
    "        loss_val = torch.zeros((1), dtype=dtype, device=device)\n",
    "        loss_val = loss(spk_rec.mean(axis=0), targets.view(batch_size,-1))\n",
    "        #for step in range(num_steps):\n",
    "            #loss_val += loss(spk_rec[step], targets)\n",
    "\n",
    "        # Gradient calculation + weight update\n",
    "        optimizer.zero_grad()\n",
    "        loss_val.backward()\n",
    "        optimizer.step()\n",
    "\n",
    "        # Store loss history for future plotting\n",
    "        loss_hist.append(loss_val.item())\n",
    "\n",
    "        # Test set\n",
    "        with torch.no_grad():\n",
    "            net.eval()\n",
    "            test_data, test_targets = next(iter(test_loader))\n",
    "            test_data = test_data.to(device)\n",
    "            test_targets = test_data.to(device)#test_targets.to(device)\n",
    "\n",
    "            spike_data_test = spikegen.rate(data, num_steps=num_steps)\n",
    "\n",
    "            # Test set forward pass\n",
    "            test_spk, test_mem = net(spike_data_test.view(num_steps, batch_size, -1))\n",
    "\n",
    "            # Test set loss\n",
    "            test_loss = torch.zeros((1), dtype=dtype, device=device)\n",
    "            test_loss = loss(test_spk.mean(axis=0), test_targets.view(batch_size,-1))\n",
    "            #for step in range(num_steps):\n",
    "                #test_loss += loss(test_mem[step], test_targets)\n",
    "            test_loss_hist.append(test_loss.item())\n",
    "\n",
    "            # Print train/test loss/accuracy\n",
    "            if counter % 50 == 0:\n",
    "                train_printer()\n",
    "            counter += 1\n",
    "            iter_counter +=1"
   ]
  },
  {
   "cell_type": "code",
<<<<<<< HEAD
   "execution_count": 10,
=======
   "execution_count": 28,
>>>>>>> origin/master
   "metadata": {},
   "outputs": [
    {
     "data": {
      "text/plain": [
<<<<<<< HEAD
       "<matplotlib.legend.Legend at 0x7f9577eac1c0>"
      ]
     },
     "execution_count": 10,
=======
       "<matplotlib.legend.Legend at 0x7f5ab8527d30>"
      ]
     },
     "execution_count": 28,
>>>>>>> origin/master
     "metadata": {},
     "output_type": "execute_result"
    },
    {
     "data": {
<<<<<<< HEAD
      "image/png": "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",
=======
      "image/png": "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",
>>>>>>> origin/master
      "text/plain": [
       "<Figure size 432x288 with 1 Axes>"
      ]
     },
     "metadata": {
      "needs_background": "light"
     },
     "output_type": "display_data"
    }
   ],
   "source": [
    "plt.figure()\n",
    "plt.plot(loss_hist, label='train_loss')\n",
    "plt.plot(test_loss_hist, label='test_loss')\n",
    "plt.legend()"
   ]
  },
  {
   "cell_type": "code",
   "execution_count": 30,
   "metadata": {},
   "outputs": [
    {
     "data": {
      "image/png": "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",
      "text/plain": [
       "<Figure size 432x288 with 4 Axes>"
      ]
     },
     "metadata": {
      "needs_background": "light"
     },
     "output_type": "display_data"
    },
    {
     "data": {
      "image/png": "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",
      "text/plain": [
       "<Figure size 432x288 with 4 Axes>"
      ]
     },
     "metadata": {
      "needs_background": "light"
     },
     "output_type": "display_data"
    }
   ],
   "source": [
    "test_data, test_targets = next(iter(test_loader))\n",
    "\n",
    "plt.figure()\n",
    "for i in range(4):\n",
    "    # Integrate through time for each location while displaying final image\n",
    "    dat = test_data[i,:]\n",
    "    dat = spikegen.rate(dat, num_steps=num_steps)\n",
    "    spk_rec, mem_rec = net(dat.view(num_steps, 1, -1))\n",
    "    final_image = spike_int = spk_rec.sum(0)[0].detach().numpy()\n",
    "    #plt.figure()\n",
    "    plt.subplot(2,2,i+1)\n",
    "    plt.imshow(final_image.reshape((28, 28)))\n",
    "    plt.suptitle('Reconstruction')\n",
    "plt.show()\n",
    "\n",
    "plt.figure()\n",
    "for i in range(4):\n",
    "    # Integrate through time for each location while displaying final image\n",
    "    final_image = test_data[i,:].numpy()\n",
    "    #plt.figure()\n",
    "    plt.subplot(2,2,i+1)\n",
    "    plt.imshow(final_image.reshape((28, 28)))\n",
    "    plt.suptitle('original')\n",
    "plt.show()\n",
    "\n",
    "    \n"
   ]
  }
 ],
 "metadata": {
  "interpreter": {
   "hash": "f33ad4317645b163532d34963980873b1273d47e12dd0b5aad2c9d3af0e6882a"
  },
  "kernelspec": {
   "display_name": "Python 3.9.10 ('neuromorphic')",
   "language": "python",
   "name": "python3"
  },
  "language_info": {
   "codemirror_mode": {
    "name": "ipython",
    "version": 3
   },
   "file_extension": ".py",
   "mimetype": "text/x-python",
   "name": "python",
   "nbconvert_exporter": "python",
   "pygments_lexer": "ipython3",
   "version": "3.9.10"
  },
  "orig_nbformat": 4
 },
 "nbformat": 4,
 "nbformat_minor": 2
}
