{
 "cells": [
  {
   "cell_type": "code",
   "execution_count": 2,
   "metadata": {},
   "outputs": [],
   "source": [
    "# imports\n",
    "import snntorch as snn\n",
    "from snntorch import spikeplot as splt\n",
    "from snntorch import spikegen\n",
    "\n",
    "import torch\n",
    "import torch.nn as nn\n",
    "from torch.utils.data import DataLoader, Dataset\n",
    "from torchvision import datasets, transforms\n",
    "\n",
    "import matplotlib.pyplot as plt\n",
    "import numpy as np\n",
    "import itertools\n",
    "from snntorch import utils\n",
    "from snntorch import spikegen"
   ]
  },
  {
   "cell_type": "markdown",
   "metadata": {},
   "source": [
    "DVS data"
   ]
  },
  {
   "cell_type": "code",
   "execution_count": 3,
   "metadata": {},
   "outputs": [
    {
     "name": "stdout",
     "output_type": "stream",
     "text": [
      "(60, 10000, 900) (15, 10000, 900)\n"
     ]
    }
   ],
   "source": [
    "from src.io.psee_loader import PSEELoader\n",
    "\n",
    "import pathlib\n",
    "from glob import glob\n",
    "\n",
    "device = 'cpu'\n",
    "\n",
    "delta_t = 10000\n",
    "n = 75\n",
    "skip = 100\n",
    "n_in = 30\n",
    "\n",
    "vids = map(PSEELoader, glob(\"Prophesee_Dataset_n_cars/n-cars_train/cars/*_td.dat\"))\n",
    "# height, width = vid.get_size()\n",
    "height, width = 120, 120\n",
    "# vid.seek_time(skip)\n",
    "event_seqs = [next(vids).load_delta_t(delta_t) for _ in range(n)]\n",
    "# N = len(event_seqs)\n",
    "\n",
    "#print(event_seqs[0])\n",
    "\n",
    "dat = np.zeros((n, delta_t, 30, 30),dtype=np.int8)\n",
    "for i,block in enumerate(event_seqs):\n",
    "    for ev in block:\n",
    "        dat[i,ev[0],ev[1]//4,ev[2]//4] = ev[3]\n",
    "# for ev in events:\n",
    "#     dat[ev[0],ev[1],ev[2]] = ev[3]\n",
    "\n",
    "# dat = decimate(dat,4,axis=2)\n",
    "# dat = decimate(dat,4,axis=3)\n",
    "\n",
    "train_data = dat[0:60,:,:,:]\n",
    "test_data  = dat[60:75,:,:,:]\n",
    "\n",
    "train_data = train_data.reshape((train_data.shape[0], train_data.shape[1], -1))\n",
    "test_data = test_data.reshape((test_data.shape[0], test_data.shape[1], -1))\n",
    "\n",
    "print(train_data.shape, test_data.shape)"
   ]
  },
  {
   "cell_type": "code",
   "execution_count": 4,
   "metadata": {},
   "outputs": [],
   "source": [
    "batch_size = 4\n",
    "data_path='/data/mnist'\n",
    "num_steps=1000\n",
    "n_in = 30\n",
    "\n",
    "class RegressionDataset(Dataset):\n",
    "    def __init__(self, x,y):\n",
    "        self.x = x\n",
    "        self.y = y\n",
    "\n",
    "    def __len__(self):\n",
    "        return len(self.x)\n",
    "\n",
    "    def __getitem__(self, index):\n",
    "        return self.x[index], self.y[index]\n",
    "\n",
    "train_loader = DataLoader(RegressionDataset(train_data, train_data), batch_size=batch_size)\n",
    "test_loader  = DataLoader(RegressionDataset(test_data, test_data),  batch_size=batch_size)\n"
   ]
  },
  {
   "cell_type": "code",
   "execution_count": 5,
   "metadata": {},
   "outputs": [],
   "source": [
    "# Network Architecture\n",
    "num_inputs = n_in*n_in\n",
    "num_hidden = 64\n",
    "num_outputs = n_in*n_in\n",
    "\n",
    "# Temporal Dynamics\n",
    "num_steps = 10000\n",
    "beta = 0.95\n",
    "\n",
    "# Define Network\n",
    "class Net(nn.Module):\n",
    "    def __init__(self):\n",
    "        super().__init__()\n",
    "\n",
    "        # Initialize layers\n",
    "        self.fc1 = nn.Linear(num_inputs, num_hidden)\n",
    "        self.lif1 = snn.Leaky(beta=beta)\n",
    "        self.fc2 = nn.Linear(num_hidden, num_outputs)\n",
    "        self.lif2 = snn.Leaky(beta=beta)\n",
    "\n",
    "    def forward(self, x):\n",
    "\n",
    "        # Initialize hidden states at t=0\n",
    "        mem1 = self.lif1.init_leaky()\n",
    "        mem2 = self.lif2.init_leaky()\n",
    "\n",
    "        # Record the final layer\n",
    "        spk2_rec = []\n",
    "        mem2_rec = []\n",
    "\n",
    "        for step in range(num_steps):\n",
    "            cur1 = self.fc1(x[step].float())\n",
    "            spk1, mem1 = self.lif1(cur1, mem1)\n",
    "            cur2 = self.fc2(spk1)\n",
    "            spk2, mem2 = self.lif2(cur2, mem2)\n",
    "            spk2_rec.append(spk2)\n",
    "            mem2_rec.append(mem2)\n",
    "        #print(torch.stack(spk2_rec, dim=0))\n",
    "\n",
    "        return torch.stack(spk2_rec, dim=0), torch.stack(mem2_rec, dim=0)\n",
    "\n",
    "# Load the network onto CUDA if available\n",
    "net = Net().to(device)"
   ]
  },
  {
   "cell_type": "code",
   "execution_count": 6,
   "metadata": {},
   "outputs": [],
   "source": [
    "def print_batch_accuracy(data, targets, train=False):\n",
    "    output, _ = net(data.view(batch_size, -1))\n",
    "    targets = targets.view(batch_size,-1).numpy()\n",
    "    #_, idx = output.sum(dim=0).max(1)\n",
    "    #_, idx = output.sum(dim=0).max(1)\n",
    "    #acc = np.mean((targets == idx).detach().cpu().numpy())\n",
    "    #print('op',output.shape, targets.shape)\n",
    "    avg_rate_output = output.mean(axis=0).detach().numpy()\n",
    "    acc = np.mean((avg_rate_output - targets)**2)\n",
    "\n",
    "    #acc = np.mean((targets - idx).detach().cpu().numpy())\n",
    "\n",
    "    if train:\n",
    "        print(f\"Train set accuracy for a single minibatch: {acc}\")\n",
    "    else:\n",
    "        print(f\"Test set accuracy for a single minibatch: {acc}\")\n",
    "\n",
    "def train_printer():\n",
    "    print(f\"Epoch {epoch}, Iteration {iter_counter}\")\n",
    "    print(f\"Train Set Loss: {loss_hist[counter]:.2f}\")\n",
    "    print(f\"Test Set Loss: {test_loss_hist[counter]:.2f}\")\n",
    "    print_batch_accuracy(data, targets, train=True)\n",
    "    print_batch_accuracy(test_data, test_targets, train=False)\n",
    "    print(\"\\n\")"
   ]
  },
  {
   "cell_type": "code",
   "execution_count": 7,
   "metadata": {},
   "outputs": [],
   "source": [
    "loss = nn.MSELoss()\n",
    "optimizer = torch.optim.Adam(net.parameters(), lr=5e-4, betas=(0.9, 0.999))"
   ]
  },
  {
   "cell_type": "code",
   "execution_count": 8,
   "metadata": {},
   "outputs": [
    {
     "name": "stdout",
     "output_type": "stream",
     "text": [
      "torch.Size([10000, 4, 900]) torch.Size([10000, 4, 900])\n",
      "torch.Size([10000, 4, 900]) torch.Size([10000, 4, 900])\n"
     ]
    },
    {
     "ename": "NameError",
     "evalue": "name 'loss_val' is not defined",
     "output_type": "error",
     "traceback": [
      "\u001b[0;31m---------------------------------------------------------------------------\u001b[0m",
      "\u001b[0;31mNameError\u001b[0m                                 Traceback (most recent call last)",
      "\u001b[1;32m/home/karthik/sim_clean/ece_594bb/ece594bb_pl-proj/snn_torch_spike_ip_autoencoder_DVS.ipynb Cell 8'\u001b[0m in \u001b[0;36m<module>\u001b[0;34m\u001b[0m\n\u001b[1;32m     <a href='vscode-notebook-cell://ssh-remote%2B7b22686f73744e616d65223a2267617573732e6563652e756373622e656475222c2275736572223a226b61727468696b227d/home/karthik/sim_clean/ece_594bb/ece594bb_pl-proj/snn_torch_spike_ip_autoencoder_DVS.ipynb#ch0000007vscode-remote?line=11'>12</a>\u001b[0m \u001b[39m# initialize the total loss value\u001b[39;00m\n\u001b[1;32m     <a href='vscode-notebook-cell://ssh-remote%2B7b22686f73744e616d65223a2267617573732e6563652e756373622e656475222c2275736572223a226b61727468696b227d/home/karthik/sim_clean/ece_594bb/ece594bb_pl-proj/snn_torch_spike_ip_autoencoder_DVS.ipynb#ch0000007vscode-remote?line=12'>13</a>\u001b[0m \u001b[39m#loss_val = torch.zeros((1), dtype=dtype, device=device)\u001b[39;00m\n\u001b[1;32m     <a href='vscode-notebook-cell://ssh-remote%2B7b22686f73744e616d65223a2267617573732e6563652e756373622e656475222c2275736572223a226b61727468696b227d/home/karthik/sim_clean/ece_594bb/ece594bb_pl-proj/snn_torch_spike_ip_autoencoder_DVS.ipynb#ch0000007vscode-remote?line=13'>14</a>\u001b[0m \n\u001b[1;32m     <a href='vscode-notebook-cell://ssh-remote%2B7b22686f73744e616d65223a2267617573732e6563652e756373622e656475222c2275736572223a226b61727468696b227d/home/karthik/sim_clean/ece_594bb/ece594bb_pl-proj/snn_torch_spike_ip_autoencoder_DVS.ipynb#ch0000007vscode-remote?line=14'>15</a>\u001b[0m \u001b[39m# sum loss at every step\u001b[39;00m\n\u001b[1;32m     <a href='vscode-notebook-cell://ssh-remote%2B7b22686f73744e616d65223a2267617573732e6563652e756373622e656475222c2275736572223a226b61727468696b227d/home/karthik/sim_clean/ece_594bb/ece594bb_pl-proj/snn_torch_spike_ip_autoencoder_DVS.ipynb#ch0000007vscode-remote?line=15'>16</a>\u001b[0m \u001b[39mfor\u001b[39;00m step \u001b[39min\u001b[39;00m \u001b[39mrange\u001b[39m(num_steps):\n\u001b[0;32m---> <a href='vscode-notebook-cell://ssh-remote%2B7b22686f73744e616d65223a2267617573732e6563652e756373622e656475222c2275736572223a226b61727468696b227d/home/karthik/sim_clean/ece_594bb/ece594bb_pl-proj/snn_torch_spike_ip_autoencoder_DVS.ipynb#ch0000007vscode-remote?line=16'>17</a>\u001b[0m   loss_val \u001b[39m+\u001b[39m\u001b[39m=\u001b[39m loss(mem_rec[step], targets)\n",
      "\u001b[0;31mNameError\u001b[0m: name 'loss_val' is not defined"
     ]
    }
   ],
   "source": [
    "num_steps=10000\n",
    "\n",
    "data, targets = next(iter(train_loader))\n",
    "data = data.view(num_steps, batch_size, -1).to(device)\n",
    "targets = data.view(num_steps, batch_size, -1).to(device)\n",
    "\n",
    "print(data.shape, targets.shape)\n",
    "\n",
    "spk_rec, mem_rec = net(data.view(num_steps, batch_size, -1))\n",
    "print(spk_rec.size(), mem_rec.size())\n",
    "\n",
    "# initialize the total loss value\n",
    "#loss_val = torch.zeros((1), dtype=dtype, device=device)\n",
    "\n",
    "# sum loss at every step\n",
    "for step in range(num_steps):\n",
    "  loss_val += loss(mem_rec[step], targets)"
   ]
  },
  {
   "cell_type": "code",
   "execution_count": 9,
   "metadata": {},
   "outputs": [],
   "source": [
    "# clear previously stored gradients\n",
    "optimizer.zero_grad()\n",
    "\n",
    "# calculate the gradients\n",
    "#loss_val.backward()\n",
    "\n",
    "# weight update\n",
    "#optimizer.step()"
   ]
  },
  {
   "cell_type": "code",
   "execution_count": 10,
   "metadata": {},
   "outputs": [
    {
     "name": "stdout",
     "output_type": "stream",
     "text": [
      "torch.Size([10000, 4, 900])\n",
      "torch.Size([10000, 4, 900]) torch.Size([4, 900])\n",
      "torch.Size([10000, 4, 900])\n",
      "torch.Size([10000, 4, 900]) torch.Size([4, 900])\n",
      "torch.Size([10000, 4, 900])\n",
      "torch.Size([10000, 4, 900]) torch.Size([4, 900])\n",
      "torch.Size([10000, 4, 900])\n",
      "torch.Size([10000, 4, 900]) torch.Size([4, 900])\n",
      "torch.Size([10000, 4, 900])\n",
      "torch.Size([10000, 4, 900]) torch.Size([4, 900])\n",
      "torch.Size([10000, 4, 900])\n",
      "torch.Size([10000, 4, 900]) torch.Size([4, 900])\n",
      "torch.Size([10000, 4, 900])\n",
      "torch.Size([10000, 4, 900]) torch.Size([4, 900])\n",
      "torch.Size([10000, 4, 900])\n",
      "torch.Size([10000, 4, 900]) torch.Size([4, 900])\n",
      "torch.Size([10000, 4, 900])\n",
      "torch.Size([10000, 4, 900]) torch.Size([4, 900])\n",
      "torch.Size([10000, 4, 900])\n",
      "torch.Size([10000, 4, 900]) torch.Size([4, 900])\n",
      "torch.Size([10000, 4, 900])\n",
      "torch.Size([10000, 4, 900]) torch.Size([4, 900])\n",
      "torch.Size([10000, 4, 900])\n",
      "torch.Size([10000, 4, 900]) torch.Size([4, 900])\n",
      "torch.Size([10000, 4, 900])\n",
      "torch.Size([10000, 4, 900]) torch.Size([4, 900])\n",
      "torch.Size([10000, 4, 900])\n",
      "torch.Size([10000, 4, 900]) torch.Size([4, 900])\n",
      "torch.Size([10000, 4, 900])\n",
      "torch.Size([10000, 4, 900]) torch.Size([4, 900])\n"
     ]
    }
   ],
   "source": [
    "num_epochs = 1\n",
    "loss_hist = []\n",
    "test_loss_hist = []\n",
    "counter = 0\n",
    "\n",
    "# Outer training loop\n",
    "for epoch in range(num_epochs):\n",
    "    iter_counter = 0\n",
    "    train_batch = iter(train_loader)\n",
    "\n",
    "    # Minibatch training loop\n",
    "    for data, targets in train_batch:\n",
    "        data = data.to(device)\n",
    "        targets = data.to(device)#targets.to(device)\n",
    "        targets = targets.squeeze(1).view(num_steps,batch_size, -1).float().mean(axis=0)\n",
    "\n",
    "        spike_data = data\n",
    "\n",
    "        # Spiking Data\n",
    "        #spike_data = spikegen.rate(data, num_steps=num_steps)\n",
    "        #print(spike_data.shape)\n",
    "\n",
    "        #print(targets.shape)\n",
    "\n",
    "        # forward pass\n",
    "        print(spike_data.view(num_steps,batch_size, -1).shape)\n",
    "        net.train()\n",
    "        spk_rec, mem_rec = net(spike_data.view(num_steps,batch_size, -1))\n",
    "\n",
    "        print(spk_rec.shape, targets.shape)\n",
    "\n",
    "        #print(spk_rec.shape, mem_rec.shape, data.shape, targets.shape)\n",
    "\n",
    "        # initialize the loss & sum over time\n",
    "        #loss_val = torch.zeros((1), dtype=dtype, device=device)\n",
    "        loss_val = loss(spk_rec.mean(axis=0), targets.view(batch_size,-1))\n",
    "        #for step in range(num_steps):\n",
    "            #loss_val += loss(spk_rec[step], targets)\n",
    "\n",
    "        # Gradient calculation + weight update\n",
    "        optimizer.zero_grad()\n",
    "        loss_val.backward()\n",
    "        optimizer.step()\n",
    "\n",
    "        # Store loss history for future plotting\n",
    "        loss_hist.append(loss_val.item())\n",
    "\n",
    "        # Test set\n",
    "        with torch.no_grad():\n",
    "            net.eval()\n",
    "            test_data, test_targets = next(iter(test_loader))\n",
    "            test_data = test_data.to(device)\n",
    "            test_targets = test_data.to(device)#test_targets.to(device)\n",
    "            test_targets = test_targets.view(num_steps,batch_size, -1).float().mean(axis=0)\n",
    "\n",
    "            spike_data_test = test_data\n",
    "\n",
    "            #spike_data_test = spikegen.rate(data, num_steps=num_steps)\n",
    "\n",
    "            # Test set forward pass\n",
    "            test_spk, test_mem = net(spike_data_test.view(num_steps, batch_size, -1))\n",
    "\n",
    "            # Test set loss\n",
    "            #test_loss = torch.zeros((1), dtype=dtype, device=device)\n",
    "            test_loss = loss(test_spk.mean(axis=0), test_targets.view(batch_size,-1))\n",
    "            #for step in range(num_steps):\n",
    "                #test_loss += loss(test_mem[step], test_targets)\n",
    "            test_loss_hist.append(test_loss.item())\n",
    "\n",
    "            # Print train/test loss/accuracy\n",
    "            '''if counter % 50 == 0:\n",
    "                train_printer()'''\n",
    "            counter += 1\n",
    "            iter_counter +=1"
   ]
  },
  {
   "cell_type": "code",
   "execution_count": 11,
   "metadata": {},
   "outputs": [
    {
     "data": {
      "text/plain": [
       "<matplotlib.legend.Legend at 0x7f1bfe6ed790>"
      ]
     },
     "execution_count": 11,
     "metadata": {},
     "output_type": "execute_result"
    },
    {
     "data": {
      "image/png": "[encoded data removed]",
      "text/plain": [
       "<Figure size 432x288 with 1 Axes>"
      ]
     },
     "metadata": {
      "needs_background": "light"
     },
     "output_type": "display_data"
    }
   ],
   "source": [
    "plt.figure()\n",
    "plt.plot(loss_hist, label='train_loss')\n",
    "plt.plot(test_loss_hist, label='test_loss')\n",
    "plt.legend()"
   ]
  },
  {
   "cell_type": "code",
   "execution_count": 64,
   "metadata": {},
   "outputs": [
    {
     "name": "stdout",
     "output_type": "stream",
     "text": [
      "torch.Size([4, 10000, 900])\n",
      "torch.Size([4, 10000, 900])\n",
      "torch.Size([4, 10000, 900])\n",
      "torch.Size([4, 10000, 900])\n"
     ]
    },
    {
     "data": {
      "image/png": "[encoded data removed]",
      "text/plain": [
       "<Figure size 432x288 with 4 Axes>"
      ]
     },
     "metadata": {
      "needs_background": "light"
     },
     "output_type": "display_data"
    },
    {
     "data": {
      "image/png": "[encoded data removed]",
      "text/plain": [
       "<Figure size 432x288 with 4 Axes>"
      ]
     },
     "metadata": {
      "needs_background": "light"
     },
     "output_type": "display_data"
    }
   ],
   "source": [
    "test_data, test_targets = next(iter(test_loader))\n",
    "\n",
    "plt.figure()\n",
    "for i in range(1):\n",
    "    # Integrate through time for each location while displaying final image\n",
    "    dat = test_data[i,:]\n",
    "    print(test_data.shape)\n",
    "    #dat = spikegen.rate(dat, num_steps=num_steps)\n",
    "    spk_rec, mem_rec = net(dat.view(num_steps, 1, -1))\n",
    "    final_image = spk_rec.sum(0)[0].detach().numpy()\n",
    "    #plt.figure()\n",
    "    plt.subplot(2,2,i+1)\n",
    "    plt.imshow(final_image.reshape((30, 30)))\n",
    "    plt.suptitle('Reconstruction')\n",
    "plt.show()\n",
    "\n",
    "plt.figure(1)\n",
    "for i in range(1):\n",
    "    # Integrate through time for each location while displaying final image\n",
    "    final_image = test_data[i,:].float().mean(axis=0).numpy()\n",
    "    #plt.figure()\n",
    "    plt.subplot(2,2,i+1)\n",
    "    plt.imshow(final_image.reshape((30, 30)))\n",
    "    plt.suptitle('original')\n",
    "plt.show()\n",
    "  \n"
   ]
  }
 ],
 "metadata": {
  "interpreter": {
   "hash": "f33ad4317645b163532d34963980873b1273d47e12dd0b5aad2c9d3af0e6882a"
  },
  "kernelspec": {
   "display_name": "Python 3.9.10 ('neuromorphic')",
   "language": "python",
   "name": "python3"
  },
  "language_info": {
   "codemirror_mode": {
    "name": "ipython",
    "version": 3
   },
   "file_extension": ".py",
   "mimetype": "text/x-python",
   "name": "python",
   "nbconvert_exporter": "python",
   "pygments_lexer": "ipython3",
   "version": "3.9.10"
  },
  "orig_nbformat": 4
 },
 "nbformat": 4,
 "nbformat_minor": 2
}
