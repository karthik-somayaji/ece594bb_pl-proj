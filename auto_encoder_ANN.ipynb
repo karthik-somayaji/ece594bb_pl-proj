{
 "cells": [
  {
   "cell_type": "code",
   "execution_count": 1,
   "metadata": {},
   "outputs": [],
   "source": [
    "%matplotlib inline\n",
    "\n",
    "import warnings\n",
    "\n",
    "import matplotlib.pyplot as plt\n",
    "import nengo\n",
    "from nengo.utils.matplotlib import rasterplot\n",
    "import numpy as np\n",
    "import tensorflow as tf\n",
    "\n",
    "import nengo_dl\n",
    "\n",
    "\n",
    "warnings.simplefilter(\"ignore\")\n",
    "tf.get_logger().addFilter(lambda rec: \"Tracing is expensive\" not in rec.msg)"
   ]
  },
  {
   "cell_type": "code",
   "execution_count": 2,
   "metadata": {},
   "outputs": [
    {
     "name": "stdout",
     "output_type": "stream",
     "text": [
      "(60000, 784)\n"
     ]
    }
   ],
   "source": [
    "# download MNIST dataset\n",
    "(train_data, _), (test_data, _) = tf.keras.datasets.mnist.load_data()\n",
    "# flatten images\n",
    "train_data = train_data.reshape((train_data.shape[0], -1))\n",
    "test_data = test_data.reshape((test_data.shape[0], -1))\n",
    "\n",
    "n_epochs = 2\n",
    "n_in = train_data.shape[1]\n",
    "\n",
    "print(train_data.shape)"
   ]
  },
  {
   "cell_type": "markdown",
   "metadata": {},
   "source": [
    "Tensorflow Implementation of Autoencoder"
   ]
  },
  {
   "cell_type": "code",
   "execution_count": 3,
   "metadata": {},
   "outputs": [],
   "source": [
    "import tensorflow as tf\n",
    "n_hidden = 64\n",
    "minibatch_size = 50\n",
    "\n",
    "class auto_enc_tf(tf.keras.Model):\n",
    "\n",
    "  def __init__(self):\n",
    "    super().__init__()\n",
    "    self.dense1 = tf.keras.layers.Dense(n_hidden, activation=tf.nn.relu)\n",
    "    self.dense2 = tf.keras.layers.Dense(n_in, activation=tf.nn.relu)\n",
    "\n",
    "  def call(self, inputs):\n",
    "    x = self.dense1(inputs)\n",
    "    return self.dense2(x)\n",
    "\n",
    "  def hidden_rep(self, inputs):\n",
    "    x = self.dense1(inputs)\n",
    "    y = self.dense2(x)\n",
    "    return x,y"
   ]
  },
  {
   "cell_type": "code",
   "execution_count": 4,
   "metadata": {},
   "outputs": [
    {
     "name": "stdout",
     "output_type": "stream",
     "text": [
      "Epoch 1/2\n",
      "1200/1200 [==============================] - 2s 954us/step - loss: 1394.7910\n",
      "Epoch 2/2\n",
      "1200/1200 [==============================] - 1s 926us/step - loss: 954.1101\n",
      "313/313 [==============================] - 0s 647us/step - loss: 883.2199\n"
     ]
    },
    {
     "data": {
      "image/png": "[encoded data removed]",
      "text/plain": [
       "<Figure size 432x288 with 1 Axes>"
      ]
     },
     "metadata": {
      "needs_background": "light"
     },
     "output_type": "display_data"
    }
   ],
   "source": [
    "model = auto_enc_tf()\n",
    "model.compile(optimizer=tf.optimizers.RMSprop(1e-3), loss=tf.losses.mse)\n",
    "\n",
    "# run training loop\n",
    "model.fit(train_data, train_data, epochs=n_epochs, batch_size=minibatch_size)\n",
    "\n",
    "# evaluate performance on test set\n",
    "model.evaluate(test_data, test_data)\n",
    "\n",
    "# display example output\n",
    "output = model.predict(test_data[[0]])\n",
    "plt.figure()\n",
    "plt.imshow(output[0].reshape((28, 28)))\n",
    "plt.show()\n"
   ]
  },
  {
   "cell_type": "markdown",
   "metadata": {},
   "source": [
    "Get hidden latent representation of normal 1 hidden layer ANN auto-encoder"
   ]
  },
  {
   "cell_type": "code",
   "execution_count": 5,
   "metadata": {},
   "outputs": [
    {
     "data": {
      "image/png": "[encoded data removed]",
      "text/plain": [
       "<Figure size 432x288 with 1 Axes>"
      ]
     },
     "metadata": {
      "needs_background": "light"
     },
     "output_type": "display_data"
    },
    {
     "name": "stdout",
     "output_type": "stream",
     "text": [
      "Mean of the hidden space rep: 0.09524098\n"
     ]
    }
   ],
   "source": [
    "hidden_rep = model.hidden_rep(test_data[[0]])\n",
    "plt.figure()\n",
    "plt.imshow(hidden_rep[0].numpy().reshape((8, 8)))\n",
    "plt.show()\n",
    "\n",
    "hidden_rep = hidden_rep[0].numpy()\n",
    "norm = np.linalg.norm(hidden_rep)\n",
    "hidden_rep = hidden_rep/norm\n",
    "print('Mean of the hidden space rep:', hidden_rep.mean())"
   ]
  }
 ],
 "metadata": {
  "interpreter": {
   "hash": "f33ad4317645b163532d34963980873b1273d47e12dd0b5aad2c9d3af0e6882a"
  },
  "kernelspec": {
   "display_name": "Python 3.9.10 ('neuromorphic')",
   "language": "python",
   "name": "python3"
  },
  "language_info": {
   "codemirror_mode": {
    "name": "ipython",
    "version": 3
   },
   "file_extension": ".py",
   "mimetype": "text/x-python",
   "name": "python",
   "nbconvert_exporter": "python",
   "pygments_lexer": "ipython3",
   "version": "3.9.10"
  },
  "orig_nbformat": 4
 },
 "nbformat": 4,
 "nbformat_minor": 2
}
