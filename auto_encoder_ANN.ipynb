{
 "cells": [
  {
   "cell_type": "code",
   "execution_count": 1,
   "metadata": {},
   "outputs": [],
   "source": [
    "%matplotlib inline\n",
    "\n",
    "import warnings\n",
    "\n",
    "import matplotlib.pyplot as plt\n",
    "import nengo\n",
    "from nengo.utils.matplotlib import rasterplot\n",
    "import numpy as np\n",
    "import tensorflow as tf\n",
    "\n",
    "import nengo_dl\n",
    "\n",
    "\n",
    "warnings.simplefilter(\"ignore\")\n",
    "tf.get_logger().addFilter(lambda rec: \"Tracing is expensive\" not in rec.msg)"
   ]
  },
  {
   "cell_type": "code",
   "execution_count": 2,
   "metadata": {},
   "outputs": [
    {
     "name": "stdout",
     "output_type": "stream",
     "text": [
      "(60000, 784)\n"
     ]
    }
   ],
   "source": [
    "# download MNIST dataset\n",
    "(train_data, _), (test_data, _) = tf.keras.datasets.mnist.load_data()\n",
    "# flatten images\n",
    "train_data = train_data.reshape((train_data.shape[0], -1))\n",
    "test_data = test_data.reshape((test_data.shape[0], -1))\n",
    "\n",
    "n_epochs = 2\n",
    "n_in = train_data.shape[1]\n",
    "\n",
    "print(train_data.shape)"
   ]
  },
  {
   "cell_type": "markdown",
   "metadata": {},
   "source": [
    "Prophesee dataset"
   ]
  },
  {
   "cell_type": "code",
   "execution_count": 3,
   "metadata": {},
   "outputs": [],
   "source": [
    "from src.io.psee_loader import PSEELoader\n",
    "\n",
    "import pathlib\n",
    "from glob import glob"
   ]
  },
  {
   "cell_type": "code",
   "execution_count": 4,
   "metadata": {},
   "outputs": [
    {
     "name": "stdout",
     "output_type": "stream",
     "text": [
      "(60, 10000, 900) (15, 10000, 900)\n"
     ]
    }
   ],
   "source": [
    "delta_t = 10000\n",
    "n = 75\n",
    "skip = 100\n",
    "\n",
    "vids = map(PSEELoader, glob(\"Prophesee_Dataset_n_cars/n-cars_train/cars/*_td.dat\"))\n",
    "# height, width = vid.get_size()\n",
    "height, width = 120, 120\n",
    "# vid.seek_time(skip)\n",
    "event_seqs = [next(vids).load_delta_t(delta_t) for _ in range(n)]\n",
    "# N = len(event_seqs)\n",
    "\n",
    "#print(event_seqs[0])\n",
    "\n",
    "dat = np.zeros((n, delta_t, 30, 30),dtype=np.int8)\n",
    "for i,block in enumerate(event_seqs):\n",
    "    for ev in block:\n",
    "        dat[i,ev[0],ev[1]//4,ev[2]//4] = ev[3]\n",
    "# for ev in events:\n",
    "#     dat[ev[0],ev[1],ev[2]] = ev[3]\n",
    "\n",
    "# dat = decimate(dat,4,axis=2)\n",
    "# dat = decimate(dat,4,axis=3)\n",
    "\n",
    "train_data = dat[0:60,:,:,:]\n",
    "test_data  = dat[60:75,:,:,:]\n",
    "\n",
    "train_data = train_data.reshape((train_data.shape[0], train_data.shape[1], -1))\n",
    "test_data = test_data.reshape((test_data.shape[0], test_data.shape[1], -1))\n",
    "\n",
    "print(train_data.shape, test_data.shape)"
   ]
  },
  {
   "cell_type": "markdown",
   "metadata": {},
   "source": [
    "Tensorflow Implementation of Autoencoder"
   ]
  },
  {
   "cell_type": "code",
   "execution_count": 12,
   "metadata": {},
   "outputs": [],
   "source": [
    "import tensorflow as tf\n",
    "n_hidden = 64\n",
    "minibatch_size = 8\n",
    "n_in = 900\n",
    "n_epochs=10\n",
    "\n",
    "class auto_enc_tf(tf.keras.Model):\n",
    "\n",
    "  def __init__(self):\n",
    "    super().__init__()\n",
    "    self.dense1 = tf.keras.layers.Dense(n_hidden, activation=tf.nn.relu)\n",
    "    self.dense2 = tf.keras.layers.Dense(n_in, activation=tf.nn.relu)\n",
    "\n",
    "  def call(self, inputs):\n",
    "    x = self.dense1(inputs)\n",
    "    return self.dense2(x)\n",
    "\n",
    "  def hidden_rep(self, inputs):\n",
    "    x = self.dense1(inputs)\n",
    "    y = self.dense2(x)\n",
    "    return x,y"
   ]
  },
  {
   "cell_type": "code",
   "execution_count": 13,
   "metadata": {},
   "outputs": [
    {
     "name": "stdout",
     "output_type": "stream",
     "text": [
      "Epoch 1/10\n",
      "8/8 [==============================] - 1s 27ms/step - loss: 2.6265e-05\n",
      "Epoch 2/10\n",
      "8/8 [==============================] - 0s 28ms/step - loss: 2.5760e-05\n",
      "Epoch 3/10\n",
      "8/8 [==============================] - 0s 26ms/step - loss: 2.5632e-05\n",
      "Epoch 4/10\n",
      "8/8 [==============================] - 0s 25ms/step - loss: 2.5573e-05\n",
      "Epoch 5/10\n",
      "8/8 [==============================] - 0s 26ms/step - loss: 2.5531e-05\n",
      "Epoch 6/10\n",
      "8/8 [==============================] - 0s 25ms/step - loss: 2.5498e-05\n",
      "Epoch 7/10\n",
      "8/8 [==============================] - 0s 26ms/step - loss: 2.5470e-05\n",
      "Epoch 8/10\n",
      "8/8 [==============================] - 0s 25ms/step - loss: 2.5443e-05\n",
      "Epoch 9/10\n",
      "8/8 [==============================] - 0s 26ms/step - loss: 2.5416e-05\n",
      "Epoch 10/10\n",
      "8/8 [==============================] - 0s 26ms/step - loss: 2.5390e-05\n",
      "INFO:tensorflow:Assets written to: ANN_prophesee/assets\n"
     ]
    }
   ],
   "source": [
    "model = auto_enc_tf()\n",
    "model.compile(optimizer=tf.optimizers.RMSprop(1e-3), loss=tf.losses.mse)\n",
    "\n",
    "# run training loop\n",
    "model.fit(train_data, train_data, epochs=n_epochs, batch_size=minibatch_size)\n",
    "\n",
    "# evaluate performance on test set\n",
    "#model.evaluate(test_data, test_data)\n",
    "\n",
    "# display example output\n",
    "'''output = model.predict(test_data[[0]])\n",
    "plt.figure()\n",
    "plt.imshow(output[0].reshape((28, 28)))\n",
    "plt.show()'''\n",
    "model.save('ANN_prophesee')\n"
   ]
  },
  {
   "cell_type": "markdown",
   "metadata": {},
   "source": [
    "Get hidden latent representation of normal 1 hidden layer ANN auto-encoder"
   ]
  },
  {
   "cell_type": "code",
   "execution_count": 5,
   "metadata": {},
   "outputs": [
    {
     "data": {
      "image/png": "[encoded data removed]",
      "text/plain": [
       "<Figure size 432x288 with 1 Axes>"
      ]
     },
     "metadata": {
      "needs_background": "light"
     },
     "output_type": "display_data"
    },
    {
     "name": "stdout",
     "output_type": "stream",
     "text": [
      "Mean of the hidden space rep: 0.09524098\n"
     ]
    }
   ],
   "source": [
    "'''hidden_rep = model.hidden_rep(test_data[[0]])\n",
    "plt.figure()\n",
    "plt.imshow(hidden_rep[0].numpy().reshape((8, 8)))\n",
    "plt.show()\n",
    "\n",
    "hidden_rep = hidden_rep[0].numpy()\n",
    "norm = np.linalg.norm(hidden_rep)\n",
    "hidden_rep = hidden_rep/norm\n",
    "print('Mean of the hidden space rep:', hidden_rep.mean())'''"
   ]
  },
  {
   "cell_type": "code",
   "execution_count": 25,
   "metadata": {},
   "outputs": [
    {
     "data": {
      "image/png": "[encoded data removed]",
      "text/plain": [
       "<Figure size 432x288 with 1 Axes>"
      ]
     },
     "metadata": {
      "needs_background": "light"
     },
     "output_type": "display_data"
    },
    {
     "data": {
      "image/png": "[encoded data removed]",
      "text/plain": [
       "<Figure size 432x288 with 1 Axes>"
      ]
     },
     "metadata": {
      "needs_background": "light"
     },
     "output_type": "display_data"
    }
   ],
   "source": [
    "    # Integrate through time for each location while displaying final image\n",
    "    final_image = model.predict(train_data[3]).sum(0).reshape((30,30))\n",
    "    plt.figure()\n",
    "    plt.imshow(final_image)\n",
    "    plt.title('Reconstruction')\n",
    "    plt.show()\n",
    "\n",
    "    input_image = train_data[3].sum(0)\n",
    "    plt.figure()\n",
    "    plt.imshow(input_image.reshape((30, 30)))\n",
    "    plt.title('Original')\n",
    "    plt.show()"
   ]
  }
 ],
 "metadata": {
  "interpreter": {
   "hash": "f33ad4317645b163532d34963980873b1273d47e12dd0b5aad2c9d3af0e6882a"
  },
  "kernelspec": {
   "display_name": "Python 3.9.10 ('neuromorphic')",
   "language": "python",
   "name": "python3"
  },
  "language_info": {
   "codemirror_mode": {
    "name": "ipython",
    "version": 3
   },
   "file_extension": ".py",
   "mimetype": "text/x-python",
   "name": "python",
   "nbconvert_exporter": "python",
   "pygments_lexer": "ipython3",
   "version": "3.9.10"
  },
  "orig_nbformat": 4
 },
 "nbformat": 4,
 "nbformat_minor": 2
}
