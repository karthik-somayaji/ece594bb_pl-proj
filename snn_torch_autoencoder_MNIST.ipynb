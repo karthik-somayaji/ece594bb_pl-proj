{
 "cells": [
  {
   "cell_type": "code",
   "execution_count": 9,
   "metadata": {},
   "outputs": [],
   "source": [
    "# imports\n",
    "import snntorch as snn\n",
    "from snntorch import spikeplot as splt\n",
    "from snntorch import spikegen\n",
    "\n",
    "import torch\n",
    "import torch.nn as nn\n",
    "from torch.utils.data import DataLoader\n",
    "from torchvision import datasets, transforms\n",
    "\n",
    "import matplotlib.pyplot as plt\n",
    "import numpy as np\n",
    "import itertools\n",
    "from snntorch import utils"
   ]
  },
  {
   "cell_type": "markdown",
   "metadata": {},
   "source": [
    "MNIST Data"
   ]
  },
  {
   "cell_type": "code",
   "execution_count": 12,
   "metadata": {},
   "outputs": [
    {
     "name": "stdout",
     "output_type": "stream",
     "text": [
      "468 78\n"
     ]
    }
   ],
   "source": [
    "# dataloader arguments\n",
    "batch_size = 128\n",
    "data_path='/data/mnist'\n",
    "\n",
    "dtype = torch.float\n",
    "#device = torch.device(\"cuda\") if torch.cuda.is_available() else torch.device(\"cpu\")\n",
    "device = 'cpu'\n",
    "\n",
    "# Define a transform\n",
    "transform = transforms.Compose([\n",
    "            transforms.Resize((28, 28)),\n",
    "            transforms.Grayscale(),\n",
    "            transforms.ToTensor(),\n",
    "            transforms.Normalize((0,), (1,))])\n",
    "\n",
    "mnist_train = datasets.MNIST(data_path, train=True, download=True, transform=transform)\n",
    "mnist_test = datasets.MNIST(data_path, train=False, download=True, transform=transform)\n",
    "\n",
    "#subset = 10\n",
    "#mnist_train = utils.data_subset(mnist_train, subset)\n",
    "\n",
    "# Create DataLoaders\n",
    "train_loader = DataLoader(mnist_train, batch_size=batch_size, shuffle=True, drop_last=True)\n",
    "test_loader = DataLoader(mnist_test, batch_size=batch_size, shuffle=True, drop_last=True)\n",
    "\n",
    "print(len(train_loader), len(test_loader))"
   ]
  },
  {
   "cell_type": "markdown",
   "metadata": {},
   "source": [
    "DVS data"
   ]
  },
  {
   "cell_type": "code",
   "execution_count": 11,
   "metadata": {},
   "outputs": [
    {
     "name": "stdout",
     "output_type": "stream",
     "text": [
      "(60, 10000, 900) (15, 10000, 900)\n"
     ]
    }
   ],
   "source": [
    "from src.io.psee_loader import PSEELoader\n",
    "\n",
    "import pathlib\n",
    "from glob import glob\n",
    "\n",
    "delta_t = 10000\n",
    "n = 75\n",
    "skip = 100\n",
    "\n",
    "vids = map(PSEELoader, glob(\"Prophesee_Dataset_n_cars/n-cars_train/cars/*_td.dat\"))\n",
    "# height, width = vid.get_size()\n",
    "height, width = 120, 120\n",
    "# vid.seek_time(skip)\n",
    "event_seqs = [next(vids).load_delta_t(delta_t) for _ in range(n)]\n",
    "# N = len(event_seqs)\n",
    "\n",
    "#print(event_seqs[0])\n",
    "\n",
    "dat = np.zeros((n, delta_t, 30, 30),dtype=np.int8)\n",
    "for i,block in enumerate(event_seqs):\n",
    "    for ev in block:\n",
    "        dat[i,ev[0],ev[1]//4,ev[2]//4] = ev[3]\n",
    "# for ev in events:\n",
    "#     dat[ev[0],ev[1],ev[2]] = ev[3]\n",
    "\n",
    "# dat = decimate(dat,4,axis=2)\n",
    "# dat = decimate(dat,4,axis=3)\n",
    "\n",
    "train_data = dat[0:60,:,:,:]\n",
    "test_data  = dat[60:75,:,:,:]\n",
    "\n",
    "train_data = train_data.reshape((train_data.shape[0], train_data.shape[1], -1))\n",
    "test_data = test_data.reshape((test_data.shape[0], test_data.shape[1], -1))\n",
    "\n",
    "print(train_data.shape, test_data.shape)"
   ]
  },
  {
   "cell_type": "code",
   "execution_count": 13,
   "metadata": {},
   "outputs": [],
   "source": [
    "# Network Architecture\n",
    "num_inputs = 28*28\n",
    "num_hidden = 1000\n",
    "num_outputs = 28*28\n",
    "\n",
    "# Temporal Dynamics\n",
    "num_steps = 25\n",
    "beta = 0.95\n",
    "\n",
    "# Define Network\n",
    "class Net(nn.Module):\n",
    "    def __init__(self):\n",
    "        super().__init__()\n",
    "\n",
    "        # Initialize layers\n",
    "        self.fc1 = nn.Linear(num_inputs, num_hidden)\n",
    "        self.lif1 = snn.Leaky(beta=beta)\n",
    "        self.fc2 = nn.Linear(num_hidden, num_outputs)\n",
    "        self.lif2 = snn.Leaky(beta=beta)\n",
    "\n",
    "    def forward(self, x):\n",
    "\n",
    "        # Initialize hidden states at t=0\n",
    "        mem1 = self.lif1.init_leaky()\n",
    "        mem2 = self.lif2.init_leaky()\n",
    "\n",
    "        # Record the final layer\n",
    "        spk2_rec = []\n",
    "        mem2_rec = []\n",
    "\n",
    "        for step in range(num_steps):\n",
    "            cur1 = self.fc1(x)\n",
    "            spk1, mem1 = self.lif1(cur1, mem1)\n",
    "            cur2 = self.fc2(spk1)\n",
    "            spk2, mem2 = self.lif2(cur2, mem2)\n",
    "            spk2_rec.append(spk2)\n",
    "            mem2_rec.append(mem2)\n",
    "        #print(torch.stack(spk2_rec, dim=0))\n",
    "\n",
    "        return torch.stack(spk2_rec, dim=0), torch.stack(mem2_rec, dim=0)\n",
    "\n",
    "# Load the network onto CUDA if available\n",
    "net = Net().to(device)"
   ]
  },
  {
   "cell_type": "code",
   "execution_count": 14,
   "metadata": {},
   "outputs": [],
   "source": [
    "def print_batch_accuracy(data, targets, train=False):\n",
    "    output, _ = net(data.view(batch_size, -1))\n",
    "    targets = targets.view(batch_size,-1).numpy()\n",
    "    #_, idx = output.sum(dim=0).max(1)\n",
    "    #_, idx = output.sum(dim=0).max(1)\n",
    "    #acc = np.mean((targets == idx).detach().cpu().numpy())\n",
    "    #print('op',output.shape, targets.shape)\n",
    "    avg_rate_output = output.mean(axis=0).detach().numpy()\n",
    "    acc = np.mean((avg_rate_output - targets)**2)\n",
    "\n",
    "    #acc = np.mean((targets - idx).detach().cpu().numpy())\n",
    "\n",
    "    if train:\n",
    "        print(f\"Train set accuracy for a single minibatch: {acc}\")\n",
    "    else:\n",
    "        print(f\"Test set accuracy for a single minibatch: {acc}\")\n",
    "\n",
    "def train_printer():\n",
    "    print(f\"Epoch {epoch}, Iteration {iter_counter}\")\n",
    "    print(f\"Train Set Loss: {loss_hist[counter]:.2f}\")\n",
    "    print(f\"Test Set Loss: {test_loss_hist[counter]:.2f}\")\n",
    "    print_batch_accuracy(data, targets, train=True)\n",
    "    print_batch_accuracy(test_data, test_targets, train=False)\n",
    "    print(\"\\n\")"
   ]
  },
  {
   "cell_type": "code",
   "execution_count": 15,
   "metadata": {},
   "outputs": [],
   "source": [
    "loss = nn.MSELoss()\n",
    "optimizer = torch.optim.Adam(net.parameters(), lr=5e-4, betas=(0.9, 0.999))"
   ]
  },
  {
   "cell_type": "code",
   "execution_count": 16,
   "metadata": {},
   "outputs": [
    {
     "name": "stdout",
     "output_type": "stream",
     "text": [
      "torch.Size([128, 784]) torch.Size([128, 784])\n",
      "torch.Size([25, 128, 784]) torch.Size([25, 128, 784])\n"
     ]
    }
   ],
   "source": [
    "data, targets = next(iter(train_loader))\n",
    "data = data.to(device)\n",
    "targets = data.view(batch_size, -1).to(device)\n",
    "\n",
    "print(targets.shape, data.view(batch_size, -1).shape)\n",
    "\n",
    "spk_rec, mem_rec = net(data.view(batch_size, -1))\n",
    "print(spk_rec.size(), mem_rec.size())\n",
    "\n",
    "# initialize the total loss value\n",
    "loss_val = torch.zeros((1), dtype=dtype, device=device)\n",
    "\n",
    "# sum loss at every step\n",
    "for step in range(num_steps):\n",
    "  loss_val += loss(mem_rec[step], targets)"
   ]
  },
  {
   "cell_type": "code",
   "execution_count": 17,
   "metadata": {},
   "outputs": [],
   "source": [
    "# clear previously stored gradients\n",
    "optimizer.zero_grad()\n",
    "\n",
    "# calculate the gradients\n",
    "loss_val.backward()\n",
    "\n",
    "# weight update\n",
    "optimizer.step()"
   ]
  },
  {
   "cell_type": "code",
   "execution_count": 18,
   "metadata": {},
   "outputs": [
    {
     "name": "stdout",
     "output_type": "stream",
     "text": [
      "Epoch 0, Iteration 0\n",
      "Train Set Loss: 0.11\n",
      "Test Set Loss: 0.11\n",
      "Train set accuracy for a single minibatch: 0.10744412243366241\n",
      "Test set accuracy for a single minibatch: 0.1082204207777977\n",
      "\n",
      "\n",
      "Epoch 0, Iteration 50\n",
      "Train Set Loss: 0.07\n",
      "Test Set Loss: 0.07\n",
      "Train set accuracy for a single minibatch: 0.06518721580505371\n",
      "Test set accuracy for a single minibatch: 0.06680580228567123\n",
      "\n",
      "\n",
      "Epoch 0, Iteration 100\n",
      "Train Set Loss: 0.06\n",
      "Test Set Loss: 0.05\n",
      "Train set accuracy for a single minibatch: 0.05631732940673828\n",
      "Test set accuracy for a single minibatch: 0.05467178300023079\n",
      "\n",
      "\n",
      "Epoch 0, Iteration 150\n",
      "Train Set Loss: 0.05\n",
      "Test Set Loss: 0.06\n",
      "Train set accuracy for a single minibatch: 0.05387619137763977\n",
      "Test set accuracy for a single minibatch: 0.0557267852127552\n",
      "\n",
      "\n",
      "Epoch 0, Iteration 200\n",
      "Train Set Loss: 0.05\n",
      "Test Set Loss: 0.05\n",
      "Train set accuracy for a single minibatch: 0.049850158393383026\n",
      "Test set accuracy for a single minibatch: 0.05317653343081474\n",
      "\n",
      "\n",
      "Epoch 0, Iteration 250\n",
      "Train Set Loss: 0.05\n",
      "Test Set Loss: 0.06\n",
      "Train set accuracy for a single minibatch: 0.04985218122601509\n",
      "Test set accuracy for a single minibatch: 0.055789802223443985\n",
      "\n",
      "\n",
      "Epoch 0, Iteration 300\n",
      "Train Set Loss: 0.05\n",
      "Test Set Loss: 0.05\n",
      "Train set accuracy for a single minibatch: 0.05343879014253616\n",
      "Test set accuracy for a single minibatch: 0.051375728100538254\n",
      "\n",
      "\n",
      "Epoch 0, Iteration 350\n",
      "Train Set Loss: 0.05\n",
      "Test Set Loss: 0.05\n",
      "Train set accuracy for a single minibatch: 0.0497664250433445\n",
      "Test set accuracy for a single minibatch: 0.04691312834620476\n",
      "\n",
      "\n",
      "Epoch 0, Iteration 400\n",
      "Train Set Loss: 0.05\n",
      "Test Set Loss: 0.05\n",
      "Train set accuracy for a single minibatch: 0.049564216285943985\n",
      "Test set accuracy for a single minibatch: 0.04798652604222298\n",
      "\n",
      "\n",
      "Epoch 0, Iteration 450\n",
      "Train Set Loss: 0.05\n",
      "Test Set Loss: 0.05\n",
      "Train set accuracy for a single minibatch: 0.050464265048503876\n",
      "Test set accuracy for a single minibatch: 0.04868829995393753\n",
      "\n",
      "\n"
     ]
    }
   ],
   "source": [
    "num_epochs = 1\n",
    "loss_hist = []\n",
    "test_loss_hist = []\n",
    "counter = 0\n",
    "\n",
    "# Outer training loop\n",
    "for epoch in range(num_epochs):\n",
    "    iter_counter = 0\n",
    "    train_batch = iter(train_loader)\n",
    "\n",
    "    # Minibatch training loop\n",
    "    for data, targets in train_batch:\n",
    "        data = data.to(device)\n",
    "        targets = data.to(device)#targets.to(device)\n",
    "        targets = targets.squeeze(1)\n",
    "\n",
    "        #print(targets.shape)\n",
    "\n",
    "        # forward pass\n",
    "        net.train()\n",
    "        spk_rec, mem_rec = net(data.view(batch_size, -1))\n",
    "\n",
    "        #print(spk_rec.shape, mem_rec.shape, data.shape, targets.shape)\n",
    "\n",
    "        # initialize the loss & sum over time\n",
    "        loss_val = torch.zeros((1), dtype=dtype, device=device)\n",
    "        loss_val = loss(spk_rec.mean(axis=0), targets.view(batch_size,-1))\n",
    "        #for step in range(num_steps):\n",
    "            #loss_val += loss(spk_rec[step], targets)\n",
    "\n",
    "        # Gradient calculation + weight update\n",
    "        optimizer.zero_grad()\n",
    "        loss_val.backward()\n",
    "        optimizer.step()\n",
    "\n",
    "        # Store loss history for future plotting\n",
    "        loss_hist.append(loss_val.item())\n",
    "\n",
    "        # Test set\n",
    "        with torch.no_grad():\n",
    "            net.eval()\n",
    "            test_data, test_targets = next(iter(test_loader))\n",
    "            test_data = test_data.to(device)\n",
    "            test_targets = test_data.to(device)#test_targets.to(device)\n",
    "\n",
    "            # Test set forward pass\n",
    "            test_spk, test_mem = net(test_data.view(batch_size, -1))\n",
    "\n",
    "            # Test set loss\n",
    "            test_loss = torch.zeros((1), dtype=dtype, device=device)\n",
    "            test_loss = loss(test_spk.mean(axis=0), test_targets.view(batch_size,-1))\n",
    "            #for step in range(num_steps):\n",
    "                #test_loss += loss(test_mem[step], test_targets)\n",
    "            test_loss_hist.append(test_loss.item())\n",
    "\n",
    "            # Print train/test loss/accuracy\n",
    "            if counter % 50 == 0:\n",
    "                train_printer()\n",
    "            counter += 1\n",
    "            iter_counter +=1"
   ]
  },
  {
   "cell_type": "code",
   "execution_count": 19,
   "metadata": {},
   "outputs": [
    {
     "data": {
      "text/plain": [
       "<matplotlib.legend.Legend at 0x7f9768effa00>"
      ]
     },
     "execution_count": 19,
     "metadata": {},
     "output_type": "execute_result"
    },
    {
     "data": {
      "image/png": "[encoded data removed]",
      "text/plain": [
       "<Figure size 432x288 with 1 Axes>"
      ]
     },
     "metadata": {
      "needs_background": "light"
     },
     "output_type": "display_data"
    }
   ],
   "source": [
    "plt.figure()\n",
    "plt.plot(loss_hist, label='train_loss')\n",
    "plt.plot(test_loss_hist, label='test_loss')\n",
    "plt.legend()"
   ]
  },
  {
   "cell_type": "code",
   "execution_count": 20,
   "metadata": {},
   "outputs": [
    {
     "data": {
      "image/png": "[encoded data removed]",
      "text/plain": [
       "<Figure size 432x288 with 4 Axes>"
      ]
     },
     "metadata": {
      "needs_background": "light"
     },
     "output_type": "display_data"
    },
    {
     "data": {
      "image/png": "[encoded data removed]",
      "text/plain": [
       "<Figure size 432x288 with 4 Axes>"
      ]
     },
     "metadata": {
      "needs_background": "light"
     },
     "output_type": "display_data"
    }
   ],
   "source": [
    "test_data, test_targets = next(iter(test_loader))\n",
    "\n",
    "plt.figure()\n",
    "for i in range(4):\n",
    "    # Integrate through time for each location while displaying final image\n",
    "    dat = test_data[i,:]\n",
    "    spk_rec, mem_rec = net(dat.view(1, -1))\n",
    "    final_image = spike_int = spk_rec.sum(0)[0].detach().numpy()\n",
    "    #plt.figure()\n",
    "    plt.subplot(2,2,i+1)\n",
    "    plt.imshow(final_image.reshape((28, 28)))\n",
    "    plt.suptitle('Reconstruction')\n",
    "plt.show()\n",
    "\n",
    "plt.figure()\n",
    "for i in range(4):\n",
    "    # Integrate through time for each location while displaying final image\n",
    "    final_image = test_data[i,:].numpy()\n",
    "    #plt.figure()\n",
    "    plt.subplot(2,2,i+1)\n",
    "    plt.imshow(final_image.reshape((28, 28)))\n",
    "    plt.suptitle('original')\n",
    "plt.show()\n",
    "\n",
    "    \n"
   ]
  }
 ],
 "metadata": {
  "interpreter": {
   "hash": "f33ad4317645b163532d34963980873b1273d47e12dd0b5aad2c9d3af0e6882a"
  },
  "kernelspec": {
   "display_name": "Python 3.9.10 ('neuromorphic')",
   "language": "python",
   "name": "python3"
  },
  "language_info": {
   "codemirror_mode": {
    "name": "ipython",
    "version": 3
   },
   "file_extension": ".py",
   "mimetype": "text/x-python",
   "name": "python",
   "nbconvert_exporter": "python",
   "pygments_lexer": "ipython3",
   "version": "3.9.10"
  },
  "orig_nbformat": 4
 },
 "nbformat": 4,
 "nbformat_minor": 2
}
