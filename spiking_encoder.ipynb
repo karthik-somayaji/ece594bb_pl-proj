{
 "cells": [
  {
   "cell_type": "code",
   "execution_count": 2,
   "metadata": {},
   "outputs": [],
   "source": [
    "%matplotlib inline\n",
    "\n",
    "from urllib.request import urlretrieve\n",
    "\n",
    "import matplotlib.pyplot as plt\n",
    "import nengo\n",
    "from nengo import spa\n",
    "import numpy as np\n",
    "import tensorflow as tf\n",
    "\n",
    "import nengo_dl\n",
    "\n",
    "from scipy.signal import decimate"
   ]
  },
  {
   "cell_type": "code",
   "execution_count": 3,
   "metadata": {},
   "outputs": [],
   "source": [
    "from src.io.psee_loader import PSEELoader\n",
    "\n",
    "import pathlib\n",
    "from glob import glob"
   ]
  },
  {
   "cell_type": "code",
   "execution_count": 4,
   "metadata": {},
   "outputs": [],
   "source": [
    "delta_t = 10000\n",
    "n = 75\n",
    "skip = 100"
   ]
  },
  {
   "cell_type": "code",
   "execution_count": 5,
   "metadata": {},
   "outputs": [],
   "source": [
    "vids = map(PSEELoader, glob(\"Prophesee_Dataset_n_cars/n-cars_train/cars/*_td.dat\"))\n",
    "# height, width = vid.get_size()\n",
    "height, width = 120, 120\n",
    "# vid.seek_time(skip)\n",
    "event_seqs = [next(vids).load_delta_t(delta_t) for _ in range(n)]\n",
    "# N = len(event_seqs)\n",
    "\n",
    "#print(event_seqs[0])"
   ]
  },
  {
   "cell_type": "code",
   "execution_count": 6,
   "metadata": {},
   "outputs": [
    {
     "name": "stdout",
     "output_type": "stream",
     "text": [
      "(60, 10000, 900) (15, 10000, 900)\n"
     ]
    }
   ],
   "source": [
    "dat = np.zeros((n, delta_t, 30, 30),dtype=np.int8)\n",
    "for i,block in enumerate(event_seqs):\n",
    "    for ev in block:\n",
    "        dat[i,ev[0],ev[1]//4,ev[2]//4] = ev[3]\n",
    "# for ev in events:\n",
    "#     dat[ev[0],ev[1],ev[2]] = ev[3]\n",
    "\n",
    "# dat = decimate(dat,4,axis=2)\n",
    "# dat = decimate(dat,4,axis=3)\n",
    "\n",
    "train_data = dat[0:60,:,:,:]\n",
    "test_data  = dat[60:75,:,:,:]\n",
    "\n",
    "train_data = train_data.reshape((train_data.shape[0], train_data.shape[1], -1))\n",
    "test_data = test_data.reshape((test_data.shape[0], test_data.shape[1], -1))\n",
    "\n",
    "print(train_data.shape, test_data.shape)"
   ]
  },
  {
   "cell_type": "code",
   "execution_count": null,
   "metadata": {},
   "outputs": [],
   "source": []
  },
  {
   "cell_type": "code",
   "execution_count": 22,
   "metadata": {},
   "outputs": [],
   "source": [
    "with nengo.Network() as auto_net:\n",
    "    n_in = train_data.shape[2]\n",
    "    n_hidden=64\n",
    "    neuron_type = nengo.LIF(amplitude=0.01)\n",
    "    \n",
    "    # input\n",
    "    nengo_a = nengo.Node(np.zeros(n_in))\n",
    "\n",
    "    # first layer\n",
    "    nengo_b = nengo.Ensemble(n_hidden, 1, neuron_type=neuron_type)\n",
    "    nengo.Connection(nengo_a, nengo_b.neurons, transform=nengo_dl.dists.Glorot())\n",
    "\n",
    "    # second layer\n",
    "    nengo_c = nengo.Ensemble(n_in, 1, neuron_type=neuron_type)\n",
    "    nengo.Connection(\n",
    "        nengo_b.neurons, nengo_c.neurons, transform=nengo_dl.dists.Glorot()\n",
    "    )\n",
    "\n",
    "    # probes are used to collect data from the network\n",
    "    p_c = nengo.Probe(nengo_c.neurons)\n",
    "    p_b = nengo.Probe(nengo_b.neurons)"
   ]
  },
  {
   "cell_type": "code",
   "execution_count": 23,
   "metadata": {},
   "outputs": [
    {
     "name": "stdout",
     "output_type": "stream",
     "text": [
      "|                     Building network (0%)                    | ETA:  --:--:--\n",
      "Build finished in 0:00:00\n",
      "|#                         Optimizing graph                           | 0:00:00\n",
      "|#             Optimizing graph: operator simplificaton               | 0:00:00\n",
      "Optimizing graph: operator simplificaton finished in 0:00:00\n",
      "|#                Optimizing graph: merging operators                 | 0:00:00\n",
      "Optimizing graph: merging operators finished in 0:00:00\n",
      "|#                Optimizing graph: ordering signals                  | 0:00:00\n",
      "Optimizing graph: ordering signals finished in 0:00:00\n",
      "|#                Optimizing graph: creating signals                  | 0:00:00\n",
      "Optimizing graph: creating signals finished in 0:00:00\n",
      "Optimization finished in 0:00:00\n",
      "|#                        Constructing graph                          | 0:00:00\n",
      "|           Constructing graph: pre-build stage (0%)           | ETA:  --:--:--\n",
      "Constructing graph: pre-build stage finished in 0:00:00\n",
      "|             Constructing graph: build stage (0%)             | ETA:  --:--:--\n",
      "|############Constructing graph: build stage (100%)############| ETA:  00:00:00\n",
      "| #                       Constructing graph                          | 0:00:00\n",
      "Constructing graph: build stage finished in 0:00:00\n",
      "Construction finished in 0:00:00\n"
     ]
    },
    {
     "name": "stderr",
     "output_type": "stream",
     "text": [
      "/home/karthik/sim_clean/nengo-dl/nengo_dl/simulator.py:1921: UserWarning: Number of elements in input data (60) is not evenly divisible by Simulator.minibatch_size (8); input data will be truncated.\n",
      "  warnings.warn(\n",
      "/home/karthik/sim_clean/nengo-dl/nengo_dl/simulator.py:1765: UserWarning: Number of elements (1) in ['ndarray'] does not match number of Probes (2); consider using an explicit input dictionary in this case, so that the assignment of data to objects is unambiguous.\n",
      "  warnings.warn(\n"
     ]
    },
    {
     "name": "stdout",
     "output_type": "stream",
     "text": [
      "Epoch 1/10\n",
      "|           Constructing graph: pre-build stage (0%)           | ETA:  --:--:--\n",
      "Constructing graph: pre-build stage finished in 0:00:00\n",
      "|             Constructing graph: build stage (0%)             | ETA:  --:--:--\n",
      "|############Constructing graph: build stage (100%)############| ETA:  00:00:00\n",
      "Constructing graph: build stage finished in 0:00:00\n",
      "|           Constructing graph: pre-build stage (0%)           | ETA:  --:--:--\n",
      "Constructing graph: pre-build stage finished in 0:00:00\n",
      "|             Constructing graph: build stage (0%)             | ETA:  --:--:--\n",
      "|############Constructing graph: build stage (100%)############| ETA:  00:00:00\n",
      "Constructing graph: build stage finished in 0:00:00\n",
      "7/7 [==============================] - 72s 10s/step - loss: 1.1722 - probe_loss: 1.1722 - probe_1_loss: 0.0000e+00\n",
      "Epoch 2/10\n",
      "7/7 [==============================] - 70s 10s/step - loss: 0.1551 - probe_loss: 0.1551 - probe_1_loss: 0.0000e+00\n",
      "Epoch 3/10\n",
      "7/7 [==============================] - 69s 10s/step - loss: 0.0128 - probe_loss: 0.0128 - probe_1_loss: 0.0000e+00\n",
      "Epoch 4/10\n",
      "7/7 [==============================] - 70s 10s/step - loss: 8.0856e-04 - probe_loss: 8.0856e-04 - probe_1_loss: 0.0000e+00\n",
      "Epoch 5/10\n",
      "7/7 [==============================] - 69s 10s/step - loss: 6.8030e-04 - probe_loss: 6.8030e-04 - probe_1_loss: 0.0000e+00\n",
      "Epoch 6/10\n",
      "7/7 [==============================] - 70s 10s/step - loss: 6.7393e-04 - probe_loss: 6.7393e-04 - probe_1_loss: 0.0000e+00\n",
      "Epoch 7/10\n",
      "7/7 [==============================] - 70s 10s/step - loss: 6.6621e-04 - probe_loss: 6.6621e-04 - probe_1_loss: 0.0000e+00\n",
      "Epoch 8/10\n",
      "7/7 [==============================] - 69s 10s/step - loss: 6.5663e-04 - probe_loss: 6.5663e-04 - probe_1_loss: 0.0000e+00\n",
      "Epoch 9/10\n",
      "7/7 [==============================] - 70s 10s/step - loss: 6.4486e-04 - probe_loss: 6.4486e-04 - probe_1_loss: 0.0000e+00\n",
      "Epoch 10/10\n",
      "7/7 [==============================] - 69s 10s/step - loss: 6.3065e-04 - probe_loss: 6.3065e-04 - probe_1_loss: 0.0000e+00\n"
     ]
    }
   ],
   "source": [
    "n_epochs = 10\n",
    "minibatch_size = 8\n",
    "\n",
    "with nengo_dl.Simulator(auto_net, minibatch_size=minibatch_size) as sim:\n",
    "    sim.compile(optimizer=tf.optimizers.RMSprop(1e-3), loss=tf.losses.mse)\n",
    "\n",
    "    # run training loop\n",
    "    sim.fit(train_data, train_data, epochs=n_epochs)\n",
    "\n",
    "    # evaluate performance on test set\n",
    "    #sim.evaluate(test_data, test_data)\n",
    "\n",
    "    # Save the model\n",
    "    sim.save_params(\"./LIF_prophesee\")"
   ]
  },
  {
   "cell_type": "code",
   "execution_count": 24,
   "metadata": {},
   "outputs": [
    {
     "name": "stdout",
     "output_type": "stream",
     "text": [
      "|                     Building network (0%)                    | ETA:  --:--:--\n",
      "Build finished in 0:00:00\n",
      "|#                         Optimizing graph                           | 0:00:00\n",
      "|#             Optimizing graph: operator simplificaton               | 0:00:00\n",
      "Optimizing graph: operator simplificaton finished in 0:00:00\n",
      "|#                Optimizing graph: merging operators                 | 0:00:00\n",
      "Optimizing graph: merging operators finished in 0:00:00\n",
      "|#                Optimizing graph: ordering signals                  | 0:00:00\n",
      "Optimizing graph: ordering signals finished in 0:00:00\n",
      "|#                Optimizing graph: creating signals                  | 0:00:00\n",
      "Optimizing graph: creating signals finished in 0:00:00\n",
      "Optimization finished in 0:00:00\n",
      "|#                        Constructing graph                          | 0:00:00\n",
      "|           Constructing graph: pre-build stage (0%)           | ETA:  --:--:--\n",
      "Constructing graph: pre-build stage finished in 0:00:00\n",
      "|             Constructing graph: build stage (0%)             | ETA:  --:--:--\n",
      "|############Constructing graph: build stage (100%)############| ETA:  00:00:00\n",
      "Constructing graph: build stage finished in 0:00:00\n",
      "| #                       Constructing graph                          | 0:00:00\n",
      "Construction finished in 0:00:00\n",
      "|           Constructing graph: pre-build stage (0%)           | ETA:  --:--:--\n",
      "Constructing graph: pre-build stage finished in 0:00:00\n",
      "|             Constructing graph: build stage (0%)             | ETA:  --:--:--\n",
      "|############Constructing graph: build stage (100%)############| ETA:  00:00:00\n",
      "Constructing graph: build stage finished in 0:00:00\n",
      "WARNING:tensorflow:5 out of the last 5 calls to <function Model.make_predict_function.<locals>.predict_function at 0x7f094c31baf0> triggered tf.function retracing. Tracing is expensive and the excessive number of tracings could be due to (1) creating @tf.function repeatedly in a loop, (2) passing tensors with different shapes, (3) passing Python objects instead of tensors. For (1), please define your @tf.function outside of the loop. For (2), @tf.function has experimental_relax_shapes=True option that relaxes argument shapes that can avoid unnecessary retracing. For (3), please refer to https://www.tensorflow.org/guide/function#controlling_retracing and https://www.tensorflow.org/api_docs/python/tf/function for  more details.\n"
     ]
    },
    {
     "name": "stderr",
     "output_type": "stream",
     "text": [
      "WARNING:tensorflow:5 out of the last 5 calls to <function Model.make_predict_function.<locals>.predict_function at 0x7f094c31baf0> triggered tf.function retracing. Tracing is expensive and the excessive number of tracings could be due to (1) creating @tf.function repeatedly in a loop, (2) passing tensors with different shapes, (3) passing Python objects instead of tensors. For (1), please define your @tf.function outside of the loop. For (2), @tf.function has experimental_relax_shapes=True option that relaxes argument shapes that can avoid unnecessary retracing. For (3), please refer to https://www.tensorflow.org/guide/function#controlling_retracing and https://www.tensorflow.org/api_docs/python/tf/function for  more details.\n"
     ]
    },
    {
     "name": "stdout",
     "output_type": "stream",
     "text": [
      "(8, 10000, 900)\n"
     ]
    }
   ],
   "source": [
    "with nengo_dl.Simulator(auto_net, minibatch_size=minibatch_size) as sim:\n",
    "    #sim.compile(optimizer=tf.optimizers.RMSprop(1e-3), loss=tf.losses.mse)\n",
    "\n",
    "    # run training loop\n",
    "    #sim.fit(train_data, train_data, epochs=n_epochs)\n",
    "\n",
    "    # evaluate performance on test set\n",
    "    #sim.evaluate(test_data, test_data)\n",
    "\n",
    "    # Load the saved model\n",
    "    sim.load_params(\"./LIF_prophesee\")\n",
    "\n",
    "    # display example output\n",
    "    output = sim.predict(train_data[:minibatch_size])\n",
    "    #plt.figure()\n",
    "    #plt.imshow(output[p_c][0].reshape((30, 30)))\n",
    "    #plt.show()\n",
    "    print(output[p_c].shape)\n",
    "\n",
    "\n",
    "\n",
    "    '''# display the latent space representation\n",
    "    output = sim.predict(test_data[:minibatch_size])\n",
    "    plt.figure()\n",
    "    plt.imshow(output[p_b][0].reshape((8, 8)))\n",
    "    plt.show()\n",
    "\n",
    "    hidden_rep = output[p_b][0]\n",
    "    norm = np.linalg.norm(hidden_rep)\n",
    "    hidden_rep = hidden_rep/norm\n",
    "    print('Mean of the hidden space rep:', hidden_rep.mean())'''"
   ]
  },
  {
   "cell_type": "code",
   "execution_count": 26,
   "metadata": {},
   "outputs": [
    {
     "data": {
      "image/png": "[encoded data removed]",
      "text/plain": [
       "<Figure size 432x288 with 1 Axes>"
      ]
     },
     "metadata": {
      "needs_background": "light"
     },
     "output_type": "display_data"
    },
    {
     "data": {
      "image/png": "[encoded data removed]",
      "text/plain": [
       "<Figure size 432x288 with 1 Axes>"
      ]
     },
     "metadata": {
      "needs_background": "light"
     },
     "output_type": "display_data"
    }
   ],
   "source": [
    "    # Integrate through time for each location while displaying final image\n",
    "    final_image = output[p_c][0][0,:]\n",
    "    plt.figure()\n",
    "    plt.imshow(final_image.reshape((30, 30)))\n",
    "    plt.show()\n",
    "\n",
    "    input_image = train_data[0][0,:]\n",
    "    plt.figure()\n",
    "    plt.imshow(input_image.reshape((30, 30)))\n",
    "    plt.show()"
   ]
  }
 ],
 "metadata": {
  "interpreter": {
   "hash": "f33ad4317645b163532d34963980873b1273d47e12dd0b5aad2c9d3af0e6882a"
  },
  "kernelspec": {
   "display_name": "Python 3.9.10 ('neuromorphic')",
   "language": "python",
   "name": "python3"
  },
  "language_info": {
   "codemirror_mode": {
    "name": "ipython",
    "version": 3
   },
   "file_extension": ".py",
   "mimetype": "text/x-python",
   "name": "python",
   "nbconvert_exporter": "python",
   "pygments_lexer": "ipython3",
   "version": "3.9.10"
  },
  "orig_nbformat": 4
 },
 "nbformat": 4,
 "nbformat_minor": 2
}
