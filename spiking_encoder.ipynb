{
 "cells": [
  {
   "cell_type": "code",
   "execution_count": 1,
   "metadata": {},
   "outputs": [],
   "source": [
    "%matplotlib inline\n",
    "\n",
    "from urllib.request import urlretrieve\n",
    "\n",
    "import matplotlib.pyplot as plt\n",
    "import nengo\n",
    "from nengo import spa\n",
    "import numpy as np\n",
    "import tensorflow as tf\n",
    "\n",
    "import nengo_dl\n",
    "\n",
    "from scipy.signal import decimate"
   ]
  },
  {
   "cell_type": "code",
   "execution_count": 3,
   "metadata": {},
   "outputs": [],
   "source": [
    "from src.io.psee_loader import PSEELoader\n",
    "\n",
    "import pathlib\n",
    "from glob import glob"
   ]
  },
  {
   "cell_type": "code",
   "execution_count": 4,
   "metadata": {},
   "outputs": [],
   "source": [
    "delta_t = 10000\n",
    "n = 75\n",
    "skip = 100"
   ]
  },
  {
   "cell_type": "code",
   "execution_count": 19,
   "metadata": {},
   "outputs": [
    {
     "name": "stdout",
     "output_type": "stream",
     "text": [
      "[(   0, 48, 13, 1) (  74, 27, 42, 1) ( 102, 19, 12, 0) ( 111, 30, 43, 1)\n",
      " ( 112, 16, 17, 1) ( 127, 23,  6, 0) ( 138, 53,  8, 0) ( 168, 23, 10, 0)\n",
      " ( 171, 13,  7, 1) ( 197, 21,  6, 1) ( 297, 28, 43, 1) ( 319,  5, 38, 1)\n",
      " ( 348, 23, 17, 0) ( 421, 59, 14, 0) ( 450,  5, 40, 1) ( 476,  8, 42, 0)\n",
      " ( 477, 19, 10, 0) ( 492, 20, 22, 0) ( 492, 19,  9, 0) ( 493, 29, 21, 0)\n",
      " ( 533, 23,  7, 0) ( 545, 14,  6, 0) ( 577,  0, 26, 0) ( 606,  9, 44, 0)\n",
      " ( 621, 18, 22, 1) ( 632,  4,  3, 1) ( 632,  0,  3, 1) ( 644,  1, 24, 0)\n",
      " ( 650, 35, 20, 1) ( 707, 29, 43, 1) ( 737,  8, 40, 0) ( 740, 51, 30, 1)\n",
      " ( 810, 58, 16, 0) ( 810, 46, 20, 0) ( 887, 28, 37, 0) ( 900, 21,  5, 1)\n",
      " ( 960, 54, 26, 1) ( 966,  3, 44, 1) ( 990, 13, 15, 0) (1002, 56, 13, 1)\n",
      " (1091,  8, 41, 0) (1099,  8,  9, 1) (1118, 22,  6, 1) (1154,  1, 21, 0)\n",
      " (1189,  6, 40, 1) (1190, 48, 11, 1) (1195, 23,  6, 0) (1254,  2, 17, 1)\n",
      " (1257,  8, 12, 1) (1258, 48, 12, 1) (1343,  4,  7, 1) (1381, 32,  0, 1)\n",
      " (1452,  8, 16, 1) (1487, 43, 43, 1) (1525, 20, 14, 0) (1527, 48, 40, 0)\n",
      " (1553, 23,  5, 0) (1595,  6, 43, 0) (1598,  1, 25, 0) (1607, 38, 10, 1)\n",
      " (1612, 44, 17, 1) (1670,  3, 46, 1) (1690, 13, 17, 0) (1697,  1, 20, 0)\n",
      " (1701, 54, 10, 0) (1726, 23, 29, 1) (1730, 29, 18, 1) (1752,  9, 26, 1)\n",
      " (1755, 21,  7, 1) (1756, 14, 11, 1) (1858, 21,  8, 1) (1903, 35, 43, 1)\n",
      " (1916, 49, 44, 1) (1937, 38,  4, 1) (1939, 39, 10, 1) (1948, 24, 19, 0)\n",
      " (1989,  4, 43, 1) (1991, 39, 44, 1) (1992, 50, 21, 1) (1992, 59, 21, 1)\n",
      " (2113,  0, 27, 0) (2145, 21,  6, 1) (2149,  3,  3, 1) (2198, 19, 33, 1)\n",
      " (2279, 10,  7, 0) (2355, 22, 12, 0) (2366,  5, 41, 1) (2368,  2,  1, 1)\n",
      " (2391,  8, 39, 0) (2423, 15, 12, 1) (2467,  5,  4, 0) (2469,  9, 46, 0)\n",
      " (2476, 37, 10, 1) (2476, 21, 12, 1) (2483, 23,  6, 0) (2528, 11, 35, 1)\n",
      " (2529, 38,  8, 1) (2529, 20,  6, 1) (2580,  6, 38, 0) (2677, 19, 23, 0)\n",
      " (2701,  3,  4, 0) (2722,  4, 39, 1) (2768, 51, 35, 1) (2776, 38, 33, 1)\n",
      " (2779,  9, 31, 1) (2794, 13, 16, 0) (2827, 22,  0, 1) (2912, 43, 29, 1)\n",
      " (2956, 31, 44, 1) (2958, 36, 15, 1) (2963, 24,  6, 0) (2977,  4, 17, 1)\n",
      " (3009, 43, 11, 1) (3039, 51, 33, 1) (3040, 52,  9, 1) (3060, 56, 14, 1)\n",
      " (3127, 51, 31, 1) (3128, 51,  5, 1) (3152, 20,  9, 1) (3243, 58, 18, 1)\n",
      " (3349, 20,  4, 1) (3359,  1, 23, 0) (3380, 17, 20, 1) (3397, 28,  4, 1)\n",
      " (3480, 12,  7, 1) (3480, 22, 25, 1) (3481,  5, 25, 1) (3504, 22,  8, 0)\n",
      " (3521, 20, 10, 1) (3527,  4, 24, 1) (3527, 53, 27, 1) (3561, 26, 42, 1)\n",
      " (3570, 51,  3, 1) (3576,  8, 46, 0) (3586, 29, 39, 1) (3593, 18, 20, 0)\n",
      " (3617, 60, 17, 1) (3617, 34, 36, 1) (3617, 59, 28, 1) (3645, 23,  6, 0)\n",
      " (3663, 54, 11, 0) (3671, 58, 34, 1) (3723,  6, 41, 1) (3725, 29, 43, 1)\n",
      " (3726, 21,  6, 1) (3750, 31, 28, 1) (3751, 58, 31, 1) (3754,  9, 33, 1)\n",
      " (3838, 48,  6, 1) (3894, 27, 24, 1) (3894, 39, 24, 1) (3895, 23, 28, 1)\n",
      " (3939, 34, 28, 1) (3954,  0,  2, 1) (3984, 28, 43, 1) (4006, 16, 16, 1)\n",
      " (4029, 17, 21, 0) (4039,  0, 26, 0) (4048, 32,  4, 1) (4118, 35,  4, 1)\n",
      " (4147, 23,  9, 0) (4169,  5, 37, 1) (4191,  4,  8, 1) (4212, 47,  9, 1)\n",
      " (4239,  4, 38, 1) (4283,  5, 23, 1) (4321, 38,  9, 1) (4327, 29, 36, 0)\n",
      " (4361, 35, 12, 1) (4436, 36, 11, 1) (4473,  8, 14, 1) (4524, 41, 17, 1)\n",
      " (4556, 28,  4, 0) (4571, 22,  5, 1) (4606, 51, 19, 1) (4614, 21,  5, 1)\n",
      " (4616, 16, 13, 1) (4616, 23, 29, 1) (4617, 22,  4, 1) (4703, 47,  6, 1)\n",
      " (4727,  5, 16, 0) (4744, 11,  5, 1) (4745, 20, 25, 1) (4781, 51, 35, 1)\n",
      " (4786, 44, 28, 1) (4802, 23,  8, 0) (4811, 29, 35, 0) (4820,  4, 40, 1)\n",
      " (4855, 21, 27, 1) (4856,  5, 19, 1) (4893,  3, 45, 1) (4966,  1, 11, 1)\n",
      " (5019,  6, 24, 1) (5020, 59, 24, 1) (5020, 39,  9, 1) (5022, 41,  0, 1)\n",
      " (5057, 23,  6, 0) (5061, 52, 30, 0) (5123, 25,  6, 0) (5172,  6, 32, 0)\n",
      " (5210, 21,  6, 1) (5231, 12, 13, 0) (5266,  3,  6, 1) (5312, 44, 31, 1)\n",
      " (5316, 36,  4, 1) (5371,  3,  2, 1) (5372, 49,  5, 1) (5396,  1,  8, 1)\n",
      " (5429,  4, 45, 1) (5441,  4, 42, 1) (5498,  5, 43, 0) (5548, 24, 30, 1)\n",
      " (5557, 20,  3, 1) (5576, 48, 22, 1) (5646, 26, 38, 1) (5648, 25, 24, 1)\n",
      " (5652,  2,  2, 1) (5665,  8, 41, 0) (5695, 21,  7, 1) (5713,  9, 12, 1)\n",
      " (5783, 22,  7, 0) (5841, 56, 20, 1) (5848, 10, 14, 1) (5896, 16, 33, 1)\n",
      " (5898, 26, 25, 1) (5899, 57, 18, 1) (5922,  4, 44, 1) (5984, 47, 10, 1)\n",
      " (6035, 60, 21, 1) (6035, 25, 21, 1) (6046,  8, 46, 0) (6050, 42, 44, 1)\n",
      " (6053, 53, 21, 1) (6075, 48, 15, 1) (6150, 15,  9, 1) (6151,  1, 16, 1)\n",
      " (6199,  8, 17, 1) (6217,  7, 43, 0) (6272, 14,  1, 1) (6327, 37, 13, 1)\n",
      " (6411, 36, 10, 1) (6412, 37, 10, 1) (6511,  8, 10, 1) (6568, 27, 16, 1)\n",
      " (6577, 11,  6, 1) (6577, 27,  4, 1) (6578, 27, 40, 1) (6709, 25, 17, 1)\n",
      " (6757,  8, 45, 0) (6786, 21,  6, 1) (6813, 54, 25, 1) (6813, 24, 27, 1)\n",
      " (6814, 34, 30, 1) (6859, 40, 11, 1) (6870, 60, 20, 1) (6885, 41,  1, 1)\n",
      " (6974, 37, 14, 1) (7002, 22, 11, 0) (7017, 22, 23, 1) (7063,  3, 43, 1)\n",
      " (7127, 30,  7, 1) (7127,  1,  9, 1) (7128, 60, 16, 1) (7190, 45,  8, 1)\n",
      " (7191, 26, 41, 1) (7239, 41, 18, 1) (7241, 23, 41, 1) (7310, 28,  4, 1)\n",
      " (7324, 18,  9, 0) (7364, 59, 46, 1) (7404,  7, 41, 0) (7457,  6, 29, 1)\n",
      " (7457, 51, 29, 1) (7460, 37, 30, 1) (7462, 45, 27, 1) (7567,  3,  7, 1)\n",
      " (7583, 23,  6, 0) (7621, 57, 34, 1) (7633, 59, 35, 1) (7695, 51,  0, 1)\n",
      " (7696, 37, 18, 1) (7762, 36, 44, 1) (7785, 43, 11, 1) (7830,  7, 40, 0)\n",
      " (7834, 22, 22, 0) (7853, 11, 10, 0) (7863, 20,  9, 1) (7866, 32, 44, 1)\n",
      " (7932, 33, 28, 1) (7950, 45, 44, 1) (7978,  1,  1, 1) (8051, 39, 22, 1)\n",
      " (8054, 14,  9, 1) (8056, 26, 37, 1) (8066,  0, 19, 0) (8135, 15,  6, 0)\n",
      " (8153,  0, 25, 0) (8227, 23,  7, 0) (8237, 22,  7, 0) (8255,  4, 43, 1)\n",
      " (8284, 30, 45, 1) (8285, 30, 19, 1) (8285, 18, 22, 1) (8324, 17, 10, 1)\n",
      " (8408, 12, 20, 1) (8438,  3, 41, 1) (8459, 21,  4, 1) (8466,  3, 44, 1)\n",
      " (8503,  0, 17, 1) (8503, 57, 19, 1) (8504, 39, 18, 1) (8505, 21, 23, 1)\n",
      " (8507, 14, 12, 1) (8545, 32, 30, 1) (8547, 57,  3, 1) (8576,  2, 45, 1)\n",
      " (8576, 43, 45, 1) (8576, 53, 45, 1) (8589,  8,  7, 1) (8590,  5, 24, 1)\n",
      " (8660, 53,  1, 1) (8660, 21, 11, 1) (8687, 21,  6, 1) (8698, 14,  3, 1)\n",
      " (8698, 13, 10, 1) (8750, 14,  1, 1) (8758,  0, 21, 0) (8766, 58, 32, 1)\n",
      " (8771, 35, 44, 1) (8772,  3, 39, 1) (8775,  5, 12, 1) (8790, 29, 24, 0)\n",
      " (8831, 40, 44, 1) (8868, 10, 13, 1) (8869,  1, 30, 1) (8873, 31,  4, 1)\n",
      " (8925, 17,  4, 1) (8950, 46,  7, 1) (8964, 40,  4, 1) (9006, 58, 33, 1)\n",
      " (9009,  5, 41, 1) (9009, 35, 28, 1) (9011, 47,  5, 1) (9012, 43,  5, 1)\n",
      " (9012, 31, 11, 1) (9013, 46,  8, 1) (9094, 34, 44, 1) (9103, 19,  5, 1)\n",
      " (9145,  5, 42, 1) (9215,  5, 43, 0) (9222,  4, 39, 1) (9234, 12, 14, 0)\n",
      " (9244,  7,  9, 1) (9245, 50,  2, 1) (9246, 52, 20, 1) (9282,  3, 40, 1)\n",
      " (9284, 25, 25, 1) (9285, 35, 17, 1) (9313, 40,  8, 1) (9328, 13, 13, 1)\n",
      " (9380, 31, 41, 1) (9402, 17,  9, 0) (9420, 18, 10, 0) (9431,  0, 20, 0)\n",
      " (9436, 53, 36, 1) (9436,  2, 36, 1) (9469,  3, 46, 1) (9476, 22, 12, 0)\n",
      " (9480, 22,  9, 0) (9503,  2, 43, 1) (9504, 53, 33, 1) (9518,  1, 46, 1)\n",
      " (9519, 23, 30, 1) (9520, 44, 31, 1) (9522, 34, 15, 1) (9523, 43,  2, 1)\n",
      " (9548, 27, 39, 1) (9592,  2, 46, 1) (9595, 37, 43, 1) (9656, 35, 20, 1)\n",
      " (9692,  0, 15, 1) (9722, 35, 15, 1) (9785, 50, 27, 1) (9810,  7, 16, 1)\n",
      " (9812, 20,  8, 1) (9882, 30, 27, 1) (9883, 22, 27, 1) (9886, 51, 22, 1)\n",
      " (9888, 57, 20, 1) (9945, 56, 44, 1) (9946, 56, 45, 1) (9949, 32, 35, 1)\n",
      " (9949, 51, 20, 1) (9994,  9,  7, 0)]\n"
     ]
    }
   ],
   "source": [
    "vids = map(PSEELoader, glob(\"Prophesee_Dataset_n_cars/n-cars_train/cars/*_td.dat\"))\n",
    "# height, width = vid.get_size()\n",
    "height, width = 120, 120\n",
    "# vid.seek_time(skip)\n",
    "event_seqs = [next(vids).load_delta_t(delta_t) for _ in range(n)]\n",
    "# N = len(event_seqs)\n",
    "\n",
    "print(event_seqs[0])"
   ]
  },
  {
   "cell_type": "code",
   "execution_count": 20,
   "metadata": {},
   "outputs": [
    {
     "name": "stdout",
     "output_type": "stream",
     "text": [
      "(60, 10000, 900) (15, 10000, 900)\n"
     ]
    }
   ],
   "source": [
    "dat = np.zeros((n, delta_t, 30, 30),dtype=np.int8)\n",
    "for i,block in enumerate(event_seqs):\n",
    "    for ev in block:\n",
    "        dat[i,ev[0],ev[1]//4,ev[2]//4] = ev[3]\n",
    "# for ev in events:\n",
    "#     dat[ev[0],ev[1],ev[2]] = ev[3]\n",
    "\n",
    "# dat = decimate(dat,4,axis=2)\n",
    "# dat = decimate(dat,4,axis=3)\n",
    "\n",
    "train_data = dat[0:60,:,:,:]\n",
    "test_data  = dat[60:75,:,:,:]\n",
    "\n",
    "train_data = train_data.reshape((train_data.shape[0], train_data.shape[1], -1))\n",
    "test_data = test_data.reshape((test_data.shape[0], test_data.shape[1], -1))\n",
    "\n",
    "print(train_data.shape, test_data.shape)"
   ]
  },
  {
   "cell_type": "code",
   "execution_count": null,
   "metadata": {},
   "outputs": [],
   "source": []
  },
  {
   "cell_type": "code",
   "execution_count": 23,
   "metadata": {},
   "outputs": [],
   "source": [
    "with nengo.Network() as auto_net:\n",
    "    n_in = train_data.shape[2]\n",
    "    n_hidden=64\n",
    "    neuron_type = nengo.LIF(amplitude=0.01)\n",
    "    \n",
    "    # input\n",
    "    nengo_a = nengo.Node(np.zeros(n_in))\n",
    "\n",
    "    # first layer\n",
    "    nengo_b = nengo.Ensemble(n_hidden, 1, neuron_type=neuron_type)\n",
    "    nengo.Connection(nengo_a, nengo_b.neurons, transform=nengo_dl.dists.Glorot())\n",
    "\n",
    "    # second layer\n",
    "    nengo_c = nengo.Ensemble(n_in, 1, neuron_type=neuron_type)\n",
    "    nengo.Connection(\n",
    "        nengo_b.neurons, nengo_c.neurons, transform=nengo_dl.dists.Glorot()\n",
    "    )\n",
    "\n",
    "    # probes are used to collect data from the network\n",
    "    p_c = nengo.Probe(nengo_c.neurons)\n",
    "    p_b = nengo.Probe(nengo_b.neurons)"
   ]
  },
  {
   "cell_type": "code",
   "execution_count": 22,
   "metadata": {},
   "outputs": [
    {
     "name": "stdout",
     "output_type": "stream",
     "text": [
      "|                     Building network (0%)                    | ETA:  --:--:--\n",
      "Build finished in 0:00:00\n",
      "|#                         Optimizing graph                           | 0:00:00\n",
      "|#             Optimizing graph: operator simplificaton               | 0:00:00\n",
      "Optimizing graph: operator simplificaton finished in 0:00:00\n",
      "|#                Optimizing graph: merging operators                 | 0:00:00\n",
      "Optimizing graph: merging operators finished in 0:00:00\n",
      "|#                Optimizing graph: ordering signals                  | 0:00:00\n",
      "Optimizing graph: ordering signals finished in 0:00:00\n",
      "|#                Optimizing graph: creating signals                  | 0:00:00\n",
      "Optimizing graph: creating signals finished in 0:00:00\n",
      "Optimization finished in 0:00:00\n",
      "|#                        Constructing graph                          | 0:00:00\n",
      "|               #         Constructing graph                          | 0:00:01\n",
      "|           Constructing graph: pre-build stage (0%)           | ETA:  --:--:--\n",
      "Constructing graph: pre-build stage finished in 0:00:00\n",
      "|             Constructing graph: build stage (0%)             | ETA:  --:--:--\n",
      "|############Constructing graph: build stage (100%)############| ETA:  00:00:00\n",
      "Constructing graph: build stage finished in 0:00:00\n",
      "|                #        Constructing graph                          | 0:00:01\n",
      "Construction finished in 0:00:01\n",
      "|           Constructing graph: pre-build stage (0%)           | ETA:  --:--:--\n",
      "Constructing graph: pre-build stage finished in 0:00:00\n",
      "|             Constructing graph: build stage (0%)             | ETA:  --:--:--\n"
     ]
    },
    {
     "name": "stderr",
     "output_type": "stream",
     "text": [
      "/home/karthik/sim_clean/nengo-dl/nengo_dl/simulator.py:1024: UserWarning: Running for one timestep, but the network contains synaptic filters (which will introduce at least a one-timestep delay); did you mean to set synapse=None?\n",
      "  warnings.warn(\n"
     ]
    },
    {
     "name": "stdout",
     "output_type": "stream",
     "text": [
      "|############Constructing graph: build stage (100%)############| ETA:  00:00:00\n",
      "Constructing graph: build stage finished in 0:00:00\n"
     ]
    },
    {
     "name": "stderr",
     "output_type": "stream",
     "text": [
      "2022-03-06 15:44:29.294703: E tensorflow/stream_executor/cuda/cuda_blas.cc:226] failed to create cublas handle: CUBLAS_STATUS_NOT_INITIALIZED\n",
      "2022-03-06 15:44:29.294751: W tensorflow/core/framework/op_kernel.cc:1745] OP_REQUIRES failed at matmul_op_impl.h:438 : INTERNAL: Attempting to perform BLAS operation using StreamExecutor without BLAS support\n",
      "2022-03-06 15:44:29.298357: E tensorflow/stream_executor/cuda/cuda_blas.cc:226] failed to create cublas handle: CUBLAS_STATUS_NOT_INITIALIZED\n",
      "2022-03-06 15:44:29.298386: W tensorflow/core/framework/op_kernel.cc:1745] OP_REQUIRES failed at matmul_op_impl.h:438 : INTERNAL: Attempting to perform BLAS operation using StreamExecutor without BLAS support\n"
     ]
    },
    {
     "ename": "InternalError",
     "evalue": "2 root error(s) found.\n  (0) INTERNAL:  Attempting to perform BLAS operation using StreamExecutor without BLAS support\n\t [[node keras_model/TensorGraph/while/iteration_0/DotIncBuilder/MatMul\n (defined at /home/karthik/sim_clean/nengo-dl/nengo_dl/op_builders.py:348)\n]]\n\t [[keras_model/TensorGraph/while/exit/_130/_8]]\n  (1) INTERNAL:  Attempting to perform BLAS operation using StreamExecutor without BLAS support\n\t [[node keras_model/TensorGraph/while/iteration_0/DotIncBuilder/MatMul\n (defined at /home/karthik/sim_clean/nengo-dl/nengo_dl/op_builders.py:348)\n]]\n0 successful operations.\n0 derived errors ignored. [Op:__inference_predict_function_918]\n\nErrors may have originated from an input operation.\nInput Source operations connected to node keras_model/TensorGraph/while/iteration_0/DotIncBuilder/MatMul:\nIn[0] keras_model/TensorGraph/while/iteration_0/DotIncBuilder/Reshape (defined at /home/karthik/sim_clean/nengo-dl/nengo_dl/signals.py:420)\t\nIn[1] keras_model/TensorGraph/while/iteration_0/DotIncBuilder/transpose:\n\nOperation defined at: (most recent call last)\n>>>   File \"/home/karthik/miniconda3/envs/neuromorphic/lib/python3.9/runpy.py\", line 197, in _run_module_as_main\n>>>     return _run_code(code, main_globals, None,\n>>> \n>>>   File \"/home/karthik/miniconda3/envs/neuromorphic/lib/python3.9/runpy.py\", line 87, in _run_code\n>>>     exec(code, run_globals)\n>>> \n>>>   File \"/home/karthik/miniconda3/envs/neuromorphic/lib/python3.9/site-packages/ipykernel_launcher.py\", line 16, in <module>\n>>>     app.launch_new_instance()\n>>> \n>>>   File \"/home/karthik/miniconda3/envs/neuromorphic/lib/python3.9/site-packages/traitlets/config/application.py\", line 846, in launch_instance\n>>>     app.start()\n>>> \n>>>   File \"/home/karthik/miniconda3/envs/neuromorphic/lib/python3.9/site-packages/ipykernel/kernelapp.py\", line 677, in start\n>>>     self.io_loop.start()\n>>> \n>>>   File \"/home/karthik/miniconda3/envs/neuromorphic/lib/python3.9/site-packages/tornado/platform/asyncio.py\", line 199, in start\n>>>     self.asyncio_loop.run_forever()\n>>> \n>>>   File \"/home/karthik/miniconda3/envs/neuromorphic/lib/python3.9/asyncio/base_events.py\", line 596, in run_forever\n>>>     self._run_once()\n>>> \n>>>   File \"/home/karthik/miniconda3/envs/neuromorphic/lib/python3.9/asyncio/base_events.py\", line 1890, in _run_once\n>>>     handle._run()\n>>> \n>>>   File \"/home/karthik/miniconda3/envs/neuromorphic/lib/python3.9/asyncio/events.py\", line 80, in _run\n>>>     self._context.run(self._callback, *self._args)\n>>> \n>>>   File \"/home/karthik/miniconda3/envs/neuromorphic/lib/python3.9/site-packages/ipykernel/kernelbase.py\", line 471, in dispatch_queue\n>>>     await self.process_one()\n>>> \n>>>   File \"/home/karthik/miniconda3/envs/neuromorphic/lib/python3.9/site-packages/ipykernel/kernelbase.py\", line 460, in process_one\n>>>     await dispatch(*args)\n>>> \n>>>   File \"/home/karthik/miniconda3/envs/neuromorphic/lib/python3.9/site-packages/ipykernel/kernelbase.py\", line 367, in dispatch_shell\n>>>     await result\n>>> \n>>>   File \"/home/karthik/miniconda3/envs/neuromorphic/lib/python3.9/site-packages/ipykernel/kernelbase.py\", line 662, in execute_request\n>>>     reply_content = await reply_content\n>>> \n>>>   File \"/home/karthik/miniconda3/envs/neuromorphic/lib/python3.9/site-packages/ipykernel/ipkernel.py\", line 360, in do_execute\n>>>     res = shell.run_cell(code, store_history=store_history, silent=silent)\n>>> \n>>>   File \"/home/karthik/miniconda3/envs/neuromorphic/lib/python3.9/site-packages/ipykernel/zmqshell.py\", line 532, in run_cell\n>>>     return super().run_cell(*args, **kwargs)\n>>> \n>>>   File \"/home/karthik/miniconda3/envs/neuromorphic/lib/python3.9/site-packages/IPython/core/interactiveshell.py\", line 2768, in run_cell\n>>>     result = self._run_cell(\n>>> \n>>>   File \"/home/karthik/miniconda3/envs/neuromorphic/lib/python3.9/site-packages/IPython/core/interactiveshell.py\", line 2814, in _run_cell\n>>>     return runner(coro)\n>>> \n>>>   File \"/home/karthik/miniconda3/envs/neuromorphic/lib/python3.9/site-packages/IPython/core/async_helpers.py\", line 129, in _pseudo_sync_runner\n>>>     coro.send(None)\n>>> \n>>>   File \"/home/karthik/miniconda3/envs/neuromorphic/lib/python3.9/site-packages/IPython/core/interactiveshell.py\", line 3012, in run_cell_async\n>>>     has_raised = await self.run_ast_nodes(code_ast.body, cell_name,\n>>> \n>>>   File \"/home/karthik/miniconda3/envs/neuromorphic/lib/python3.9/site-packages/IPython/core/interactiveshell.py\", line 3191, in run_ast_nodes\n>>>     if await self.run_code(code, result, async_=asy):\n>>> \n>>>   File \"/home/karthik/miniconda3/envs/neuromorphic/lib/python3.9/site-packages/IPython/core/interactiveshell.py\", line 3251, in run_code\n>>>     exec(code_obj, self.user_global_ns, self.user_ns)\n>>> \n>>>   File \"/tmp/ipykernel_3528265/1432848714.py\", line 4, in <module>\n>>>     out = sim.predict(np.ones((minibatch_size, 1, n_in)))\n>>> \n>>>   File \"/home/karthik/miniconda3/envs/neuromorphic/lib/python3.9/site-packages/nengo/utils/magic.py\", line 179, in __call__\n>>>     return self.wrapper(self.__wrapped__, self.instance, args, kwargs)\n>>> \n>>>   File \"/home/karthik/sim_clean/nengo-dl/nengo_dl/simulator.py\", line 67, in require_open\n>>>     return wrapped(*args, **kwargs)\n>>> \n>>>   File \"/home/karthik/sim_clean/nengo-dl/nengo_dl/simulator.py\", line 678, in predict\n>>>     return self._call_keras(\n>>> \n>>>   File \"/home/karthik/miniconda3/envs/neuromorphic/lib/python3.9/site-packages/nengo/utils/magic.py\", line 179, in __call__\n>>>     return self.wrapper(self.__wrapped__, self.instance, args, kwargs)\n>>> \n>>>   File \"/home/karthik/sim_clean/nengo-dl/nengo_dl/simulator.py\", line 50, in with_self\n>>>     output = wrapped(*args, **kwargs)\n>>> \n>>>   File \"/home/karthik/sim_clean/nengo-dl/nengo_dl/simulator.py\", line 1043, in _call_keras\n>>>     outputs = getattr(self.keras_model, func_type)(**func_args)\n>>> \n>>>   File \"/home/karthik/miniconda3/envs/neuromorphic/lib/python3.9/site-packages/keras/utils/traceback_utils.py\", line 64, in error_handler\n>>>     return fn(*args, **kwargs)\n>>> \n>>>   File \"/home/karthik/miniconda3/envs/neuromorphic/lib/python3.9/site-packages/keras/engine/training.py\", line 1789, in predict\n>>>     tmp_batch_outputs = self.predict_function(iterator)\n>>> \n>>>   File \"/home/karthik/miniconda3/envs/neuromorphic/lib/python3.9/site-packages/keras/engine/training.py\", line 1621, in predict_function\n>>>     return step_function(self, iterator)\n>>> \n>>>   File \"/home/karthik/miniconda3/envs/neuromorphic/lib/python3.9/site-packages/keras/engine/training.py\", line 1611, in step_function\n>>>     outputs = model.distribute_strategy.run(run_step, args=(data,))\n>>> \n>>>   File \"/home/karthik/miniconda3/envs/neuromorphic/lib/python3.9/site-packages/keras/engine/training.py\", line 1604, in run_step\n>>>     outputs = model.predict_step(data)\n>>> \n>>>   File \"/home/karthik/miniconda3/envs/neuromorphic/lib/python3.9/site-packages/keras/engine/training.py\", line 1572, in predict_step\n>>>     return self(x, training=False)\n>>> \n>>>   File \"/home/karthik/miniconda3/envs/neuromorphic/lib/python3.9/site-packages/keras/utils/traceback_utils.py\", line 64, in error_handler\n>>>     return fn(*args, **kwargs)\n>>> \n>>>   File \"/home/karthik/miniconda3/envs/neuromorphic/lib/python3.9/site-packages/keras/engine/base_layer.py\", line 1083, in __call__\n>>>     outputs = call_fn(inputs, *args, **kwargs)\n>>> \n>>>   File \"/home/karthik/miniconda3/envs/neuromorphic/lib/python3.9/site-packages/keras/utils/traceback_utils.py\", line 92, in error_handler\n>>>     return fn(*args, **kwargs)\n>>> \n>>>   File \"/home/karthik/miniconda3/envs/neuromorphic/lib/python3.9/site-packages/keras/engine/functional.py\", line 451, in call\n>>>     return self._run_internal_graph(\n>>> \n>>>   File \"/home/karthik/miniconda3/envs/neuromorphic/lib/python3.9/site-packages/keras/engine/functional.py\", line 589, in _run_internal_graph\n>>>     outputs = node.layer(*args, **kwargs)\n>>> \n>>>   File \"/home/karthik/miniconda3/envs/neuromorphic/lib/python3.9/site-packages/keras/utils/traceback_utils.py\", line 64, in error_handler\n>>>     return fn(*args, **kwargs)\n>>> \n>>>   File \"/home/karthik/miniconda3/envs/neuromorphic/lib/python3.9/site-packages/keras/engine/base_layer.py\", line 1083, in __call__\n>>>     outputs = call_fn(inputs, *args, **kwargs)\n>>> \n>>>   File \"/home/karthik/miniconda3/envs/neuromorphic/lib/python3.9/site-packages/keras/utils/traceback_utils.py\", line 92, in error_handler\n>>>     return fn(*args, **kwargs)\n>>> \n>>>   File \"/home/karthik/sim_clean/nengo-dl/nengo_dl/tensor_graph.py\", line 488, in call\n>>>     self._build_loop(sub) if self.use_loop else self._build_no_loop(sub)\n>>> \n>>>   File \"/home/karthik/sim_clean/nengo-dl/nengo_dl/tensor_graph.py\", line 638, in _build_loop\n>>>     loop_vars = tf.while_loop(\n>>> \n>>>   File \"/home/karthik/sim_clean/nengo-dl/nengo_dl/tensor_graph.py\", line 615, in loop_body\n>>>     loop_i = self._build_inner_loop(loop_i, update_probes, progress)\n>>> \n>>>   File \"/home/karthik/sim_clean/nengo-dl/nengo_dl/tensor_graph.py\", line 770, in _build_inner_loop\n>>>     side_effects = self.op_builder.build_step(self.signals, progress)\n>>> \n>>>   File \"/home/karthik/sim_clean/nengo-dl/nengo_dl/builder.py\", line 101, in build_step\n>>>     output = self.op_builds[ops].build_step(signals)\n>>> \n>>>   File \"/home/karthik/sim_clean/nengo-dl/nengo_dl/op_builders.py\", line 348, in build_step\n>>>     dot = tf.matmul(A, tf.transpose(X, perm=self.perm))\n>>> \n\nInput Source operations connected to node keras_model/TensorGraph/while/iteration_0/DotIncBuilder/MatMul:\nIn[0] keras_model/TensorGraph/while/iteration_0/DotIncBuilder/Reshape (defined at /home/karthik/sim_clean/nengo-dl/nengo_dl/signals.py:420)\t\nIn[1] keras_model/TensorGraph/while/iteration_0/DotIncBuilder/transpose:\n\nOperation defined at: (most recent call last)\n>>>   File \"/home/karthik/miniconda3/envs/neuromorphic/lib/python3.9/runpy.py\", line 197, in _run_module_as_main\n>>>     return _run_code(code, main_globals, None,\n>>> \n>>>   File \"/home/karthik/miniconda3/envs/neuromorphic/lib/python3.9/runpy.py\", line 87, in _run_code\n>>>     exec(code, run_globals)\n>>> \n>>>   File \"/home/karthik/miniconda3/envs/neuromorphic/lib/python3.9/site-packages/ipykernel_launcher.py\", line 16, in <module>\n>>>     app.launch_new_instance()\n>>> \n>>>   File \"/home/karthik/miniconda3/envs/neuromorphic/lib/python3.9/site-packages/traitlets/config/application.py\", line 846, in launch_instance\n>>>     app.start()\n>>> \n>>>   File \"/home/karthik/miniconda3/envs/neuromorphic/lib/python3.9/site-packages/ipykernel/kernelapp.py\", line 677, in start\n>>>     self.io_loop.start()\n>>> \n>>>   File \"/home/karthik/miniconda3/envs/neuromorphic/lib/python3.9/site-packages/tornado/platform/asyncio.py\", line 199, in start\n>>>     self.asyncio_loop.run_forever()\n>>> \n>>>   File \"/home/karthik/miniconda3/envs/neuromorphic/lib/python3.9/asyncio/base_events.py\", line 596, in run_forever\n>>>     self._run_once()\n>>> \n>>>   File \"/home/karthik/miniconda3/envs/neuromorphic/lib/python3.9/asyncio/base_events.py\", line 1890, in _run_once\n>>>     handle._run()\n>>> \n>>>   File \"/home/karthik/miniconda3/envs/neuromorphic/lib/python3.9/asyncio/events.py\", line 80, in _run\n>>>     self._context.run(self._callback, *self._args)\n>>> \n>>>   File \"/home/karthik/miniconda3/envs/neuromorphic/lib/python3.9/site-packages/ipykernel/kernelbase.py\", line 471, in dispatch_queue\n>>>     await self.process_one()\n>>> \n>>>   File \"/home/karthik/miniconda3/envs/neuromorphic/lib/python3.9/site-packages/ipykernel/kernelbase.py\", line 460, in process_one\n>>>     await dispatch(*args)\n>>> \n>>>   File \"/home/karthik/miniconda3/envs/neuromorphic/lib/python3.9/site-packages/ipykernel/kernelbase.py\", line 367, in dispatch_shell\n>>>     await result\n>>> \n>>>   File \"/home/karthik/miniconda3/envs/neuromorphic/lib/python3.9/site-packages/ipykernel/kernelbase.py\", line 662, in execute_request\n>>>     reply_content = await reply_content\n>>> \n>>>   File \"/home/karthik/miniconda3/envs/neuromorphic/lib/python3.9/site-packages/ipykernel/ipkernel.py\", line 360, in do_execute\n>>>     res = shell.run_cell(code, store_history=store_history, silent=silent)\n>>> \n>>>   File \"/home/karthik/miniconda3/envs/neuromorphic/lib/python3.9/site-packages/ipykernel/zmqshell.py\", line 532, in run_cell\n>>>     return super().run_cell(*args, **kwargs)\n>>> \n>>>   File \"/home/karthik/miniconda3/envs/neuromorphic/lib/python3.9/site-packages/IPython/core/interactiveshell.py\", line 2768, in run_cell\n>>>     result = self._run_cell(\n>>> \n>>>   File \"/home/karthik/miniconda3/envs/neuromorphic/lib/python3.9/site-packages/IPython/core/interactiveshell.py\", line 2814, in _run_cell\n>>>     return runner(coro)\n>>> \n>>>   File \"/home/karthik/miniconda3/envs/neuromorphic/lib/python3.9/site-packages/IPython/core/async_helpers.py\", line 129, in _pseudo_sync_runner\n>>>     coro.send(None)\n>>> \n>>>   File \"/home/karthik/miniconda3/envs/neuromorphic/lib/python3.9/site-packages/IPython/core/interactiveshell.py\", line 3012, in run_cell_async\n>>>     has_raised = await self.run_ast_nodes(code_ast.body, cell_name,\n>>> \n>>>   File \"/home/karthik/miniconda3/envs/neuromorphic/lib/python3.9/site-packages/IPython/core/interactiveshell.py\", line 3191, in run_ast_nodes\n>>>     if await self.run_code(code, result, async_=asy):\n>>> \n>>>   File \"/home/karthik/miniconda3/envs/neuromorphic/lib/python3.9/site-packages/IPython/core/interactiveshell.py\", line 3251, in run_code\n>>>     exec(code_obj, self.user_global_ns, self.user_ns)\n>>> \n>>>   File \"/tmp/ipykernel_3528265/1432848714.py\", line 4, in <module>\n>>>     out = sim.predict(np.ones((minibatch_size, 1, n_in)))\n>>> \n>>>   File \"/home/karthik/miniconda3/envs/neuromorphic/lib/python3.9/site-packages/nengo/utils/magic.py\", line 179, in __call__\n>>>     return self.wrapper(self.__wrapped__, self.instance, args, kwargs)\n>>> \n>>>   File \"/home/karthik/sim_clean/nengo-dl/nengo_dl/simulator.py\", line 67, in require_open\n>>>     return wrapped(*args, **kwargs)\n>>> \n>>>   File \"/home/karthik/sim_clean/nengo-dl/nengo_dl/simulator.py\", line 678, in predict\n>>>     return self._call_keras(\n>>> \n>>>   File \"/home/karthik/miniconda3/envs/neuromorphic/lib/python3.9/site-packages/nengo/utils/magic.py\", line 179, in __call__\n>>>     return self.wrapper(self.__wrapped__, self.instance, args, kwargs)\n>>> \n>>>   File \"/home/karthik/sim_clean/nengo-dl/nengo_dl/simulator.py\", line 50, in with_self\n>>>     output = wrapped(*args, **kwargs)\n>>> \n>>>   File \"/home/karthik/sim_clean/nengo-dl/nengo_dl/simulator.py\", line 1043, in _call_keras\n>>>     outputs = getattr(self.keras_model, func_type)(**func_args)\n>>> \n>>>   File \"/home/karthik/miniconda3/envs/neuromorphic/lib/python3.9/site-packages/keras/utils/traceback_utils.py\", line 64, in error_handler\n>>>     return fn(*args, **kwargs)\n>>> \n>>>   File \"/home/karthik/miniconda3/envs/neuromorphic/lib/python3.9/site-packages/keras/engine/training.py\", line 1789, in predict\n>>>     tmp_batch_outputs = self.predict_function(iterator)\n>>> \n>>>   File \"/home/karthik/miniconda3/envs/neuromorphic/lib/python3.9/site-packages/keras/engine/training.py\", line 1621, in predict_function\n>>>     return step_function(self, iterator)\n>>> \n>>>   File \"/home/karthik/miniconda3/envs/neuromorphic/lib/python3.9/site-packages/keras/engine/training.py\", line 1611, in step_function\n>>>     outputs = model.distribute_strategy.run(run_step, args=(data,))\n>>> \n>>>   File \"/home/karthik/miniconda3/envs/neuromorphic/lib/python3.9/site-packages/keras/engine/training.py\", line 1604, in run_step\n>>>     outputs = model.predict_step(data)\n>>> \n>>>   File \"/home/karthik/miniconda3/envs/neuromorphic/lib/python3.9/site-packages/keras/engine/training.py\", line 1572, in predict_step\n>>>     return self(x, training=False)\n>>> \n>>>   File \"/home/karthik/miniconda3/envs/neuromorphic/lib/python3.9/site-packages/keras/utils/traceback_utils.py\", line 64, in error_handler\n>>>     return fn(*args, **kwargs)\n>>> \n>>>   File \"/home/karthik/miniconda3/envs/neuromorphic/lib/python3.9/site-packages/keras/engine/base_layer.py\", line 1083, in __call__\n>>>     outputs = call_fn(inputs, *args, **kwargs)\n>>> \n>>>   File \"/home/karthik/miniconda3/envs/neuromorphic/lib/python3.9/site-packages/keras/utils/traceback_utils.py\", line 92, in error_handler\n>>>     return fn(*args, **kwargs)\n>>> \n>>>   File \"/home/karthik/miniconda3/envs/neuromorphic/lib/python3.9/site-packages/keras/engine/functional.py\", line 451, in call\n>>>     return self._run_internal_graph(\n>>> \n>>>   File \"/home/karthik/miniconda3/envs/neuromorphic/lib/python3.9/site-packages/keras/engine/functional.py\", line 589, in _run_internal_graph\n>>>     outputs = node.layer(*args, **kwargs)\n>>> \n>>>   File \"/home/karthik/miniconda3/envs/neuromorphic/lib/python3.9/site-packages/keras/utils/traceback_utils.py\", line 64, in error_handler\n>>>     return fn(*args, **kwargs)\n>>> \n>>>   File \"/home/karthik/miniconda3/envs/neuromorphic/lib/python3.9/site-packages/keras/engine/base_layer.py\", line 1083, in __call__\n>>>     outputs = call_fn(inputs, *args, **kwargs)\n>>> \n>>>   File \"/home/karthik/miniconda3/envs/neuromorphic/lib/python3.9/site-packages/keras/utils/traceback_utils.py\", line 92, in error_handler\n>>>     return fn(*args, **kwargs)\n>>> \n>>>   File \"/home/karthik/sim_clean/nengo-dl/nengo_dl/tensor_graph.py\", line 488, in call\n>>>     self._build_loop(sub) if self.use_loop else self._build_no_loop(sub)\n>>> \n>>>   File \"/home/karthik/sim_clean/nengo-dl/nengo_dl/tensor_graph.py\", line 638, in _build_loop\n>>>     loop_vars = tf.while_loop(\n>>> \n>>>   File \"/home/karthik/sim_clean/nengo-dl/nengo_dl/tensor_graph.py\", line 615, in loop_body\n>>>     loop_i = self._build_inner_loop(loop_i, update_probes, progress)\n>>> \n>>>   File \"/home/karthik/sim_clean/nengo-dl/nengo_dl/tensor_graph.py\", line 770, in _build_inner_loop\n>>>     side_effects = self.op_builder.build_step(self.signals, progress)\n>>> \n>>>   File \"/home/karthik/sim_clean/nengo-dl/nengo_dl/builder.py\", line 101, in build_step\n>>>     output = self.op_builds[ops].build_step(signals)\n>>> \n>>>   File \"/home/karthik/sim_clean/nengo-dl/nengo_dl/op_builders.py\", line 348, in build_step\n>>>     dot = tf.matmul(A, tf.transpose(X, perm=self.perm))\n>>> \n\nFunction call stack:\npredict_function -> keras_model_TensorGraph_while_body_586 -> predict_function -> keras_model_TensorGraph_while_body_586\n",
     "output_type": "error",
     "traceback": [
      "\u001b[0;31m---------------------------------------------------------------------------\u001b[0m",
      "\u001b[0;31mInternalError\u001b[0m                             Traceback (most recent call last)",
      "\u001b[1;32m/home/karthik/sim_clean/ece_594bb/ece594bb_pl-proj/spiking_encoder.ipynb Cell 7'\u001b[0m in \u001b[0;36m<module>\u001b[0;34m\u001b[0m\n\u001b[1;32m      <a href='vscode-notebook-cell://ssh-remote%2B7b22686f73744e616d65223a2267617573732e6563652e756373622e656475222c2275736572223a226b61727468696b227d/home/karthik/sim_clean/ece_594bb/ece594bb_pl-proj/spiking_encoder.ipynb#ch0000006vscode-remote?line=0'>1</a>\u001b[0m minibatch_size \u001b[39m=\u001b[39m \u001b[39m8\u001b[39m\n\u001b[1;32m      <a href='vscode-notebook-cell://ssh-remote%2B7b22686f73744e616d65223a2267617573732e6563652e756373622e656475222c2275736572223a226b61727468696b227d/home/karthik/sim_clean/ece_594bb/ece594bb_pl-proj/spiking_encoder.ipynb#ch0000006vscode-remote?line=2'>3</a>\u001b[0m \u001b[39mwith\u001b[39;00m nengo_dl\u001b[39m.\u001b[39mSimulator(network\u001b[39m=\u001b[39mauto_net, minibatch_size\u001b[39m=\u001b[39mminibatch_size) \u001b[39mas\u001b[39;00m sim:\n\u001b[0;32m----> <a href='vscode-notebook-cell://ssh-remote%2B7b22686f73744e616d65223a2267617573732e6563652e756373622e656475222c2275736572223a226b61727468696b227d/home/karthik/sim_clean/ece_594bb/ece594bb_pl-proj/spiking_encoder.ipynb#ch0000006vscode-remote?line=3'>4</a>\u001b[0m     out \u001b[39m=\u001b[39m sim\u001b[39m.\u001b[39;49mpredict(np\u001b[39m.\u001b[39;49mones((minibatch_size, \u001b[39m1\u001b[39;49m, n_in)))\n\u001b[1;32m      <a href='vscode-notebook-cell://ssh-remote%2B7b22686f73744e616d65223a2267617573732e6563652e756373622e656475222c2275736572223a226b61727468696b227d/home/karthik/sim_clean/ece_594bb/ece594bb_pl-proj/spiking_encoder.ipynb#ch0000006vscode-remote?line=4'>5</a>\u001b[0m     \u001b[39mprint\u001b[39m(out[p_c]\u001b[39m.\u001b[39mshape,out[p_b]\u001b[39m.\u001b[39mshape)\n",
      "File \u001b[0;32m~/miniconda3/envs/neuromorphic/lib/python3.9/site-packages/nengo/utils/magic.py:179\u001b[0m, in \u001b[0;36mBoundFunctionWrapper.__call__\u001b[0;34m(self, *args, **kwargs)\u001b[0m\n\u001b[1;32m    <a href='file:///home/karthik/miniconda3/envs/neuromorphic/lib/python3.9/site-packages/nengo/utils/magic.py?line=176'>177</a>\u001b[0m         \u001b[39mreturn\u001b[39;00m \u001b[39mself\u001b[39m\u001b[39m.\u001b[39mwrapper(wrapped, instance, args, kwargs)\n\u001b[1;32m    <a href='file:///home/karthik/miniconda3/envs/neuromorphic/lib/python3.9/site-packages/nengo/utils/magic.py?line=177'>178</a>\u001b[0m     \u001b[39melse\u001b[39;00m:\n\u001b[0;32m--> <a href='file:///home/karthik/miniconda3/envs/neuromorphic/lib/python3.9/site-packages/nengo/utils/magic.py?line=178'>179</a>\u001b[0m         \u001b[39mreturn\u001b[39;00m \u001b[39mself\u001b[39;49m\u001b[39m.\u001b[39;49mwrapper(\u001b[39mself\u001b[39;49m\u001b[39m.\u001b[39;49m__wrapped__, \u001b[39mself\u001b[39;49m\u001b[39m.\u001b[39;49minstance, args, kwargs)\n\u001b[1;32m    <a href='file:///home/karthik/miniconda3/envs/neuromorphic/lib/python3.9/site-packages/nengo/utils/magic.py?line=179'>180</a>\u001b[0m \u001b[39melse\u001b[39;00m:\n\u001b[1;32m    <a href='file:///home/karthik/miniconda3/envs/neuromorphic/lib/python3.9/site-packages/nengo/utils/magic.py?line=180'>181</a>\u001b[0m     instance \u001b[39m=\u001b[39m \u001b[39mgetattr\u001b[39m(\u001b[39mself\u001b[39m\u001b[39m.\u001b[39m__wrapped__, \u001b[39m\"\u001b[39m\u001b[39m__self__\u001b[39m\u001b[39m\"\u001b[39m, \u001b[39mNone\u001b[39;00m)\n",
      "File \u001b[0;32m~/sim_clean/nengo-dl/nengo_dl/simulator.py:67\u001b[0m, in \u001b[0;36mrequire_open\u001b[0;34m(wrapped, instance, args, kwargs)\u001b[0m\n\u001b[1;32m     <a href='file:///home/karthik/sim_clean/nengo-dl/nengo_dl/simulator.py?line=61'>62</a>\u001b[0m \u001b[39mif\u001b[39;00m instance\u001b[39m.\u001b[39mclosed:\n\u001b[1;32m     <a href='file:///home/karthik/sim_clean/nengo-dl/nengo_dl/simulator.py?line=62'>63</a>\u001b[0m     \u001b[39mraise\u001b[39;00m SimulatorClosed(\n\u001b[1;32m     <a href='file:///home/karthik/sim_clean/nengo-dl/nengo_dl/simulator.py?line=63'>64</a>\u001b[0m         \u001b[39mf\u001b[39m\u001b[39m\"\u001b[39m\u001b[39mCannot call \u001b[39m\u001b[39m{\u001b[39;00mwrapped\u001b[39m.\u001b[39m\u001b[39m__name__\u001b[39m\u001b[39m}\u001b[39;00m\u001b[39m after simulator is closed\u001b[39m\u001b[39m\"\u001b[39m\n\u001b[1;32m     <a href='file:///home/karthik/sim_clean/nengo-dl/nengo_dl/simulator.py?line=64'>65</a>\u001b[0m     )\n\u001b[0;32m---> <a href='file:///home/karthik/sim_clean/nengo-dl/nengo_dl/simulator.py?line=66'>67</a>\u001b[0m \u001b[39mreturn\u001b[39;00m wrapped(\u001b[39m*\u001b[39;49margs, \u001b[39m*\u001b[39;49m\u001b[39m*\u001b[39;49mkwargs)\n",
      "File \u001b[0;32m~/sim_clean/nengo-dl/nengo_dl/simulator.py:678\u001b[0m, in \u001b[0;36mSimulator.predict\u001b[0;34m(self, x, n_steps, stateful, **kwargs)\u001b[0m\n\u001b[1;32m    <a href='file:///home/karthik/sim_clean/nengo-dl/nengo_dl/simulator.py?line=648'>649</a>\u001b[0m \u001b[39m@require_open\u001b[39m\n\u001b[1;32m    <a href='file:///home/karthik/sim_clean/nengo-dl/nengo_dl/simulator.py?line=649'>650</a>\u001b[0m \u001b[39m@fill_docs\u001b[39m(\u001b[39m\"\u001b[39m\u001b[39mx\u001b[39m\u001b[39m\"\u001b[39m, \u001b[39m\"\u001b[39m\u001b[39mn_steps\u001b[39m\u001b[39m\"\u001b[39m, \u001b[39m\"\u001b[39m\u001b[39mstateful\u001b[39m\u001b[39m\"\u001b[39m)\n\u001b[1;32m    <a href='file:///home/karthik/sim_clean/nengo-dl/nengo_dl/simulator.py?line=650'>651</a>\u001b[0m \u001b[39mdef\u001b[39;00m \u001b[39mpredict\u001b[39m(\u001b[39mself\u001b[39m, x\u001b[39m=\u001b[39m\u001b[39mNone\u001b[39;00m, n_steps\u001b[39m=\u001b[39m\u001b[39mNone\u001b[39;00m, stateful\u001b[39m=\u001b[39m\u001b[39mFalse\u001b[39;00m, \u001b[39m*\u001b[39m\u001b[39m*\u001b[39mkwargs):\n\u001b[1;32m    <a href='file:///home/karthik/sim_clean/nengo-dl/nengo_dl/simulator.py?line=651'>652</a>\u001b[0m     \u001b[39m\"\"\"\u001b[39;00m\n\u001b[1;32m    <a href='file:///home/karthik/sim_clean/nengo-dl/nengo_dl/simulator.py?line=652'>653</a>\u001b[0m \u001b[39m    Generate output predictions for the input samples.\u001b[39;00m\n\u001b[1;32m    <a href='file:///home/karthik/sim_clean/nengo-dl/nengo_dl/simulator.py?line=653'>654</a>\u001b[0m \n\u001b[0;32m   (...)\u001b[0m\n\u001b[1;32m    <a href='file:///home/karthik/sim_clean/nengo-dl/nengo_dl/simulator.py?line=674'>675</a>\u001b[0m \u001b[39m        Output values from all the Probes in the network.\u001b[39;00m\n\u001b[1;32m    <a href='file:///home/karthik/sim_clean/nengo-dl/nengo_dl/simulator.py?line=675'>676</a>\u001b[0m \u001b[39m    \"\"\"\u001b[39;00m\n\u001b[0;32m--> <a href='file:///home/karthik/sim_clean/nengo-dl/nengo_dl/simulator.py?line=677'>678</a>\u001b[0m     \u001b[39mreturn\u001b[39;00m \u001b[39mself\u001b[39;49m\u001b[39m.\u001b[39;49m_call_keras(\n\u001b[1;32m    <a href='file:///home/karthik/sim_clean/nengo-dl/nengo_dl/simulator.py?line=678'>679</a>\u001b[0m         \u001b[39m\"\u001b[39;49m\u001b[39mpredict\u001b[39;49m\u001b[39m\"\u001b[39;49m, x\u001b[39m=\u001b[39;49mx, n_steps\u001b[39m=\u001b[39;49mn_steps, stateful\u001b[39m=\u001b[39;49mstateful, \u001b[39m*\u001b[39;49m\u001b[39m*\u001b[39;49mkwargs\n\u001b[1;32m    <a href='file:///home/karthik/sim_clean/nengo-dl/nengo_dl/simulator.py?line=679'>680</a>\u001b[0m     )\n",
      "File \u001b[0;32m~/miniconda3/envs/neuromorphic/lib/python3.9/site-packages/nengo/utils/magic.py:179\u001b[0m, in \u001b[0;36mBoundFunctionWrapper.__call__\u001b[0;34m(self, *args, **kwargs)\u001b[0m\n\u001b[1;32m    <a href='file:///home/karthik/miniconda3/envs/neuromorphic/lib/python3.9/site-packages/nengo/utils/magic.py?line=176'>177</a>\u001b[0m         \u001b[39mreturn\u001b[39;00m \u001b[39mself\u001b[39m\u001b[39m.\u001b[39mwrapper(wrapped, instance, args, kwargs)\n\u001b[1;32m    <a href='file:///home/karthik/miniconda3/envs/neuromorphic/lib/python3.9/site-packages/nengo/utils/magic.py?line=177'>178</a>\u001b[0m     \u001b[39melse\u001b[39;00m:\n\u001b[0;32m--> <a href='file:///home/karthik/miniconda3/envs/neuromorphic/lib/python3.9/site-packages/nengo/utils/magic.py?line=178'>179</a>\u001b[0m         \u001b[39mreturn\u001b[39;00m \u001b[39mself\u001b[39;49m\u001b[39m.\u001b[39;49mwrapper(\u001b[39mself\u001b[39;49m\u001b[39m.\u001b[39;49m__wrapped__, \u001b[39mself\u001b[39;49m\u001b[39m.\u001b[39;49minstance, args, kwargs)\n\u001b[1;32m    <a href='file:///home/karthik/miniconda3/envs/neuromorphic/lib/python3.9/site-packages/nengo/utils/magic.py?line=179'>180</a>\u001b[0m \u001b[39melse\u001b[39;00m:\n\u001b[1;32m    <a href='file:///home/karthik/miniconda3/envs/neuromorphic/lib/python3.9/site-packages/nengo/utils/magic.py?line=180'>181</a>\u001b[0m     instance \u001b[39m=\u001b[39m \u001b[39mgetattr\u001b[39m(\u001b[39mself\u001b[39m\u001b[39m.\u001b[39m__wrapped__, \u001b[39m\"\u001b[39m\u001b[39m__self__\u001b[39m\u001b[39m\"\u001b[39m, \u001b[39mNone\u001b[39;00m)\n",
      "File \u001b[0;32m~/sim_clean/nengo-dl/nengo_dl/simulator.py:50\u001b[0m, in \u001b[0;36mwith_self\u001b[0;34m(wrapped, instance, args, kwargs)\u001b[0m\n\u001b[1;32m     <a href='file:///home/karthik/sim_clean/nengo-dl/nengo_dl/simulator.py?line=47'>48</a>\u001b[0m \u001b[39mtry\u001b[39;00m:\n\u001b[1;32m     <a href='file:///home/karthik/sim_clean/nengo-dl/nengo_dl/simulator.py?line=48'>49</a>\u001b[0m     \u001b[39mwith\u001b[39;00m tf\u001b[39m.\u001b[39mdevice(instance\u001b[39m.\u001b[39mtensor_graph\u001b[39m.\u001b[39mdevice):\n\u001b[0;32m---> <a href='file:///home/karthik/sim_clean/nengo-dl/nengo_dl/simulator.py?line=49'>50</a>\u001b[0m         output \u001b[39m=\u001b[39m wrapped(\u001b[39m*\u001b[39;49margs, \u001b[39m*\u001b[39;49m\u001b[39m*\u001b[39;49mkwargs)\n\u001b[1;32m     <a href='file:///home/karthik/sim_clean/nengo-dl/nengo_dl/simulator.py?line=50'>51</a>\u001b[0m \u001b[39mfinally\u001b[39;00m:\n\u001b[1;32m     <a href='file:///home/karthik/sim_clean/nengo-dl/nengo_dl/simulator.py?line=51'>52</a>\u001b[0m     tf\u001b[39m.\u001b[39mkeras\u001b[39m.\u001b[39mbackend\u001b[39m.\u001b[39mset_floatx(keras_dtype)\n",
      "File \u001b[0;32m~/sim_clean/nengo-dl/nengo_dl/simulator.py:1043\u001b[0m, in \u001b[0;36mSimulator._call_keras\u001b[0;34m(self, func_type, x, y, n_steps, stateful, **kwargs)\u001b[0m\n\u001b[1;32m   <a href='file:///home/karthik/sim_clean/nengo-dl/nengo_dl/simulator.py?line=1039'>1040</a>\u001b[0m \u001b[39melse\u001b[39;00m:\n\u001b[1;32m   <a href='file:///home/karthik/sim_clean/nengo-dl/nengo_dl/simulator.py?line=1040'>1041</a>\u001b[0m     func_args \u001b[39m=\u001b[39m \u001b[39mdict\u001b[39m(x\u001b[39m=\u001b[39mx, y\u001b[39m=\u001b[39my, \u001b[39m*\u001b[39m\u001b[39m*\u001b[39mkwargs)\n\u001b[0;32m-> <a href='file:///home/karthik/sim_clean/nengo-dl/nengo_dl/simulator.py?line=1042'>1043</a>\u001b[0m outputs \u001b[39m=\u001b[39m \u001b[39mgetattr\u001b[39;49m(\u001b[39mself\u001b[39;49m\u001b[39m.\u001b[39;49mkeras_model, func_type)(\u001b[39m*\u001b[39;49m\u001b[39m*\u001b[39;49mfunc_args)\n\u001b[1;32m   <a href='file:///home/karthik/sim_clean/nengo-dl/nengo_dl/simulator.py?line=1044'>1045</a>\u001b[0m \u001b[39m# update n_steps/time\u001b[39;00m\n\u001b[1;32m   <a href='file:///home/karthik/sim_clean/nengo-dl/nengo_dl/simulator.py?line=1045'>1046</a>\u001b[0m \u001b[39mif\u001b[39;00m stateful:\n",
      "File \u001b[0;32m~/miniconda3/envs/neuromorphic/lib/python3.9/site-packages/keras/utils/traceback_utils.py:67\u001b[0m, in \u001b[0;36mfilter_traceback.<locals>.error_handler\u001b[0;34m(*args, **kwargs)\u001b[0m\n\u001b[1;32m     <a href='file:///home/karthik/miniconda3/envs/neuromorphic/lib/python3.9/site-packages/keras/utils/traceback_utils.py?line=64'>65</a>\u001b[0m \u001b[39mexcept\u001b[39;00m \u001b[39mException\u001b[39;00m \u001b[39mas\u001b[39;00m e:  \u001b[39m# pylint: disable=broad-except\u001b[39;00m\n\u001b[1;32m     <a href='file:///home/karthik/miniconda3/envs/neuromorphic/lib/python3.9/site-packages/keras/utils/traceback_utils.py?line=65'>66</a>\u001b[0m   filtered_tb \u001b[39m=\u001b[39m _process_traceback_frames(e\u001b[39m.\u001b[39m__traceback__)\n\u001b[0;32m---> <a href='file:///home/karthik/miniconda3/envs/neuromorphic/lib/python3.9/site-packages/keras/utils/traceback_utils.py?line=66'>67</a>\u001b[0m   \u001b[39mraise\u001b[39;00m e\u001b[39m.\u001b[39mwith_traceback(filtered_tb) \u001b[39mfrom\u001b[39;00m \u001b[39mNone\u001b[39m\n\u001b[1;32m     <a href='file:///home/karthik/miniconda3/envs/neuromorphic/lib/python3.9/site-packages/keras/utils/traceback_utils.py?line=67'>68</a>\u001b[0m \u001b[39mfinally\u001b[39;00m:\n\u001b[1;32m     <a href='file:///home/karthik/miniconda3/envs/neuromorphic/lib/python3.9/site-packages/keras/utils/traceback_utils.py?line=68'>69</a>\u001b[0m   \u001b[39mdel\u001b[39;00m filtered_tb\n",
      "File \u001b[0;32m~/miniconda3/envs/neuromorphic/lib/python3.9/site-packages/tensorflow/python/eager/execute.py:58\u001b[0m, in \u001b[0;36mquick_execute\u001b[0;34m(op_name, num_outputs, inputs, attrs, ctx, name)\u001b[0m\n\u001b[1;32m     <a href='file:///home/karthik/miniconda3/envs/neuromorphic/lib/python3.9/site-packages/tensorflow/python/eager/execute.py?line=55'>56</a>\u001b[0m \u001b[39mtry\u001b[39;00m:\n\u001b[1;32m     <a href='file:///home/karthik/miniconda3/envs/neuromorphic/lib/python3.9/site-packages/tensorflow/python/eager/execute.py?line=56'>57</a>\u001b[0m   ctx\u001b[39m.\u001b[39mensure_initialized()\n\u001b[0;32m---> <a href='file:///home/karthik/miniconda3/envs/neuromorphic/lib/python3.9/site-packages/tensorflow/python/eager/execute.py?line=57'>58</a>\u001b[0m   tensors \u001b[39m=\u001b[39m pywrap_tfe\u001b[39m.\u001b[39mTFE_Py_Execute(ctx\u001b[39m.\u001b[39m_handle, device_name, op_name,\n\u001b[1;32m     <a href='file:///home/karthik/miniconda3/envs/neuromorphic/lib/python3.9/site-packages/tensorflow/python/eager/execute.py?line=58'>59</a>\u001b[0m                                       inputs, attrs, num_outputs)\n\u001b[1;32m     <a href='file:///home/karthik/miniconda3/envs/neuromorphic/lib/python3.9/site-packages/tensorflow/python/eager/execute.py?line=59'>60</a>\u001b[0m \u001b[39mexcept\u001b[39;00m core\u001b[39m.\u001b[39m_NotOkStatusException \u001b[39mas\u001b[39;00m e:\n\u001b[1;32m     <a href='file:///home/karthik/miniconda3/envs/neuromorphic/lib/python3.9/site-packages/tensorflow/python/eager/execute.py?line=60'>61</a>\u001b[0m   \u001b[39mif\u001b[39;00m name \u001b[39mis\u001b[39;00m \u001b[39mnot\u001b[39;00m \u001b[39mNone\u001b[39;00m:\n",
      "\u001b[0;31mInternalError\u001b[0m: 2 root error(s) found.\n  (0) INTERNAL:  Attempting to perform BLAS operation using StreamExecutor without BLAS support\n\t [[node keras_model/TensorGraph/while/iteration_0/DotIncBuilder/MatMul\n (defined at /home/karthik/sim_clean/nengo-dl/nengo_dl/op_builders.py:348)\n]]\n\t [[keras_model/TensorGraph/while/exit/_130/_8]]\n  (1) INTERNAL:  Attempting to perform BLAS operation using StreamExecutor without BLAS support\n\t [[node keras_model/TensorGraph/while/iteration_0/DotIncBuilder/MatMul\n (defined at /home/karthik/sim_clean/nengo-dl/nengo_dl/op_builders.py:348)\n]]\n0 successful operations.\n0 derived errors ignored. [Op:__inference_predict_function_918]\n\nErrors may have originated from an input operation.\nInput Source operations connected to node keras_model/TensorGraph/while/iteration_0/DotIncBuilder/MatMul:\nIn[0] keras_model/TensorGraph/while/iteration_0/DotIncBuilder/Reshape (defined at /home/karthik/sim_clean/nengo-dl/nengo_dl/signals.py:420)\t\nIn[1] keras_model/TensorGraph/while/iteration_0/DotIncBuilder/transpose:\n\nOperation defined at: (most recent call last)\n>>>   File \"/home/karthik/miniconda3/envs/neuromorphic/lib/python3.9/runpy.py\", line 197, in _run_module_as_main\n>>>     return _run_code(code, main_globals, None,\n>>> \n>>>   File \"/home/karthik/miniconda3/envs/neuromorphic/lib/python3.9/runpy.py\", line 87, in _run_code\n>>>     exec(code, run_globals)\n>>> \n>>>   File \"/home/karthik/miniconda3/envs/neuromorphic/lib/python3.9/site-packages/ipykernel_launcher.py\", line 16, in <module>\n>>>     app.launch_new_instance()\n>>> \n>>>   File \"/home/karthik/miniconda3/envs/neuromorphic/lib/python3.9/site-packages/traitlets/config/application.py\", line 846, in launch_instance\n>>>     app.start()\n>>> \n>>>   File \"/home/karthik/miniconda3/envs/neuromorphic/lib/python3.9/site-packages/ipykernel/kernelapp.py\", line 677, in start\n>>>     self.io_loop.start()\n>>> \n>>>   File \"/home/karthik/miniconda3/envs/neuromorphic/lib/python3.9/site-packages/tornado/platform/asyncio.py\", line 199, in start\n>>>     self.asyncio_loop.run_forever()\n>>> \n>>>   File \"/home/karthik/miniconda3/envs/neuromorphic/lib/python3.9/asyncio/base_events.py\", line 596, in run_forever\n>>>     self._run_once()\n>>> \n>>>   File \"/home/karthik/miniconda3/envs/neuromorphic/lib/python3.9/asyncio/base_events.py\", line 1890, in _run_once\n>>>     handle._run()\n>>> \n>>>   File \"/home/karthik/miniconda3/envs/neuromorphic/lib/python3.9/asyncio/events.py\", line 80, in _run\n>>>     self._context.run(self._callback, *self._args)\n>>> \n>>>   File \"/home/karthik/miniconda3/envs/neuromorphic/lib/python3.9/site-packages/ipykernel/kernelbase.py\", line 471, in dispatch_queue\n>>>     await self.process_one()\n>>> \n>>>   File \"/home/karthik/miniconda3/envs/neuromorphic/lib/python3.9/site-packages/ipykernel/kernelbase.py\", line 460, in process_one\n>>>     await dispatch(*args)\n>>> \n>>>   File \"/home/karthik/miniconda3/envs/neuromorphic/lib/python3.9/site-packages/ipykernel/kernelbase.py\", line 367, in dispatch_shell\n>>>     await result\n>>> \n>>>   File \"/home/karthik/miniconda3/envs/neuromorphic/lib/python3.9/site-packages/ipykernel/kernelbase.py\", line 662, in execute_request\n>>>     reply_content = await reply_content\n>>> \n>>>   File \"/home/karthik/miniconda3/envs/neuromorphic/lib/python3.9/site-packages/ipykernel/ipkernel.py\", line 360, in do_execute\n>>>     res = shell.run_cell(code, store_history=store_history, silent=silent)\n>>> \n>>>   File \"/home/karthik/miniconda3/envs/neuromorphic/lib/python3.9/site-packages/ipykernel/zmqshell.py\", line 532, in run_cell\n>>>     return super().run_cell(*args, **kwargs)\n>>> \n>>>   File \"/home/karthik/miniconda3/envs/neuromorphic/lib/python3.9/site-packages/IPython/core/interactiveshell.py\", line 2768, in run_cell\n>>>     result = self._run_cell(\n>>> \n>>>   File \"/home/karthik/miniconda3/envs/neuromorphic/lib/python3.9/site-packages/IPython/core/interactiveshell.py\", line 2814, in _run_cell\n>>>     return runner(coro)\n>>> \n>>>   File \"/home/karthik/miniconda3/envs/neuromorphic/lib/python3.9/site-packages/IPython/core/async_helpers.py\", line 129, in _pseudo_sync_runner\n>>>     coro.send(None)\n>>> \n>>>   File \"/home/karthik/miniconda3/envs/neuromorphic/lib/python3.9/site-packages/IPython/core/interactiveshell.py\", line 3012, in run_cell_async\n>>>     has_raised = await self.run_ast_nodes(code_ast.body, cell_name,\n>>> \n>>>   File \"/home/karthik/miniconda3/envs/neuromorphic/lib/python3.9/site-packages/IPython/core/interactiveshell.py\", line 3191, in run_ast_nodes\n>>>     if await self.run_code(code, result, async_=asy):\n>>> \n>>>   File \"/home/karthik/miniconda3/envs/neuromorphic/lib/python3.9/site-packages/IPython/core/interactiveshell.py\", line 3251, in run_code\n>>>     exec(code_obj, self.user_global_ns, self.user_ns)\n>>> \n>>>   File \"/tmp/ipykernel_3528265/1432848714.py\", line 4, in <module>\n>>>     out = sim.predict(np.ones((minibatch_size, 1, n_in)))\n>>> \n>>>   File \"/home/karthik/miniconda3/envs/neuromorphic/lib/python3.9/site-packages/nengo/utils/magic.py\", line 179, in __call__\n>>>     return self.wrapper(self.__wrapped__, self.instance, args, kwargs)\n>>> \n>>>   File \"/home/karthik/sim_clean/nengo-dl/nengo_dl/simulator.py\", line 67, in require_open\n>>>     return wrapped(*args, **kwargs)\n>>> \n>>>   File \"/home/karthik/sim_clean/nengo-dl/nengo_dl/simulator.py\", line 678, in predict\n>>>     return self._call_keras(\n>>> \n>>>   File \"/home/karthik/miniconda3/envs/neuromorphic/lib/python3.9/site-packages/nengo/utils/magic.py\", line 179, in __call__\n>>>     return self.wrapper(self.__wrapped__, self.instance, args, kwargs)\n>>> \n>>>   File \"/home/karthik/sim_clean/nengo-dl/nengo_dl/simulator.py\", line 50, in with_self\n>>>     output = wrapped(*args, **kwargs)\n>>> \n>>>   File \"/home/karthik/sim_clean/nengo-dl/nengo_dl/simulator.py\", line 1043, in _call_keras\n>>>     outputs = getattr(self.keras_model, func_type)(**func_args)\n>>> \n>>>   File \"/home/karthik/miniconda3/envs/neuromorphic/lib/python3.9/site-packages/keras/utils/traceback_utils.py\", line 64, in error_handler\n>>>     return fn(*args, **kwargs)\n>>> \n>>>   File \"/home/karthik/miniconda3/envs/neuromorphic/lib/python3.9/site-packages/keras/engine/training.py\", line 1789, in predict\n>>>     tmp_batch_outputs = self.predict_function(iterator)\n>>> \n>>>   File \"/home/karthik/miniconda3/envs/neuromorphic/lib/python3.9/site-packages/keras/engine/training.py\", line 1621, in predict_function\n>>>     return step_function(self, iterator)\n>>> \n>>>   File \"/home/karthik/miniconda3/envs/neuromorphic/lib/python3.9/site-packages/keras/engine/training.py\", line 1611, in step_function\n>>>     outputs = model.distribute_strategy.run(run_step, args=(data,))\n>>> \n>>>   File \"/home/karthik/miniconda3/envs/neuromorphic/lib/python3.9/site-packages/keras/engine/training.py\", line 1604, in run_step\n>>>     outputs = model.predict_step(data)\n>>> \n>>>   File \"/home/karthik/miniconda3/envs/neuromorphic/lib/python3.9/site-packages/keras/engine/training.py\", line 1572, in predict_step\n>>>     return self(x, training=False)\n>>> \n>>>   File \"/home/karthik/miniconda3/envs/neuromorphic/lib/python3.9/site-packages/keras/utils/traceback_utils.py\", line 64, in error_handler\n>>>     return fn(*args, **kwargs)\n>>> \n>>>   File \"/home/karthik/miniconda3/envs/neuromorphic/lib/python3.9/site-packages/keras/engine/base_layer.py\", line 1083, in __call__\n>>>     outputs = call_fn(inputs, *args, **kwargs)\n>>> \n>>>   File \"/home/karthik/miniconda3/envs/neuromorphic/lib/python3.9/site-packages/keras/utils/traceback_utils.py\", line 92, in error_handler\n>>>     return fn(*args, **kwargs)\n>>> \n>>>   File \"/home/karthik/miniconda3/envs/neuromorphic/lib/python3.9/site-packages/keras/engine/functional.py\", line 451, in call\n>>>     return self._run_internal_graph(\n>>> \n>>>   File \"/home/karthik/miniconda3/envs/neuromorphic/lib/python3.9/site-packages/keras/engine/functional.py\", line 589, in _run_internal_graph\n>>>     outputs = node.layer(*args, **kwargs)\n>>> \n>>>   File \"/home/karthik/miniconda3/envs/neuromorphic/lib/python3.9/site-packages/keras/utils/traceback_utils.py\", line 64, in error_handler\n>>>     return fn(*args, **kwargs)\n>>> \n>>>   File \"/home/karthik/miniconda3/envs/neuromorphic/lib/python3.9/site-packages/keras/engine/base_layer.py\", line 1083, in __call__\n>>>     outputs = call_fn(inputs, *args, **kwargs)\n>>> \n>>>   File \"/home/karthik/miniconda3/envs/neuromorphic/lib/python3.9/site-packages/keras/utils/traceback_utils.py\", line 92, in error_handler\n>>>     return fn(*args, **kwargs)\n>>> \n>>>   File \"/home/karthik/sim_clean/nengo-dl/nengo_dl/tensor_graph.py\", line 488, in call\n>>>     self._build_loop(sub) if self.use_loop else self._build_no_loop(sub)\n>>> \n>>>   File \"/home/karthik/sim_clean/nengo-dl/nengo_dl/tensor_graph.py\", line 638, in _build_loop\n>>>     loop_vars = tf.while_loop(\n>>> \n>>>   File \"/home/karthik/sim_clean/nengo-dl/nengo_dl/tensor_graph.py\", line 615, in loop_body\n>>>     loop_i = self._build_inner_loop(loop_i, update_probes, progress)\n>>> \n>>>   File \"/home/karthik/sim_clean/nengo-dl/nengo_dl/tensor_graph.py\", line 770, in _build_inner_loop\n>>>     side_effects = self.op_builder.build_step(self.signals, progress)\n>>> \n>>>   File \"/home/karthik/sim_clean/nengo-dl/nengo_dl/builder.py\", line 101, in build_step\n>>>     output = self.op_builds[ops].build_step(signals)\n>>> \n>>>   File \"/home/karthik/sim_clean/nengo-dl/nengo_dl/op_builders.py\", line 348, in build_step\n>>>     dot = tf.matmul(A, tf.transpose(X, perm=self.perm))\n>>> \n\nInput Source operations connected to node keras_model/TensorGraph/while/iteration_0/DotIncBuilder/MatMul:\nIn[0] keras_model/TensorGraph/while/iteration_0/DotIncBuilder/Reshape (defined at /home/karthik/sim_clean/nengo-dl/nengo_dl/signals.py:420)\t\nIn[1] keras_model/TensorGraph/while/iteration_0/DotIncBuilder/transpose:\n\nOperation defined at: (most recent call last)\n>>>   File \"/home/karthik/miniconda3/envs/neuromorphic/lib/python3.9/runpy.py\", line 197, in _run_module_as_main\n>>>     return _run_code(code, main_globals, None,\n>>> \n>>>   File \"/home/karthik/miniconda3/envs/neuromorphic/lib/python3.9/runpy.py\", line 87, in _run_code\n>>>     exec(code, run_globals)\n>>> \n>>>   File \"/home/karthik/miniconda3/envs/neuromorphic/lib/python3.9/site-packages/ipykernel_launcher.py\", line 16, in <module>\n>>>     app.launch_new_instance()\n>>> \n>>>   File \"/home/karthik/miniconda3/envs/neuromorphic/lib/python3.9/site-packages/traitlets/config/application.py\", line 846, in launch_instance\n>>>     app.start()\n>>> \n>>>   File \"/home/karthik/miniconda3/envs/neuromorphic/lib/python3.9/site-packages/ipykernel/kernelapp.py\", line 677, in start\n>>>     self.io_loop.start()\n>>> \n>>>   File \"/home/karthik/miniconda3/envs/neuromorphic/lib/python3.9/site-packages/tornado/platform/asyncio.py\", line 199, in start\n>>>     self.asyncio_loop.run_forever()\n>>> \n>>>   File \"/home/karthik/miniconda3/envs/neuromorphic/lib/python3.9/asyncio/base_events.py\", line 596, in run_forever\n>>>     self._run_once()\n>>> \n>>>   File \"/home/karthik/miniconda3/envs/neuromorphic/lib/python3.9/asyncio/base_events.py\", line 1890, in _run_once\n>>>     handle._run()\n>>> \n>>>   File \"/home/karthik/miniconda3/envs/neuromorphic/lib/python3.9/asyncio/events.py\", line 80, in _run\n>>>     self._context.run(self._callback, *self._args)\n>>> \n>>>   File \"/home/karthik/miniconda3/envs/neuromorphic/lib/python3.9/site-packages/ipykernel/kernelbase.py\", line 471, in dispatch_queue\n>>>     await self.process_one()\n>>> \n>>>   File \"/home/karthik/miniconda3/envs/neuromorphic/lib/python3.9/site-packages/ipykernel/kernelbase.py\", line 460, in process_one\n>>>     await dispatch(*args)\n>>> \n>>>   File \"/home/karthik/miniconda3/envs/neuromorphic/lib/python3.9/site-packages/ipykernel/kernelbase.py\", line 367, in dispatch_shell\n>>>     await result\n>>> \n>>>   File \"/home/karthik/miniconda3/envs/neuromorphic/lib/python3.9/site-packages/ipykernel/kernelbase.py\", line 662, in execute_request\n>>>     reply_content = await reply_content\n>>> \n>>>   File \"/home/karthik/miniconda3/envs/neuromorphic/lib/python3.9/site-packages/ipykernel/ipkernel.py\", line 360, in do_execute\n>>>     res = shell.run_cell(code, store_history=store_history, silent=silent)\n>>> \n>>>   File \"/home/karthik/miniconda3/envs/neuromorphic/lib/python3.9/site-packages/ipykernel/zmqshell.py\", line 532, in run_cell\n>>>     return super().run_cell(*args, **kwargs)\n>>> \n>>>   File \"/home/karthik/miniconda3/envs/neuromorphic/lib/python3.9/site-packages/IPython/core/interactiveshell.py\", line 2768, in run_cell\n>>>     result = self._run_cell(\n>>> \n>>>   File \"/home/karthik/miniconda3/envs/neuromorphic/lib/python3.9/site-packages/IPython/core/interactiveshell.py\", line 2814, in _run_cell\n>>>     return runner(coro)\n>>> \n>>>   File \"/home/karthik/miniconda3/envs/neuromorphic/lib/python3.9/site-packages/IPython/core/async_helpers.py\", line 129, in _pseudo_sync_runner\n>>>     coro.send(None)\n>>> \n>>>   File \"/home/karthik/miniconda3/envs/neuromorphic/lib/python3.9/site-packages/IPython/core/interactiveshell.py\", line 3012, in run_cell_async\n>>>     has_raised = await self.run_ast_nodes(code_ast.body, cell_name,\n>>> \n>>>   File \"/home/karthik/miniconda3/envs/neuromorphic/lib/python3.9/site-packages/IPython/core/interactiveshell.py\", line 3191, in run_ast_nodes\n>>>     if await self.run_code(code, result, async_=asy):\n>>> \n>>>   File \"/home/karthik/miniconda3/envs/neuromorphic/lib/python3.9/site-packages/IPython/core/interactiveshell.py\", line 3251, in run_code\n>>>     exec(code_obj, self.user_global_ns, self.user_ns)\n>>> \n>>>   File \"/tmp/ipykernel_3528265/1432848714.py\", line 4, in <module>\n>>>     out = sim.predict(np.ones((minibatch_size, 1, n_in)))\n>>> \n>>>   File \"/home/karthik/miniconda3/envs/neuromorphic/lib/python3.9/site-packages/nengo/utils/magic.py\", line 179, in __call__\n>>>     return self.wrapper(self.__wrapped__, self.instance, args, kwargs)\n>>> \n>>>   File \"/home/karthik/sim_clean/nengo-dl/nengo_dl/simulator.py\", line 67, in require_open\n>>>     return wrapped(*args, **kwargs)\n>>> \n>>>   File \"/home/karthik/sim_clean/nengo-dl/nengo_dl/simulator.py\", line 678, in predict\n>>>     return self._call_keras(\n>>> \n>>>   File \"/home/karthik/miniconda3/envs/neuromorphic/lib/python3.9/site-packages/nengo/utils/magic.py\", line 179, in __call__\n>>>     return self.wrapper(self.__wrapped__, self.instance, args, kwargs)\n>>> \n>>>   File \"/home/karthik/sim_clean/nengo-dl/nengo_dl/simulator.py\", line 50, in with_self\n>>>     output = wrapped(*args, **kwargs)\n>>> \n>>>   File \"/home/karthik/sim_clean/nengo-dl/nengo_dl/simulator.py\", line 1043, in _call_keras\n>>>     outputs = getattr(self.keras_model, func_type)(**func_args)\n>>> \n>>>   File \"/home/karthik/miniconda3/envs/neuromorphic/lib/python3.9/site-packages/keras/utils/traceback_utils.py\", line 64, in error_handler\n>>>     return fn(*args, **kwargs)\n>>> \n>>>   File \"/home/karthik/miniconda3/envs/neuromorphic/lib/python3.9/site-packages/keras/engine/training.py\", line 1789, in predict\n>>>     tmp_batch_outputs = self.predict_function(iterator)\n>>> \n>>>   File \"/home/karthik/miniconda3/envs/neuromorphic/lib/python3.9/site-packages/keras/engine/training.py\", line 1621, in predict_function\n>>>     return step_function(self, iterator)\n>>> \n>>>   File \"/home/karthik/miniconda3/envs/neuromorphic/lib/python3.9/site-packages/keras/engine/training.py\", line 1611, in step_function\n>>>     outputs = model.distribute_strategy.run(run_step, args=(data,))\n>>> \n>>>   File \"/home/karthik/miniconda3/envs/neuromorphic/lib/python3.9/site-packages/keras/engine/training.py\", line 1604, in run_step\n>>>     outputs = model.predict_step(data)\n>>> \n>>>   File \"/home/karthik/miniconda3/envs/neuromorphic/lib/python3.9/site-packages/keras/engine/training.py\", line 1572, in predict_step\n>>>     return self(x, training=False)\n>>> \n>>>   File \"/home/karthik/miniconda3/envs/neuromorphic/lib/python3.9/site-packages/keras/utils/traceback_utils.py\", line 64, in error_handler\n>>>     return fn(*args, **kwargs)\n>>> \n>>>   File \"/home/karthik/miniconda3/envs/neuromorphic/lib/python3.9/site-packages/keras/engine/base_layer.py\", line 1083, in __call__\n>>>     outputs = call_fn(inputs, *args, **kwargs)\n>>> \n>>>   File \"/home/karthik/miniconda3/envs/neuromorphic/lib/python3.9/site-packages/keras/utils/traceback_utils.py\", line 92, in error_handler\n>>>     return fn(*args, **kwargs)\n>>> \n>>>   File \"/home/karthik/miniconda3/envs/neuromorphic/lib/python3.9/site-packages/keras/engine/functional.py\", line 451, in call\n>>>     return self._run_internal_graph(\n>>> \n>>>   File \"/home/karthik/miniconda3/envs/neuromorphic/lib/python3.9/site-packages/keras/engine/functional.py\", line 589, in _run_internal_graph\n>>>     outputs = node.layer(*args, **kwargs)\n>>> \n>>>   File \"/home/karthik/miniconda3/envs/neuromorphic/lib/python3.9/site-packages/keras/utils/traceback_utils.py\", line 64, in error_handler\n>>>     return fn(*args, **kwargs)\n>>> \n>>>   File \"/home/karthik/miniconda3/envs/neuromorphic/lib/python3.9/site-packages/keras/engine/base_layer.py\", line 1083, in __call__\n>>>     outputs = call_fn(inputs, *args, **kwargs)\n>>> \n>>>   File \"/home/karthik/miniconda3/envs/neuromorphic/lib/python3.9/site-packages/keras/utils/traceback_utils.py\", line 92, in error_handler\n>>>     return fn(*args, **kwargs)\n>>> \n>>>   File \"/home/karthik/sim_clean/nengo-dl/nengo_dl/tensor_graph.py\", line 488, in call\n>>>     self._build_loop(sub) if self.use_loop else self._build_no_loop(sub)\n>>> \n>>>   File \"/home/karthik/sim_clean/nengo-dl/nengo_dl/tensor_graph.py\", line 638, in _build_loop\n>>>     loop_vars = tf.while_loop(\n>>> \n>>>   File \"/home/karthik/sim_clean/nengo-dl/nengo_dl/tensor_graph.py\", line 615, in loop_body\n>>>     loop_i = self._build_inner_loop(loop_i, update_probes, progress)\n>>> \n>>>   File \"/home/karthik/sim_clean/nengo-dl/nengo_dl/tensor_graph.py\", line 770, in _build_inner_loop\n>>>     side_effects = self.op_builder.build_step(self.signals, progress)\n>>> \n>>>   File \"/home/karthik/sim_clean/nengo-dl/nengo_dl/builder.py\", line 101, in build_step\n>>>     output = self.op_builds[ops].build_step(signals)\n>>> \n>>>   File \"/home/karthik/sim_clean/nengo-dl/nengo_dl/op_builders.py\", line 348, in build_step\n>>>     dot = tf.matmul(A, tf.transpose(X, perm=self.perm))\n>>> \n\nFunction call stack:\npredict_function -> keras_model_TensorGraph_while_body_586 -> predict_function -> keras_model_TensorGraph_while_body_586\n"
     ]
    }
   ],
   "source": [
    "minibatch_size = 8\n",
    "\n",
    "with nengo_dl.Simulator(network=auto_net, minibatch_size=minibatch_size) as sim:\n",
    "    out = sim.predict(np.ones((minibatch_size, 1, n_in)))\n",
    "    print(out[p_c].shape,out[p_b].shape)"
   ]
  }
 ],
 "metadata": {
  "interpreter": {
   "hash": "f33ad4317645b163532d34963980873b1273d47e12dd0b5aad2c9d3af0e6882a"
  },
  "kernelspec": {
   "display_name": "Python 3.9.10 ('neuromorphic')",
   "language": "python",
   "name": "python3"
  },
  "language_info": {
   "codemirror_mode": {
    "name": "ipython",
    "version": 3
   },
   "file_extension": ".py",
   "mimetype": "text/x-python",
   "name": "python",
   "nbconvert_exporter": "python",
   "pygments_lexer": "ipython3",
   "version": "3.9.10"
  },
  "orig_nbformat": 4
 },
 "nbformat": 4,
 "nbformat_minor": 2
}
