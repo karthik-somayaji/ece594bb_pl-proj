{
 "cells": [
  {
   "cell_type": "code",
   "execution_count": 19,
   "metadata": {},
   "outputs": [],
   "source": [
    "%matplotlib inline\n",
    "\n",
    "from urllib.request import urlretrieve\n",
    "\n",
    "import matplotlib.pyplot as plt\n",
    "import nengo\n",
    "from nengo import spa\n",
    "import numpy as np\n",
    "import tensorflow as tf\n",
    "\n",
    "import nengo_dl\n",
    "\n",
    "from scipy.signal import decimate"
   ]
  },
  {
   "cell_type": "code",
   "execution_count": 20,
   "metadata": {},
   "outputs": [],
   "source": [
    "from src.io.psee_loader import PSEELoader\n",
    "\n",
    "import pathlib\n",
    "from glob import glob"
   ]
  },
  {
   "cell_type": "code",
   "execution_count": 21,
   "metadata": {},
   "outputs": [],
   "source": [
    "delta_t = 10000\n",
    "n = 75\n",
    "skip = 100"
   ]
  },
  {
   "cell_type": "markdown",
   "metadata": {},
   "source": [
    "Process and load Phrophasee dataset"
   ]
  },
  {
   "cell_type": "code",
   "execution_count": 43,
   "metadata": {},
   "outputs": [],
   "source": [
    "vids = map(PSEELoader, glob(\"Prophesee_Dataset_n_cars/n-cars_train/cars/*_td.dat\"))\n",
    "# height, width = vid.get_size()\n",
    "height, width = 120, 120\n",
    "# vid.seek_time(skip)\n",
    "event_seqs = [next(vids).load_delta_t(delta_t) for _ in range(n)]\n",
    "# N = len(event_seqs)\n",
    "\n",
    "#print(event_seqs[0])"
   ]
  },
  {
   "cell_type": "code",
   "execution_count": 44,
   "metadata": {},
   "outputs": [
    {
     "name": "stdout",
     "output_type": "stream",
     "text": [
      "(60, 10000, 900) (15, 10000, 900)\n"
     ]
    }
   ],
   "source": [
    "dat = np.zeros((n, delta_t, 30, 30),dtype=np.int8)\n",
    "for i,block in enumerate(event_seqs):\n",
    "    for ev in block:\n",
    "        dat[i,ev[0],ev[1]//4,ev[2]//4] = ev[3]\n",
    "# for ev in events:\n",
    "#     dat[ev[0],ev[1],ev[2]] = ev[3]\n",
    "\n",
    "# dat = decimate(dat,4,axis=2)\n",
    "# dat = decimate(dat,4,axis=3)\n",
    "\n",
    "train_data = dat[0:60,:,:,:]\n",
    "test_data  = dat[60:75,:,:,:]\n",
    "\n",
    "train_data = train_data.reshape((train_data.shape[0], train_data.shape[1], -1))\n",
    "test_data = test_data.reshape((test_data.shape[0], test_data.shape[1], -1))\n",
    "\n",
    "print(train_data.shape, test_data.shape)"
   ]
  },
  {
   "cell_type": "markdown",
   "metadata": {},
   "source": [
    "Process and load MNIST dataset"
   ]
  },
  {
   "cell_type": "code",
   "execution_count": 26,
   "metadata": {},
   "outputs": [
    {
     "name": "stdout",
     "output_type": "stream",
     "text": [
      "(60000, 10, 784)\n"
     ]
    }
   ],
   "source": [
    "# download MNIST dataset\n",
    "(train_data, _), (test_data, _) = tf.keras.datasets.mnist.load_data()\n",
    "# flatten images\n",
    "#train_data = train_data.reshape((train_data.shape[0], 1, -1))\n",
    "#test_data = test_data.reshape((test_data.shape[0], 1, -1))\n",
    "\n",
    "train_data = np.repeat(train_data[:, np.newaxis,:], 10, axis=1)\n",
    "train_data = train_data.reshape((train_data.shape[0], train_data.shape[1],-1))\n",
    "\n",
    "test_data = np.repeat(test_data[:, np.newaxis,:], 10, axis=1)\n",
    "test_data = test_data.reshape((test_data.shape[0], test_data.shape[1],-1))\n",
    "\n",
    "n_epochs = 2\n",
    "n_in = train_data.shape[1]\n",
    "\n",
    "print(train_data.shape)"
   ]
  },
  {
   "cell_type": "code",
   "execution_count": 63,
   "metadata": {},
   "outputs": [],
   "source": [
    "with nengo.Network() as auto_net:\n",
    "    n_in = train_data.shape[2]\n",
    "    n_hidden=64\n",
    "\n",
    "    #auto_net.config[nengo.Ensemble].max_rates = nengo.dists.Choice([100])\n",
    "    #auto_net.config[nengo.Ensemble].intercepts = nengo.dists.Choice([0])\n",
    "    #auto_net.config[nengo.Connection].synapse = 0.005\n",
    "\n",
    "    neuron_type = nengo.RectifiedLinear()\n",
    "    #neuron_type = nengo.LIFRate()\n",
    "    #neuron_type=nengo.SpikingRectifiedLinear()\n",
    "    #neuron_type = nengo.LIF()\n",
    "    \n",
    "    # input\n",
    "    nengo_a = nengo.Node(np.zeros(n_in))\n",
    "\n",
    "    # first layer\n",
    "    nengo_b = nengo.Ensemble(n_hidden, 1, neuron_type=neuron_type)\n",
    "    nengo.Connection(nengo_a, nengo_b.neurons, transform=nengo_dl.dists.Glorot())#, synapse=0.001)\n",
    "\n",
    "    # second layer\n",
    "    nengo_c = nengo.Ensemble(n_in, 1, neuron_type=neuron_type)\n",
    "    nengo.Connection(\n",
    "        nengo_b.neurons, nengo_c.neurons, transform=nengo_dl.dists.Glorot())#, synapse=0.001)\n",
    "    \n",
    "\n",
    "    # probes are used to collect data from the network\n",
    "    p_c = nengo.Probe(nengo_c.neurons)\n",
    "    p_b = nengo.Probe(nengo_b.neurons)\n",
    "\n",
    "# set initial neuron gains to 1 and biases to 0\n",
    "for ens in auto_net.all_ensembles:\n",
    "    ens.gain = nengo.dists.Choice([1])\n",
    "    ens.bias = nengo.dists.Choice([0])\n",
    "\n",
    "# disable synaptic filtering on all connections\n",
    "for conn in auto_net.all_connections:\n",
    "    conn.synapse = None"
   ]
  },
  {
   "cell_type": "code",
   "execution_count": 18,
   "metadata": {},
   "outputs": [],
   "source": [
    "inp_sz = train_data.shape[2]"
   ]
  },
  {
   "cell_type": "code",
   "execution_count": 64,
   "metadata": {},
   "outputs": [
    {
     "name": "stdout",
     "output_type": "stream",
     "text": [
      "|                     Building network (0%)                    | ETA:  --:--:--\n",
      "Build finished in 0:00:00\n",
      "|#                         Optimizing graph                           | 0:00:00\n",
      "|#             Optimizing graph: operator simplificaton               | 0:00:00\n",
      "Optimizing graph: operator simplificaton finished in 0:00:00\n",
      "|#                Optimizing graph: merging operators                 | 0:00:00\n",
      "Optimizing graph: merging operators finished in 0:00:00\n",
      "|#                Optimizing graph: ordering signals                  | 0:00:00\n",
      "Optimizing graph: ordering signals finished in 0:00:00\n",
      "|#                Optimizing graph: creating signals                  | 0:00:00\n",
      "Optimizing graph: creating signals finished in 0:00:00\n",
      "Optimization finished in 0:00:00\n",
      "|#                        Constructing graph                          | 0:00:00\n",
      "|           Constructing graph: pre-build stage (0%)           | ETA:  --:--:--\n",
      "Constructing graph: pre-build stage finished in 0:00:00\n",
      "|             Constructing graph: build stage (0%)             | ETA:  --:--:--\n",
      "| #                       Constructing graph                          | 0:00:00\n",
      "Constructing graph: build stage finished in 0:00:00\n",
      "Construction finished in 0:00:00\n",
      "Epoch 1/2\n",
      "|           Constructing graph: pre-build stage (0%)           | ETA:  --:--:--\n",
      "Constructing graph: pre-build stage finished in 0:00:00\n",
      "|             Constructing graph: build stage (0%)             | ETA:  --:--:--\n",
      "|############Constructing graph: build stage (100%)############| ETA:  00:00:00\n",
      "Constructing graph: build stage finished in 0:00:00\n",
      "|           Constructing graph: pre-build stage (0%)           | ETA:  --:--:--\n",
      "Constructing graph: pre-build stage finished in 0:00:00\n",
      "|             Constructing graph: build stage (0%)             | ETA:  --:--:--\n",
      "|############Constructing graph: build stage (100%)############| ETA:  00:00:00\n",
      "Constructing graph: build stage finished in 0:00:00\n",
      "7/7 [==============================] - 55s 8s/step - loss: 2.6600e-05 - probe_loss: 2.6600e-05 - probe_1_loss: 0.0000e+00\n",
      "Epoch 2/2\n",
      "7/7 [==============================] - 55s 8s/step - loss: 2.6038e-05 - probe_loss: 2.6038e-05 - probe_1_loss: 0.0000e+00\n"
     ]
    }
   ],
   "source": [
    "n_epochs = 2\n",
    "minibatch_size = 8\n",
    "\n",
    "with nengo_dl.Simulator(auto_net, minibatch_size=minibatch_size) as sim:\n",
    "    sim.compile(optimizer=tf.optimizers.RMSprop(1e-3), loss=tf.losses.mse)\n",
    "\n",
    "    # run training loop\n",
    "    sim.fit(train_data, train_data, epochs=n_epochs)\n",
    "\n",
    "    # evaluate performance on test set\n",
    "    #sim.evaluate(test_data, test_data)\n",
    "\n",
    "    # Save the model\n",
    "    #sim.save_params(\"./rate_relu_mnist\")\n",
    "    #sim.save_params(\"./rate_LIF_mnist\")\n",
    "    #sim.save_params(\"./spike_relu_mnist\")\n",
    "    #sim.save_params(\"./spike_LIF_mnist\")\n",
    "\n",
    "    sim.save_params(\"./rate_relu_DVS\")\n",
    "    #sim.save_params(\"./rate_LIF_DVS\")\n",
    "    #sim.save_params(\"./spike_relu_DVS\")\n",
    "    #sim.save_params(\"./spike_LIF_DVS\")"
   ]
  },
  {
   "cell_type": "code",
   "execution_count": 68,
   "metadata": {},
   "outputs": [
    {
     "name": "stdout",
     "output_type": "stream",
     "text": [
      "|                     Building network (0%)                    | ETA:  --:--:--\n",
      "Build finished in 0:00:00\n",
      "|#                         Optimizing graph                           | 0:00:00\n",
      "|#             Optimizing graph: operator simplificaton               | 0:00:00\n",
      "Optimizing graph: operator simplificaton finished in 0:00:00\n",
      "|#                Optimizing graph: merging operators                 | 0:00:00\n",
      "Optimizing graph: merging operators finished in 0:00:00\n",
      "|#                Optimizing graph: ordering signals                  | 0:00:00\n",
      "Optimizing graph: ordering signals finished in 0:00:00\n",
      "|#                Optimizing graph: creating signals                  | 0:00:00\n",
      "Optimizing graph: creating signals finished in 0:00:00\n",
      "Optimization finished in 0:00:00\n",
      "|#                        Constructing graph                          | 0:00:00\n",
      "|           Constructing graph: pre-build stage (0%)           | ETA:  --:--:--\n",
      "Constructing graph: pre-build stage finished in 0:00:00\n",
      "|             Constructing graph: build stage (0%)             | ETA:  --:--:--\n",
      "Constructing graph: build stage finished in 0:00:00\n",
      "Construction finished in 0:00:00\n",
      "|           Constructing graph: pre-build stage (0%)           | ETA:  --:--:--\n",
      "Constructing graph: pre-build stage finished in 0:00:00\n",
      "|             Constructing graph: build stage (0%)             | ETA:  --:--:--\n",
      "|############Constructing graph: build stage (100%)############| ETA:  00:00:00\n",
      "Constructing graph: build stage finished in 0:00:00\n",
      "(8, 10000, 900)\n"
     ]
    }
   ],
   "source": [
    "n_epochs = 10\n",
    "minibatch_size = 8\n",
    "with nengo_dl.Simulator(auto_net, minibatch_size=minibatch_size) as sim:\n",
    "    #sim.compile(optimizer=tf.optimizers.RMSprop(1e-3), loss=tf.losses.mse)\n",
    "\n",
    "    # run training loop\n",
    "    #sim.fit(train_data, train_data, epochs=n_epochs)\n",
    "\n",
    "    # evaluate performance on test set\n",
    "    #sim.evaluate(test_data, test_data)\n",
    "\n",
    "    # Load the saved model\n",
    "    #sim.load_params(\"./LIF_mnist1\")\n",
    "    #sim.load_params(\"./LIF_prophesee\")\n",
    "\n",
    "    #sim.load_params(\"./rate_relu_mnist\")\n",
    "    #sim.load_params(\"./rate_LIF_mnist\")\n",
    "    #sim.load_params(\"./spike_relu_mnist\")\n",
    "    #sim.load_params(\"./spike_LIF_mnist\")\n",
    "\n",
    "    #sim.load_params(\"./rate_relu_DVS\")\n",
    "    sim.load_params(\"./rate_LIF_DVS\")\n",
    "    #sim.load_params(\"./spike_relu_DVS\")\n",
    "    #sim.load_params(\"./spike_LIF_DVS\")\n",
    "\n",
    "    # display example output\n",
    "    output = sim.predict(train_data[:minibatch_size])\n",
    "    #plt.figure()\n",
    "    #plt.imshow(output[p_c][0].reshape((30, 30)))\n",
    "    #plt.show()\n",
    "    print(output[p_c].shape)\n",
    "\n",
    "\n",
    "\n",
    "    '''# display the latent space representation\n",
    "    output = sim.predict(test_data[:minibatch_size])\n",
    "    plt.figure()\n",
    "    plt.imshow(output[p_b][0].reshape((8, 8)))\n",
    "    plt.show()\n",
    "\n",
    "    hidden_rep = output[p_b][0]\n",
    "    norm = np.linalg.norm(hidden_rep)\n",
    "    hidden_rep = hidden_rep/norm\n",
    "    print('Mean of the hidden space rep:', hidden_rep.mean())'''"
   ]
  },
  {
   "cell_type": "code",
   "execution_count": 70,
   "metadata": {},
   "outputs": [
    {
     "data": {
      "image/png": "[encoded data removed]",
      "text/plain": [
       "<Figure size 432x288 with 4 Axes>"
      ]
     },
     "metadata": {
      "needs_background": "light"
     },
     "output_type": "display_data"
    },
    {
     "data": {
      "image/png": "[encoded data removed]",
      "text/plain": [
       "<Figure size 432x288 with 4 Axes>"
      ]
     },
     "metadata": {
      "needs_background": "light"
     },
     "output_type": "display_data"
    }
   ],
   "source": [
    "plt.figure()\n",
    "for i in range(4):\n",
    "    # Integrate through time for each location while displaying final image\n",
    "    final_image = output[p_c][i].sum(0)\n",
    "    #plt.figure()\n",
    "    plt.subplot(2,2,i+1)\n",
    "    plt.imshow(final_image.reshape((30, 30)))\n",
    "    plt.suptitle('Reconstruction')\n",
    "plt.show()\n",
    "\n",
    "    #print(final_image.reshape((28, 28)))\n",
    "plt.figure()\n",
    "for i in range(4):\n",
    "    input_image = train_data[i].sum(0)\n",
    "    #plt.figure()\n",
    "    plt.subplot(2,2,i+1)\n",
    "    plt.imshow(input_image.reshape((30, 30)))\n",
    "    plt.suptitle('Original')\n",
    "plt.show()"
   ]
  },
  {
   "cell_type": "code",
   "execution_count": 42,
   "metadata": {},
   "outputs": [
    {
     "data": {
      "image/png": "[encoded data removed]",
      "text/plain": [
       "<Figure size 432x288 with 4 Axes>"
      ]
     },
     "metadata": {
      "needs_background": "light"
     },
     "output_type": "display_data"
    },
    {
     "data": {
      "image/png": "[encoded data removed]",
      "text/plain": [
       "<Figure size 432x288 with 4 Axes>"
      ]
     },
     "metadata": {
      "needs_background": "light"
     },
     "output_type": "display_data"
    }
   ],
   "source": [
    "plt.figure()\n",
    "for i in range(4):\n",
    "    # Integrate through time for each location while displaying final image\n",
    "    final_image = output[p_c][i].sum(0)\n",
    "    #plt.figure()\n",
    "    plt.subplot(2,2,i+1)\n",
    "    plt.imshow(final_image.reshape((28, 28)))\n",
    "    plt.suptitle('Reconstruction')\n",
    "plt.show()\n",
    "\n",
    "    #print(final_image.reshape((28, 28)))\n",
    "plt.figure()\n",
    "for i in range(4):\n",
    "    input_image = train_data[i].sum(0)\n",
    "    #plt.figure()\n",
    "    plt.subplot(2,2,i+1)\n",
    "    plt.imshow(input_image.reshape((28, 28)))\n",
    "    plt.suptitle('Original')\n",
    "plt.show()\n",
    "\n",
    "    #print(input_image.reshape((28, 28)))"
   ]
  }
 ],
 "metadata": {
  "interpreter": {
   "hash": "f33ad4317645b163532d34963980873b1273d47e12dd0b5aad2c9d3af0e6882a"
  },
  "kernelspec": {
   "display_name": "Python 3.9.10 ('neuromorphic')",
   "language": "python",
   "name": "python3"
  },
  "language_info": {
   "codemirror_mode": {
    "name": "ipython",
    "version": 3
   },
   "file_extension": ".py",
   "mimetype": "text/x-python",
   "name": "python",
   "nbconvert_exporter": "python",
   "pygments_lexer": "ipython3",
   "version": "3.9.10"
  },
  "orig_nbformat": 4
 },
 "nbformat": 4,
 "nbformat_minor": 2
}
