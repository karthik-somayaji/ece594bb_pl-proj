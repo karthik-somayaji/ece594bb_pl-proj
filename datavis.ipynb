{
 "cells": [
  {
   "cell_type": "code",
   "execution_count": 6,
   "id": "dd78bb94-f1b7-4258-9c7b-8cef7b7c131b",
   "metadata": {},
   "outputs": [],
   "source": [
    "%matplotlib inline\n",
    "\n",
    "from urllib.request import urlretrieve\n",
    "\n",
    "import matplotlib.pyplot as plt\n",
    "import nengo\n",
    "from nengo import spa\n",
    "import numpy as np\n",
    "import tensorflow as tf\n",
    "\n",
    "import nengo_dl\n",
    "\n",
    "from scipy.signal import decimate"
   ]
  },
  {
   "cell_type": "code",
   "execution_count": 11,
   "id": "fa75a277-6c55-43cc-ad4e-a32250ad0be5",
   "metadata": {},
   "outputs": [],
   "source": [
    "import math\n",
    "import numpy as np\n",
    "import cv2\n",
    "import argparse\n",
    "from glob import glob"
   ]
  },
  {
   "cell_type": "code",
   "execution_count": 17,
   "id": "25e4495d",
   "metadata": {},
   "outputs": [],
   "source": [
    "from src.io.psee_loader import PSEELoader"
   ]
  },
  {
   "cell_type": "code",
   "execution_count": 21,
   "id": "07847103-85d2-4db0-9d10-3f7663a3cd56",
   "metadata": {},
   "outputs": [],
   "source": [
    "from src.visualize import vis_utils as vis\n",
    "from src.io.psee_loader import PSEELoader"
   ]
  },
  {
   "cell_type": "code",
   "execution_count": 38,
   "id": "ddcde8ed-d520-46e6-9303-06ba2f16b63e",
   "metadata": {},
   "outputs": [
    {
     "name": "stdout",
     "output_type": "stream",
     "text": [
      "['Prophesee_Dataset_n_cars/n-cars_train/cars/obj_004396_td.dat']\n",
      "HI\n"
     ]
    },
    {
     "ename": "IndexError",
     "evalue": "list index out of range",
     "output_type": "error",
     "traceback": [
      "\u001b[0;31m---------------------------------------------------------------------------\u001b[0m",
      "\u001b[0;31mIndexError\u001b[0m                                Traceback (most recent call last)",
      "\u001b[1;32m/home/karthik/sim_clean/ece594bb_pl-proj/datavis.ipynb Cell 5'\u001b[0m in \u001b[0;36m<module>\u001b[0;34m\u001b[0m\n\u001b[1;32m     <a href='vscode-notebook-cell://ssh-remote%2B7b22686f73744e616d65223a2267617573732e6563652e756373622e656475222c2275736572223a226b61727468696b227d/home/karthik/sim_clean/ece594bb_pl-proj/datavis.ipynb#ch0000003vscode-remote?line=42'>43</a>\u001b[0m         cv2\u001b[39m.\u001b[39mimshow(\u001b[39m'\u001b[39m\u001b[39mout\u001b[39m\u001b[39m'\u001b[39m, frame)\n\u001b[1;32m     <a href='vscode-notebook-cell://ssh-remote%2B7b22686f73744e616d65223a2267617573732e6563652e756373622e656475222c2275736572223a226b61727468696b227d/home/karthik/sim_clean/ece594bb_pl-proj/datavis.ipynb#ch0000003vscode-remote?line=43'>44</a>\u001b[0m         cv2\u001b[39m.\u001b[39mwaitKey(\u001b[39m1\u001b[39m)\n\u001b[0;32m---> <a href='vscode-notebook-cell://ssh-remote%2B7b22686f73744e616d65223a2267617573732e6563652e756373622e656475222c2275736572223a226b61727468696b227d/home/karthik/sim_clean/ece594bb_pl-proj/datavis.ipynb#ch0000003vscode-remote?line=45'>46</a>\u001b[0m play_files_parallel([\u001b[39m\"\u001b[39;49m\u001b[39mProphesee_Dataset_n_cars/n-cars_train/cars/obj_004396_td.dat\u001b[39;49m\u001b[39m\"\u001b[39;49m], delta_t\u001b[39m=\u001b[39;49m\u001b[39m10\u001b[39;49m)\n",
      "\u001b[1;32m/home/karthik/sim_clean/ece594bb_pl-proj/datavis.ipynb Cell 5'\u001b[0m in \u001b[0;36mplay_files_parallel\u001b[0;34m(td_files, labels, delta_t, skip)\u001b[0m\n\u001b[1;32m      <a href='vscode-notebook-cell://ssh-remote%2B7b22686f73744e616d65223a2267617573732e6563652e756373622e656475222c2275736572223a226b61727468696b227d/home/karthik/sim_clean/ece594bb_pl-proj/datavis.ipynb#ch0000003vscode-remote?line=8'>9</a>\u001b[0m \u001b[39mprint\u001b[39m(\u001b[39m'\u001b[39m\u001b[39mHI\u001b[39m\u001b[39m'\u001b[39m)\n\u001b[1;32m     <a href='vscode-notebook-cell://ssh-remote%2B7b22686f73744e616d65223a2267617573732e6563652e756373622e656475222c2275736572223a226b61727468696b227d/home/karthik/sim_clean/ece594bb_pl-proj/datavis.ipynb#ch0000003vscode-remote?line=9'>10</a>\u001b[0m \u001b[39m# use the naming pattern to find the corresponding box file\u001b[39;00m\n\u001b[0;32m---> <a href='vscode-notebook-cell://ssh-remote%2B7b22686f73744e616d65223a2267617573732e6563652e756373622e656475222c2275736572223a226b61727468696b227d/home/karthik/sim_clean/ece594bb_pl-proj/datavis.ipynb#ch0000003vscode-remote?line=10'>11</a>\u001b[0m box_videos \u001b[39m=\u001b[39m [PSEELoader(glob(td_file\u001b[39m.\u001b[39msplit(\u001b[39m'\u001b[39m\u001b[39m_td.dat\u001b[39m\u001b[39m'\u001b[39m)[\u001b[39m0\u001b[39m] \u001b[39m+\u001b[39m  \u001b[39m'\u001b[39m\u001b[39m*.npy\u001b[39m\u001b[39m'\u001b[39m)[\u001b[39m0\u001b[39m]) \u001b[39mfor\u001b[39;00m td_file \u001b[39min\u001b[39;00m td_files]\n\u001b[1;32m     <a href='vscode-notebook-cell://ssh-remote%2B7b22686f73744e616d65223a2267617573732e6563652e756373622e656475222c2275736572223a226b61727468696b227d/home/karthik/sim_clean/ece594bb_pl-proj/datavis.ipynb#ch0000003vscode-remote?line=12'>13</a>\u001b[0m height, width \u001b[39m=\u001b[39m videos[\u001b[39m0\u001b[39m]\u001b[39m.\u001b[39mget_size()\n\u001b[1;32m     <a href='vscode-notebook-cell://ssh-remote%2B7b22686f73744e616d65223a2267617573732e6563652e756373622e656475222c2275736572223a226b61727468696b227d/home/karthik/sim_clean/ece594bb_pl-proj/datavis.ipynb#ch0000003vscode-remote?line=13'>14</a>\u001b[0m labelmap \u001b[39m=\u001b[39m vis\u001b[39m.\u001b[39mLABELMAP \u001b[39mif\u001b[39;00m height \u001b[39m==\u001b[39m \u001b[39m240\u001b[39m \u001b[39melse\u001b[39;00m vis\u001b[39m.\u001b[39mLABELMAP_LARGE\n",
      "\u001b[1;32m/home/karthik/sim_clean/ece594bb_pl-proj/datavis.ipynb Cell 5'\u001b[0m in \u001b[0;36m<listcomp>\u001b[0;34m(.0)\u001b[0m\n\u001b[1;32m      <a href='vscode-notebook-cell://ssh-remote%2B7b22686f73744e616d65223a2267617573732e6563652e756373622e656475222c2275736572223a226b61727468696b227d/home/karthik/sim_clean/ece594bb_pl-proj/datavis.ipynb#ch0000003vscode-remote?line=8'>9</a>\u001b[0m \u001b[39mprint\u001b[39m(\u001b[39m'\u001b[39m\u001b[39mHI\u001b[39m\u001b[39m'\u001b[39m)\n\u001b[1;32m     <a href='vscode-notebook-cell://ssh-remote%2B7b22686f73744e616d65223a2267617573732e6563652e756373622e656475222c2275736572223a226b61727468696b227d/home/karthik/sim_clean/ece594bb_pl-proj/datavis.ipynb#ch0000003vscode-remote?line=9'>10</a>\u001b[0m \u001b[39m# use the naming pattern to find the corresponding box file\u001b[39;00m\n\u001b[0;32m---> <a href='vscode-notebook-cell://ssh-remote%2B7b22686f73744e616d65223a2267617573732e6563652e756373622e656475222c2275736572223a226b61727468696b227d/home/karthik/sim_clean/ece594bb_pl-proj/datavis.ipynb#ch0000003vscode-remote?line=10'>11</a>\u001b[0m box_videos \u001b[39m=\u001b[39m [PSEELoader(glob(td_file\u001b[39m.\u001b[39;49msplit(\u001b[39m'\u001b[39;49m\u001b[39m_td.dat\u001b[39;49m\u001b[39m'\u001b[39;49m)[\u001b[39m0\u001b[39;49m] \u001b[39m+\u001b[39;49m  \u001b[39m'\u001b[39;49m\u001b[39m*.npy\u001b[39;49m\u001b[39m'\u001b[39;49m)[\u001b[39m0\u001b[39;49m]) \u001b[39mfor\u001b[39;00m td_file \u001b[39min\u001b[39;00m td_files]\n\u001b[1;32m     <a href='vscode-notebook-cell://ssh-remote%2B7b22686f73744e616d65223a2267617573732e6563652e756373622e656475222c2275736572223a226b61727468696b227d/home/karthik/sim_clean/ece594bb_pl-proj/datavis.ipynb#ch0000003vscode-remote?line=12'>13</a>\u001b[0m height, width \u001b[39m=\u001b[39m videos[\u001b[39m0\u001b[39m]\u001b[39m.\u001b[39mget_size()\n\u001b[1;32m     <a href='vscode-notebook-cell://ssh-remote%2B7b22686f73744e616d65223a2267617573732e6563652e756373622e656475222c2275736572223a226b61727468696b227d/home/karthik/sim_clean/ece594bb_pl-proj/datavis.ipynb#ch0000003vscode-remote?line=13'>14</a>\u001b[0m labelmap \u001b[39m=\u001b[39m vis\u001b[39m.\u001b[39mLABELMAP \u001b[39mif\u001b[39;00m height \u001b[39m==\u001b[39m \u001b[39m240\u001b[39m \u001b[39melse\u001b[39;00m vis\u001b[39m.\u001b[39mLABELMAP_LARGE\n",
      "\u001b[0;31mIndexError\u001b[0m: list index out of range"
     ]
    }
   ],
   "source": [
    "def play_files_parallel(td_files, labels=None, delta_t=50000, skip=0):\n",
    "    \"\"\"\n",
    "    Plays simultaneously files and their boxes in a rectangular format.\n",
    "    \n",
    "    \"\"\"\n",
    "    print(td_files)\n",
    "    # open the video object for the input files\n",
    "    videos = [PSEELoader(td_file) for td_file in td_files]\n",
    "    # use the naming pattern to find the corresponding box file\n",
    "    box_videos = [PSEELoader(glob(td_file.split('_td.dat')[0] +  '*.npy')[0]) for td_file in td_files]\n",
    "    print('Y')\n",
    "    \n",
    "    height, width = videos[0].get_size()\n",
    "    labelmap = vis.LABELMAP if height == 240 else vis.LABELMAP_LARGE\n",
    "\n",
    "    # optionally skip n minutes in all videos\n",
    "    for v in videos + box_videos:\n",
    "        v.seek_time(skip)\n",
    "\n",
    "    # preallocate a grid to display the images\n",
    "    size_x = int(math.ceil(math.sqrt(len(videos))))\n",
    "    size_y = int(math.ceil(len(videos) / size_x))\n",
    "    frame = np.zeros((size_y * height, width * size_x, 3), dtype=np.uint8)\n",
    "\n",
    "    cv2.namedWindow('out', cv2.WINDOW_NORMAL)\n",
    "\n",
    "    # while all videos have something to read\n",
    "    while not sum([video.done for video in videos]):\n",
    "\n",
    "        # load events and boxes from all files\n",
    "        events = [video.load_delta_t(delta_t) for video in videos]\n",
    "        box_events = [box_video.load_delta_t(delta_t) for box_video in box_videos]\n",
    "        for index, (evs, boxes) in enumerate(zip(events, box_events)):\n",
    "            y, x = divmod(index, size_x)\n",
    "            # put the visualization at the right spot in the grid\n",
    "            im = frame[y * height:(y + 1) * height, x * width: (x + 1) * width]\n",
    "            # call the visualization functions\n",
    "            im = vis.make_binary_histo(evs, img=im, width=width, height=height)\n",
    "\n",
    "            vis.draw_bboxes(im, boxes, labelmap=labelmap)\n",
    "\n",
    "        # display the result\n",
    "        cv2.imshow('out', frame)\n",
    "        cv2.waitKey(1)\n",
    "\n",
    "play_files_parallel([\"Prophesee_Dataset_n_cars/n-cars_train/cars/obj_004396_td.dat\"], delta_t=10)"
   ]
  },
  {
   "cell_type": "code",
   "execution_count": 31,
   "id": "817f2bfe-4323-4de9-bf48-04b8d6b7c365",
   "metadata": {},
   "outputs": [
    {
     "ename": "IndexError",
     "evalue": "list index out of range",
     "output_type": "error",
     "traceback": [
      "\u001b[0;31m---------------------------------------------------------------------------\u001b[0m",
      "\u001b[0;31mIndexError\u001b[0m                                Traceback (most recent call last)",
      "\u001b[1;32m/home/karthik/sim_clean/ece594bb_pl-proj/datavis.ipynb Cell 6'\u001b[0m in \u001b[0;36m<module>\u001b[0;34m\u001b[0m\n\u001b[1;32m      <a href='vscode-notebook-cell://ssh-remote%2B7b22686f73744e616d65223a2267617573732e6563652e756373622e656475222c2275736572223a226b61727468696b227d/home/karthik/sim_clean/ece594bb_pl-proj/datavis.ipynb#ch0000004vscode-remote?line=0'>1</a>\u001b[0m \u001b[39m#play_files_parallel([\"data/train/moorea_2019-02-18_000_td_427500000_487500000_td.dat\"], delta_t=10)\u001b[39;00m\n\u001b[0;32m----> <a href='vscode-notebook-cell://ssh-remote%2B7b22686f73744e616d65223a2267617573732e6563652e756373622e656475222c2275736572223a226b61727468696b227d/home/karthik/sim_clean/ece594bb_pl-proj/datavis.ipynb#ch0000004vscode-remote?line=1'>2</a>\u001b[0m play_files_parallel([\u001b[39m\"\u001b[39;49m\u001b[39mProphesee_Dataset_n_cars/n-cars_train/cars/obj_004396_td.dat\u001b[39;49m\u001b[39m\"\u001b[39;49m], delta_t\u001b[39m=\u001b[39;49m\u001b[39m10\u001b[39;49m)\n",
      "\u001b[1;32m/home/karthik/sim_clean/ece594bb_pl-proj/datavis.ipynb Cell 5'\u001b[0m in \u001b[0;36mplay_files_parallel\u001b[0;34m(td_files, labels, delta_t, skip)\u001b[0m\n\u001b[1;32m      <a href='vscode-notebook-cell://ssh-remote%2B7b22686f73744e616d65223a2267617573732e6563652e756373622e656475222c2275736572223a226b61727468696b227d/home/karthik/sim_clean/ece594bb_pl-proj/datavis.ipynb#ch0000003vscode-remote?line=5'>6</a>\u001b[0m videos \u001b[39m=\u001b[39m [PSEELoader(td_file) \u001b[39mfor\u001b[39;00m td_file \u001b[39min\u001b[39;00m td_files]\n\u001b[1;32m      <a href='vscode-notebook-cell://ssh-remote%2B7b22686f73744e616d65223a2267617573732e6563652e756373622e656475222c2275736572223a226b61727468696b227d/home/karthik/sim_clean/ece594bb_pl-proj/datavis.ipynb#ch0000003vscode-remote?line=6'>7</a>\u001b[0m \u001b[39m# use the naming pattern to find the corresponding box file\u001b[39;00m\n\u001b[0;32m----> <a href='vscode-notebook-cell://ssh-remote%2B7b22686f73744e616d65223a2267617573732e6563652e756373622e656475222c2275736572223a226b61727468696b227d/home/karthik/sim_clean/ece594bb_pl-proj/datavis.ipynb#ch0000003vscode-remote?line=7'>8</a>\u001b[0m box_videos \u001b[39m=\u001b[39m [PSEELoader(glob(td_file\u001b[39m.\u001b[39msplit(\u001b[39m'\u001b[39m\u001b[39m_td.dat\u001b[39m\u001b[39m'\u001b[39m)[\u001b[39m0\u001b[39m] \u001b[39m+\u001b[39m  \u001b[39m'\u001b[39m\u001b[39m*.npy\u001b[39m\u001b[39m'\u001b[39m)[\u001b[39m0\u001b[39m]) \u001b[39mfor\u001b[39;00m td_file \u001b[39min\u001b[39;00m td_files]\n\u001b[1;32m     <a href='vscode-notebook-cell://ssh-remote%2B7b22686f73744e616d65223a2267617573732e6563652e756373622e656475222c2275736572223a226b61727468696b227d/home/karthik/sim_clean/ece594bb_pl-proj/datavis.ipynb#ch0000003vscode-remote?line=9'>10</a>\u001b[0m height, width \u001b[39m=\u001b[39m videos[\u001b[39m0\u001b[39m]\u001b[39m.\u001b[39mget_size()\n\u001b[1;32m     <a href='vscode-notebook-cell://ssh-remote%2B7b22686f73744e616d65223a2267617573732e6563652e756373622e656475222c2275736572223a226b61727468696b227d/home/karthik/sim_clean/ece594bb_pl-proj/datavis.ipynb#ch0000003vscode-remote?line=10'>11</a>\u001b[0m labelmap \u001b[39m=\u001b[39m vis\u001b[39m.\u001b[39mLABELMAP \u001b[39mif\u001b[39;00m height \u001b[39m==\u001b[39m \u001b[39m240\u001b[39m \u001b[39melse\u001b[39;00m vis\u001b[39m.\u001b[39mLABELMAP_LARGE\n",
      "\u001b[1;32m/home/karthik/sim_clean/ece594bb_pl-proj/datavis.ipynb Cell 5'\u001b[0m in \u001b[0;36m<listcomp>\u001b[0;34m(.0)\u001b[0m\n\u001b[1;32m      <a href='vscode-notebook-cell://ssh-remote%2B7b22686f73744e616d65223a2267617573732e6563652e756373622e656475222c2275736572223a226b61727468696b227d/home/karthik/sim_clean/ece594bb_pl-proj/datavis.ipynb#ch0000003vscode-remote?line=5'>6</a>\u001b[0m videos \u001b[39m=\u001b[39m [PSEELoader(td_file) \u001b[39mfor\u001b[39;00m td_file \u001b[39min\u001b[39;00m td_files]\n\u001b[1;32m      <a href='vscode-notebook-cell://ssh-remote%2B7b22686f73744e616d65223a2267617573732e6563652e756373622e656475222c2275736572223a226b61727468696b227d/home/karthik/sim_clean/ece594bb_pl-proj/datavis.ipynb#ch0000003vscode-remote?line=6'>7</a>\u001b[0m \u001b[39m# use the naming pattern to find the corresponding box file\u001b[39;00m\n\u001b[0;32m----> <a href='vscode-notebook-cell://ssh-remote%2B7b22686f73744e616d65223a2267617573732e6563652e756373622e656475222c2275736572223a226b61727468696b227d/home/karthik/sim_clean/ece594bb_pl-proj/datavis.ipynb#ch0000003vscode-remote?line=7'>8</a>\u001b[0m box_videos \u001b[39m=\u001b[39m [PSEELoader(glob(td_file\u001b[39m.\u001b[39;49msplit(\u001b[39m'\u001b[39;49m\u001b[39m_td.dat\u001b[39;49m\u001b[39m'\u001b[39;49m)[\u001b[39m0\u001b[39;49m] \u001b[39m+\u001b[39;49m  \u001b[39m'\u001b[39;49m\u001b[39m*.npy\u001b[39;49m\u001b[39m'\u001b[39;49m)[\u001b[39m0\u001b[39;49m]) \u001b[39mfor\u001b[39;00m td_file \u001b[39min\u001b[39;00m td_files]\n\u001b[1;32m     <a href='vscode-notebook-cell://ssh-remote%2B7b22686f73744e616d65223a2267617573732e6563652e756373622e656475222c2275736572223a226b61727468696b227d/home/karthik/sim_clean/ece594bb_pl-proj/datavis.ipynb#ch0000003vscode-remote?line=9'>10</a>\u001b[0m height, width \u001b[39m=\u001b[39m videos[\u001b[39m0\u001b[39m]\u001b[39m.\u001b[39mget_size()\n\u001b[1;32m     <a href='vscode-notebook-cell://ssh-remote%2B7b22686f73744e616d65223a2267617573732e6563652e756373622e656475222c2275736572223a226b61727468696b227d/home/karthik/sim_clean/ece594bb_pl-proj/datavis.ipynb#ch0000003vscode-remote?line=10'>11</a>\u001b[0m labelmap \u001b[39m=\u001b[39m vis\u001b[39m.\u001b[39mLABELMAP \u001b[39mif\u001b[39;00m height \u001b[39m==\u001b[39m \u001b[39m240\u001b[39m \u001b[39melse\u001b[39;00m vis\u001b[39m.\u001b[39mLABELMAP_LARGE\n",
      "\u001b[0;31mIndexError\u001b[0m: list index out of range"
     ]
    }
   ],
   "source": [
    "#play_files_parallel([\"data/train/moorea_2019-02-18_000_td_427500000_487500000_td.dat\"], delta_t=10)\n",
    "play_files_parallel([\"Prophesee_Dataset_n_cars/n-cars_train/cars/obj_004396_td.dat\"], delta_t=10)"
   ]
  },
  {
   "cell_type": "code",
   "execution_count": null,
   "id": "e3b80900-4e9c-4692-bdfb-0aef71d59492",
   "metadata": {},
   "outputs": [],
   "source": []
  }
 ],
 "metadata": {
  "kernelspec": {
   "display_name": "Python 3 (ipykernel)",
   "language": "python",
   "name": "python3"
  },
  "language_info": {
   "codemirror_mode": {
    "name": "ipython",
    "version": 3
   },
   "file_extension": ".py",
   "mimetype": "text/x-python",
   "name": "python",
   "nbconvert_exporter": "python",
   "pygments_lexer": "ipython3",
   "version": "3.9.10"
  }
 },
 "nbformat": 4,
 "nbformat_minor": 5
}
