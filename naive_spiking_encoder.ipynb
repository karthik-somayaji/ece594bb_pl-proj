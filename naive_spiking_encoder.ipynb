{
 "cells": [
  {
   "cell_type": "code",
   "execution_count": 1,
   "id": "89247bfb-4bd7-4422-8ac1-908683e6261b",
   "metadata": {},
   "outputs": [],
   "source": [
    "%matplotlib inline\n",
    "\n",
    "from urllib.request import urlretrieve\n",
    "\n",
    "import matplotlib.pyplot as plt\n",
    "import nengo\n",
    "from nengo import spa\n",
    "import numpy as np\n",
    "import tensorflow as tf\n",
    "\n",
    "import nengo_dl\n",
    "\n",
    "from scipy.signal import decimate"
   ]
  },
  {
   "cell_type": "code",
   "execution_count": 2,
   "id": "b0ff00de-a32c-4f94-859f-bf1ef0e33e5a",
   "metadata": {},
   "outputs": [],
   "source": [
    "from prophesee.io.psee_loader import PSEELoader\n",
    "\n",
    "import pathlib\n",
    "from glob import glob"
   ]
  },
  {
   "cell_type": "code",
   "execution_count": 3,
   "id": "2b598578-d2dc-46ce-a2eb-be0901d03bd7",
   "metadata": {},
   "outputs": [],
   "source": [
    "delta_t = 10000\n",
    "n = 75\n",
    "skip = 100"
   ]
  },
  {
   "cell_type": "code",
   "execution_count": 4,
   "id": "c76d48d5-4e7d-4a0b-8ed7-1aba9ed14467",
   "metadata": {},
   "outputs": [],
   "source": [
    "vids = map(PSEELoader, glob(\"Prophesee_Dataset_n_cars/n-cars_train/cars/*_td.dat\"))\n",
    "# height, width = vid.get_size()\n",
    "height, width = 120, 120\n",
    "# vid.seek_time(skip)\n",
    "event_seqs = [next(vids).load_delta_t(delta_t) for _ in range(n)]\n",
    "# N = len(event_seqs)"
   ]
  },
  {
   "cell_type": "code",
   "execution_count": 5,
   "id": "c35da525-7a09-4e75-a4c4-6ddbc2333720",
   "metadata": {},
   "outputs": [],
   "source": [
    "dat = np.zeros((n, delta_t, 30, 30),dtype=np.int8)\n",
    "for i,block in enumerate(event_seqs):\n",
    "    for ev in block:\n",
    "        dat[i,ev[0],ev[1]//4,ev[2]//4] = ev[3]\n",
    "# for ev in events:\n",
    "#     dat[ev[0],ev[1],ev[2]] = ev[3]\n",
    "\n",
    "# dat = decimate(dat,4,axis=2)\n",
    "# dat = decimate(dat,4,axis=3)\n",
    "\n",
    "train_data = dat[0:60,:,:,:]\n",
    "test_data  = dat[60:75,:,:,:]\n",
    "\n",
    "# train_data = tf.data.Dataset.from_tensor_slices(tf.sparse.from_dense(train_data.reshape((train_data.shape[0], train_data.shape[1], -1))))\n",
    "# test_data = tf.data.Dataset.from_tensor_slices(tf.sparse.from_dense(test_data.reshape((test_data.shape[0], test_data.shape[1], -1))))\n",
    "\n",
    "train_data = train_data.reshape((train_data.shape[0], train_data.shape[1], -1))\n",
    "test_data = test_data.reshape((test_data.shape[0], test_data.shape[1], -1))"
   ]
  },
  {
   "cell_type": "code",
   "execution_count": 6,
   "id": "19d1cc58-ba24-4e5b-ad0c-87a75e8c4461",
   "metadata": {},
   "outputs": [],
   "source": [
    "\n",
    "\n",
    "with nengo.Network() as auto_net:\n",
    "    n_in = dat.shape[2] * dat.shape[3]\n",
    "    n_hidden=64\n",
    "    neuron_type = nengo.LIF(amplitude=0.01)\n",
    "    \n",
    "    # input\n",
    "    nengo_a = nengo.Node(np.zeros(n_in))\n",
    "\n",
    "    # first layer\n",
    "    nengo_b = nengo.Ensemble(n_hidden, 1, neuron_type=neuron_type)\n",
    "    nengo.Connection(nengo_a, nengo_b.neurons, transform=nengo_dl.dists.Glorot())\n",
    "\n",
    "    # second layer\n",
    "    nengo_c = nengo.Ensemble(n_in, 1, neuron_type=neuron_type)\n",
    "    nengo.Connection(\n",
    "        nengo_b.neurons, nengo_c.neurons, transform=nengo_dl.dists.Glorot()\n",
    "    )\n",
    "\n",
    "    # probes are used to collect data from the network\n",
    "    p_c = nengo.Probe(nengo_c.neurons)\n",
    "    p_b = nengo.Probe(nengo_b.neurons)\n",
    "    \n",
    "    "
   ]
  },
  {
   "cell_type": "code",
   "execution_count": 7,
   "id": "3530e484-d0ce-4391-a08e-0236c981c1aa",
   "metadata": {},
   "outputs": [
    {
     "name": "stdout",
     "output_type": "stream",
     "text": [
      "Build finished in 0:00:00                                                      \n",
      "Optimization finished in 0:00:00                                               \n",
      "Construction finished in 0:00:01                                               \n",
      "|##############Constructing graph: build stage (54%)             | ETA: 0:00:00"
     ]
    },
    {
     "name": "stderr",
     "output_type": "stream",
     "text": [
      "/home/hutch/.pyenv/versions/miniconda3-4.7.12/envs/spiking_encoders/lib/python3.9/site-packages/nengo_dl/simulator.py:1024: UserWarning: Running for one timestep, but the network contains synaptic filters (which will introduce at least a one-timestep delay); did you mean to set synapse=None?\n",
      "  warnings.warn(\n"
     ]
    },
    {
     "name": "stdout",
     "output_type": "stream",
     "text": [
      "Constructing graph: build stage finished in 0:00:00                            \r"
     ]
    },
    {
     "name": "stderr",
     "output_type": "stream",
     "text": [
      "2022-03-08 17:00:21.079085: E tensorflow/stream_executor/cuda/cuda_blas.cc:226] failed to create cublas handle: CUBLAS_STATUS_NOT_INITIALIZED\n",
      "2022-03-08 17:00:21.079549: W tensorflow/core/framework/op_kernel.cc:1745] OP_REQUIRES failed at matmul_op_impl.h:438 : INTERNAL: Attempting to perform BLAS operation using StreamExecutor without BLAS support\n",
      "2022-03-08 17:00:21.086546: E tensorflow/stream_executor/cuda/cuda_blas.cc:226] failed to create cublas handle: CUBLAS_STATUS_NOT_INITIALIZED\n",
      "2022-03-08 17:00:21.086577: W tensorflow/core/framework/op_kernel.cc:1745] OP_REQUIRES failed at matmul_op_impl.h:438 : INTERNAL: Attempting to perform BLAS operation using StreamExecutor without BLAS support\n"
     ]
    },
    {
     "ename": "InternalError",
     "evalue": "2 root error(s) found.\n  (0) INTERNAL:  Attempting to perform BLAS operation using StreamExecutor without BLAS support\n\t [[node keras_model/TensorGraph/while/iteration_0/DotIncBuilder/MatMul\n (defined at /home/hutch/.pyenv/versions/miniconda3-4.7.12/envs/spiking_encoders/lib/python3.9/site-packages/nengo_dl/op_builders.py:348)\n]]\n\t [[keras_model/TensorGraph/while/exit/_130/_8]]\n  (1) INTERNAL:  Attempting to perform BLAS operation using StreamExecutor without BLAS support\n\t [[node keras_model/TensorGraph/while/iteration_0/DotIncBuilder/MatMul\n (defined at /home/hutch/.pyenv/versions/miniconda3-4.7.12/envs/spiking_encoders/lib/python3.9/site-packages/nengo_dl/op_builders.py:348)\n]]\n0 successful operations.\n0 derived errors ignored. [Op:__inference_predict_function_906]\n\nErrors may have originated from an input operation.\nInput Source operations connected to node keras_model/TensorGraph/while/iteration_0/DotIncBuilder/MatMul:\nIn[0] keras_model/TensorGraph/while/iteration_0/DotIncBuilder/Reshape (defined at /home/hutch/.pyenv/versions/miniconda3-4.7.12/envs/spiking_encoders/lib/python3.9/site-packages/nengo_dl/signals.py:420)\t\nIn[1] keras_model/TensorGraph/while/iteration_0/DotIncBuilder/transpose:\n\nOperation defined at: (most recent call last)\n>>>   File \"/home/hutch/.pyenv/versions/miniconda3-4.7.12/envs/spiking_encoders/lib/python3.9/runpy.py\", line 197, in _run_module_as_main\n>>>     return _run_code(code, main_globals, None,\n>>> \n>>>   File \"/home/hutch/.pyenv/versions/miniconda3-4.7.12/envs/spiking_encoders/lib/python3.9/runpy.py\", line 87, in _run_code\n>>>     exec(code, run_globals)\n>>> \n>>>   File \"/home/hutch/.pyenv/versions/miniconda3-4.7.12/envs/spiking_encoders/lib/python3.9/site-packages/ipykernel_launcher.py\", line 16, in <module>\n>>>     app.launch_new_instance()\n>>> \n>>>   File \"/home/hutch/.pyenv/versions/miniconda3-4.7.12/envs/spiking_encoders/lib/python3.9/site-packages/traitlets/config/application.py\", line 846, in launch_instance\n>>>     app.start()\n>>> \n>>>   File \"/home/hutch/.pyenv/versions/miniconda3-4.7.12/envs/spiking_encoders/lib/python3.9/site-packages/ipykernel/kernelapp.py\", line 677, in start\n>>>     self.io_loop.start()\n>>> \n>>>   File \"/home/hutch/.pyenv/versions/miniconda3-4.7.12/envs/spiking_encoders/lib/python3.9/site-packages/tornado/platform/asyncio.py\", line 199, in start\n>>>     self.asyncio_loop.run_forever()\n>>> \n>>>   File \"/home/hutch/.pyenv/versions/miniconda3-4.7.12/envs/spiking_encoders/lib/python3.9/asyncio/base_events.py\", line 596, in run_forever\n>>>     self._run_once()\n>>> \n>>>   File \"/home/hutch/.pyenv/versions/miniconda3-4.7.12/envs/spiking_encoders/lib/python3.9/asyncio/base_events.py\", line 1890, in _run_once\n>>>     handle._run()\n>>> \n>>>   File \"/home/hutch/.pyenv/versions/miniconda3-4.7.12/envs/spiking_encoders/lib/python3.9/asyncio/events.py\", line 80, in _run\n>>>     self._context.run(self._callback, *self._args)\n>>> \n>>>   File \"/home/hutch/.pyenv/versions/miniconda3-4.7.12/envs/spiking_encoders/lib/python3.9/site-packages/ipykernel/kernelbase.py\", line 471, in dispatch_queue\n>>>     await self.process_one()\n>>> \n>>>   File \"/home/hutch/.pyenv/versions/miniconda3-4.7.12/envs/spiking_encoders/lib/python3.9/site-packages/ipykernel/kernelbase.py\", line 460, in process_one\n>>>     await dispatch(*args)\n>>> \n>>>   File \"/home/hutch/.pyenv/versions/miniconda3-4.7.12/envs/spiking_encoders/lib/python3.9/site-packages/ipykernel/kernelbase.py\", line 367, in dispatch_shell\n>>>     await result\n>>> \n>>>   File \"/home/hutch/.pyenv/versions/miniconda3-4.7.12/envs/spiking_encoders/lib/python3.9/site-packages/ipykernel/kernelbase.py\", line 662, in execute_request\n>>>     reply_content = await reply_content\n>>> \n>>>   File \"/home/hutch/.pyenv/versions/miniconda3-4.7.12/envs/spiking_encoders/lib/python3.9/site-packages/ipykernel/ipkernel.py\", line 360, in do_execute\n>>>     res = shell.run_cell(code, store_history=store_history, silent=silent)\n>>> \n>>>   File \"/home/hutch/.pyenv/versions/miniconda3-4.7.12/envs/spiking_encoders/lib/python3.9/site-packages/ipykernel/zmqshell.py\", line 532, in run_cell\n>>>     return super().run_cell(*args, **kwargs)\n>>> \n>>>   File \"/home/hutch/.pyenv/versions/miniconda3-4.7.12/envs/spiking_encoders/lib/python3.9/site-packages/IPython/core/interactiveshell.py\", line 2854, in run_cell\n>>>     result = self._run_cell(\n>>> \n>>>   File \"/home/hutch/.pyenv/versions/miniconda3-4.7.12/envs/spiking_encoders/lib/python3.9/site-packages/IPython/core/interactiveshell.py\", line 2900, in _run_cell\n>>>     return runner(coro)\n>>> \n>>>   File \"/home/hutch/.pyenv/versions/miniconda3-4.7.12/envs/spiking_encoders/lib/python3.9/site-packages/IPython/core/async_helpers.py\", line 129, in _pseudo_sync_runner\n>>>     coro.send(None)\n>>> \n>>>   File \"/home/hutch/.pyenv/versions/miniconda3-4.7.12/envs/spiking_encoders/lib/python3.9/site-packages/IPython/core/interactiveshell.py\", line 3098, in run_cell_async\n>>>     has_raised = await self.run_ast_nodes(code_ast.body, cell_name,\n>>> \n>>>   File \"/home/hutch/.pyenv/versions/miniconda3-4.7.12/envs/spiking_encoders/lib/python3.9/site-packages/IPython/core/interactiveshell.py\", line 3301, in run_ast_nodes\n>>>     if await self.run_code(code, result, async_=asy):\n>>> \n>>>   File \"/home/hutch/.pyenv/versions/miniconda3-4.7.12/envs/spiking_encoders/lib/python3.9/site-packages/IPython/core/interactiveshell.py\", line 3361, in run_code\n>>>     exec(code_obj, self.user_global_ns, self.user_ns)\n>>> \n>>>   File \"/tmp/ipykernel_3914796/3905949139.py\", line 4, in <cell line: 3>\n>>>     out = sim.predict(np.ones((minibatch_size, 1, n_in)))\n>>> \n>>>   File \"/home/hutch/.pyenv/versions/miniconda3-4.7.12/envs/spiking_encoders/lib/python3.9/site-packages/nengo/utils/magic.py\", line 179, in __call__\n>>>     return self.wrapper(self.__wrapped__, self.instance, args, kwargs)\n>>> \n>>>   File \"/home/hutch/.pyenv/versions/miniconda3-4.7.12/envs/spiking_encoders/lib/python3.9/site-packages/nengo_dl/simulator.py\", line 67, in require_open\n>>>     return wrapped(*args, **kwargs)\n>>> \n>>>   File \"/home/hutch/.pyenv/versions/miniconda3-4.7.12/envs/spiking_encoders/lib/python3.9/site-packages/nengo_dl/simulator.py\", line 678, in predict\n>>>     return self._call_keras(\n>>> \n>>>   File \"/home/hutch/.pyenv/versions/miniconda3-4.7.12/envs/spiking_encoders/lib/python3.9/site-packages/nengo/utils/magic.py\", line 179, in __call__\n>>>     return self.wrapper(self.__wrapped__, self.instance, args, kwargs)\n>>> \n>>>   File \"/home/hutch/.pyenv/versions/miniconda3-4.7.12/envs/spiking_encoders/lib/python3.9/site-packages/nengo_dl/simulator.py\", line 50, in with_self\n>>>     output = wrapped(*args, **kwargs)\n>>> \n>>>   File \"/home/hutch/.pyenv/versions/miniconda3-4.7.12/envs/spiking_encoders/lib/python3.9/site-packages/nengo_dl/simulator.py\", line 1043, in _call_keras\n>>>     outputs = getattr(self.keras_model, func_type)(**func_args)\n>>> \n>>>   File \"/home/hutch/.pyenv/versions/miniconda3-4.7.12/envs/spiking_encoders/lib/python3.9/site-packages/keras/utils/traceback_utils.py\", line 64, in error_handler\n>>>     return fn(*args, **kwargs)\n>>> \n>>>   File \"/home/hutch/.pyenv/versions/miniconda3-4.7.12/envs/spiking_encoders/lib/python3.9/site-packages/keras/engine/training.py\", line 1789, in predict\n>>>     tmp_batch_outputs = self.predict_function(iterator)\n>>> \n>>>   File \"/home/hutch/.pyenv/versions/miniconda3-4.7.12/envs/spiking_encoders/lib/python3.9/site-packages/keras/engine/training.py\", line 1621, in predict_function\n>>>     return step_function(self, iterator)\n>>> \n>>>   File \"/home/hutch/.pyenv/versions/miniconda3-4.7.12/envs/spiking_encoders/lib/python3.9/site-packages/keras/engine/training.py\", line 1611, in step_function\n>>>     outputs = model.distribute_strategy.run(run_step, args=(data,))\n>>> \n>>>   File \"/home/hutch/.pyenv/versions/miniconda3-4.7.12/envs/spiking_encoders/lib/python3.9/site-packages/keras/engine/training.py\", line 1604, in run_step\n>>>     outputs = model.predict_step(data)\n>>> \n>>>   File \"/home/hutch/.pyenv/versions/miniconda3-4.7.12/envs/spiking_encoders/lib/python3.9/site-packages/keras/engine/training.py\", line 1572, in predict_step\n>>>     return self(x, training=False)\n>>> \n>>>   File \"/home/hutch/.pyenv/versions/miniconda3-4.7.12/envs/spiking_encoders/lib/python3.9/site-packages/keras/utils/traceback_utils.py\", line 64, in error_handler\n>>>     return fn(*args, **kwargs)\n>>> \n>>>   File \"/home/hutch/.pyenv/versions/miniconda3-4.7.12/envs/spiking_encoders/lib/python3.9/site-packages/keras/engine/base_layer.py\", line 1083, in __call__\n>>>     outputs = call_fn(inputs, *args, **kwargs)\n>>> \n>>>   File \"/home/hutch/.pyenv/versions/miniconda3-4.7.12/envs/spiking_encoders/lib/python3.9/site-packages/keras/utils/traceback_utils.py\", line 92, in error_handler\n>>>     return fn(*args, **kwargs)\n>>> \n>>>   File \"/home/hutch/.pyenv/versions/miniconda3-4.7.12/envs/spiking_encoders/lib/python3.9/site-packages/keras/engine/functional.py\", line 451, in call\n>>>     return self._run_internal_graph(\n>>> \n>>>   File \"/home/hutch/.pyenv/versions/miniconda3-4.7.12/envs/spiking_encoders/lib/python3.9/site-packages/keras/engine/functional.py\", line 589, in _run_internal_graph\n>>>     outputs = node.layer(*args, **kwargs)\n>>> \n>>>   File \"/home/hutch/.pyenv/versions/miniconda3-4.7.12/envs/spiking_encoders/lib/python3.9/site-packages/keras/utils/traceback_utils.py\", line 64, in error_handler\n>>>     return fn(*args, **kwargs)\n>>> \n>>>   File \"/home/hutch/.pyenv/versions/miniconda3-4.7.12/envs/spiking_encoders/lib/python3.9/site-packages/keras/engine/base_layer.py\", line 1083, in __call__\n>>>     outputs = call_fn(inputs, *args, **kwargs)\n>>> \n>>>   File \"/home/hutch/.pyenv/versions/miniconda3-4.7.12/envs/spiking_encoders/lib/python3.9/site-packages/keras/utils/traceback_utils.py\", line 92, in error_handler\n>>>     return fn(*args, **kwargs)\n>>> \n>>>   File \"/home/hutch/.pyenv/versions/miniconda3-4.7.12/envs/spiking_encoders/lib/python3.9/site-packages/nengo_dl/tensor_graph.py\", line 488, in call\n>>>     self._build_loop(sub) if self.use_loop else self._build_no_loop(sub)\n>>> \n>>>   File \"/home/hutch/.pyenv/versions/miniconda3-4.7.12/envs/spiking_encoders/lib/python3.9/site-packages/nengo_dl/tensor_graph.py\", line 638, in _build_loop\n>>>     loop_vars = tf.while_loop(\n>>> \n>>>   File \"/home/hutch/.pyenv/versions/miniconda3-4.7.12/envs/spiking_encoders/lib/python3.9/site-packages/nengo_dl/tensor_graph.py\", line 615, in loop_body\n>>>     loop_i = self._build_inner_loop(loop_i, update_probes, progress)\n>>> \n>>>   File \"/home/hutch/.pyenv/versions/miniconda3-4.7.12/envs/spiking_encoders/lib/python3.9/site-packages/nengo_dl/tensor_graph.py\", line 770, in _build_inner_loop\n>>>     side_effects = self.op_builder.build_step(self.signals, progress)\n>>> \n>>>   File \"/home/hutch/.pyenv/versions/miniconda3-4.7.12/envs/spiking_encoders/lib/python3.9/site-packages/nengo_dl/builder.py\", line 101, in build_step\n>>>     output = self.op_builds[ops].build_step(signals)\n>>> \n>>>   File \"/home/hutch/.pyenv/versions/miniconda3-4.7.12/envs/spiking_encoders/lib/python3.9/site-packages/nengo_dl/op_builders.py\", line 348, in build_step\n>>>     dot = tf.matmul(A, tf.transpose(X, perm=self.perm))\n>>> \n\nInput Source operations connected to node keras_model/TensorGraph/while/iteration_0/DotIncBuilder/MatMul:\nIn[0] keras_model/TensorGraph/while/iteration_0/DotIncBuilder/Reshape (defined at /home/hutch/.pyenv/versions/miniconda3-4.7.12/envs/spiking_encoders/lib/python3.9/site-packages/nengo_dl/signals.py:420)\t\nIn[1] keras_model/TensorGraph/while/iteration_0/DotIncBuilder/transpose:\n\nOperation defined at: (most recent call last)\n>>>   File \"/home/hutch/.pyenv/versions/miniconda3-4.7.12/envs/spiking_encoders/lib/python3.9/runpy.py\", line 197, in _run_module_as_main\n>>>     return _run_code(code, main_globals, None,\n>>> \n>>>   File \"/home/hutch/.pyenv/versions/miniconda3-4.7.12/envs/spiking_encoders/lib/python3.9/runpy.py\", line 87, in _run_code\n>>>     exec(code, run_globals)\n>>> \n>>>   File \"/home/hutch/.pyenv/versions/miniconda3-4.7.12/envs/spiking_encoders/lib/python3.9/site-packages/ipykernel_launcher.py\", line 16, in <module>\n>>>     app.launch_new_instance()\n>>> \n>>>   File \"/home/hutch/.pyenv/versions/miniconda3-4.7.12/envs/spiking_encoders/lib/python3.9/site-packages/traitlets/config/application.py\", line 846, in launch_instance\n>>>     app.start()\n>>> \n>>>   File \"/home/hutch/.pyenv/versions/miniconda3-4.7.12/envs/spiking_encoders/lib/python3.9/site-packages/ipykernel/kernelapp.py\", line 677, in start\n>>>     self.io_loop.start()\n>>> \n>>>   File \"/home/hutch/.pyenv/versions/miniconda3-4.7.12/envs/spiking_encoders/lib/python3.9/site-packages/tornado/platform/asyncio.py\", line 199, in start\n>>>     self.asyncio_loop.run_forever()\n>>> \n>>>   File \"/home/hutch/.pyenv/versions/miniconda3-4.7.12/envs/spiking_encoders/lib/python3.9/asyncio/base_events.py\", line 596, in run_forever\n>>>     self._run_once()\n>>> \n>>>   File \"/home/hutch/.pyenv/versions/miniconda3-4.7.12/envs/spiking_encoders/lib/python3.9/asyncio/base_events.py\", line 1890, in _run_once\n>>>     handle._run()\n>>> \n>>>   File \"/home/hutch/.pyenv/versions/miniconda3-4.7.12/envs/spiking_encoders/lib/python3.9/asyncio/events.py\", line 80, in _run\n>>>     self._context.run(self._callback, *self._args)\n>>> \n>>>   File \"/home/hutch/.pyenv/versions/miniconda3-4.7.12/envs/spiking_encoders/lib/python3.9/site-packages/ipykernel/kernelbase.py\", line 471, in dispatch_queue\n>>>     await self.process_one()\n>>> \n>>>   File \"/home/hutch/.pyenv/versions/miniconda3-4.7.12/envs/spiking_encoders/lib/python3.9/site-packages/ipykernel/kernelbase.py\", line 460, in process_one\n>>>     await dispatch(*args)\n>>> \n>>>   File \"/home/hutch/.pyenv/versions/miniconda3-4.7.12/envs/spiking_encoders/lib/python3.9/site-packages/ipykernel/kernelbase.py\", line 367, in dispatch_shell\n>>>     await result\n>>> \n>>>   File \"/home/hutch/.pyenv/versions/miniconda3-4.7.12/envs/spiking_encoders/lib/python3.9/site-packages/ipykernel/kernelbase.py\", line 662, in execute_request\n>>>     reply_content = await reply_content\n>>> \n>>>   File \"/home/hutch/.pyenv/versions/miniconda3-4.7.12/envs/spiking_encoders/lib/python3.9/site-packages/ipykernel/ipkernel.py\", line 360, in do_execute\n>>>     res = shell.run_cell(code, store_history=store_history, silent=silent)\n>>> \n>>>   File \"/home/hutch/.pyenv/versions/miniconda3-4.7.12/envs/spiking_encoders/lib/python3.9/site-packages/ipykernel/zmqshell.py\", line 532, in run_cell\n>>>     return super().run_cell(*args, **kwargs)\n>>> \n>>>   File \"/home/hutch/.pyenv/versions/miniconda3-4.7.12/envs/spiking_encoders/lib/python3.9/site-packages/IPython/core/interactiveshell.py\", line 2854, in run_cell\n>>>     result = self._run_cell(\n>>> \n>>>   File \"/home/hutch/.pyenv/versions/miniconda3-4.7.12/envs/spiking_encoders/lib/python3.9/site-packages/IPython/core/interactiveshell.py\", line 2900, in _run_cell\n>>>     return runner(coro)\n>>> \n>>>   File \"/home/hutch/.pyenv/versions/miniconda3-4.7.12/envs/spiking_encoders/lib/python3.9/site-packages/IPython/core/async_helpers.py\", line 129, in _pseudo_sync_runner\n>>>     coro.send(None)\n>>> \n>>>   File \"/home/hutch/.pyenv/versions/miniconda3-4.7.12/envs/spiking_encoders/lib/python3.9/site-packages/IPython/core/interactiveshell.py\", line 3098, in run_cell_async\n>>>     has_raised = await self.run_ast_nodes(code_ast.body, cell_name,\n>>> \n>>>   File \"/home/hutch/.pyenv/versions/miniconda3-4.7.12/envs/spiking_encoders/lib/python3.9/site-packages/IPython/core/interactiveshell.py\", line 3301, in run_ast_nodes\n>>>     if await self.run_code(code, result, async_=asy):\n>>> \n>>>   File \"/home/hutch/.pyenv/versions/miniconda3-4.7.12/envs/spiking_encoders/lib/python3.9/site-packages/IPython/core/interactiveshell.py\", line 3361, in run_code\n>>>     exec(code_obj, self.user_global_ns, self.user_ns)\n>>> \n>>>   File \"/tmp/ipykernel_3914796/3905949139.py\", line 4, in <cell line: 3>\n>>>     out = sim.predict(np.ones((minibatch_size, 1, n_in)))\n>>> \n>>>   File \"/home/hutch/.pyenv/versions/miniconda3-4.7.12/envs/spiking_encoders/lib/python3.9/site-packages/nengo/utils/magic.py\", line 179, in __call__\n>>>     return self.wrapper(self.__wrapped__, self.instance, args, kwargs)\n>>> \n>>>   File \"/home/hutch/.pyenv/versions/miniconda3-4.7.12/envs/spiking_encoders/lib/python3.9/site-packages/nengo_dl/simulator.py\", line 67, in require_open\n>>>     return wrapped(*args, **kwargs)\n>>> \n>>>   File \"/home/hutch/.pyenv/versions/miniconda3-4.7.12/envs/spiking_encoders/lib/python3.9/site-packages/nengo_dl/simulator.py\", line 678, in predict\n>>>     return self._call_keras(\n>>> \n>>>   File \"/home/hutch/.pyenv/versions/miniconda3-4.7.12/envs/spiking_encoders/lib/python3.9/site-packages/nengo/utils/magic.py\", line 179, in __call__\n>>>     return self.wrapper(self.__wrapped__, self.instance, args, kwargs)\n>>> \n>>>   File \"/home/hutch/.pyenv/versions/miniconda3-4.7.12/envs/spiking_encoders/lib/python3.9/site-packages/nengo_dl/simulator.py\", line 50, in with_self\n>>>     output = wrapped(*args, **kwargs)\n>>> \n>>>   File \"/home/hutch/.pyenv/versions/miniconda3-4.7.12/envs/spiking_encoders/lib/python3.9/site-packages/nengo_dl/simulator.py\", line 1043, in _call_keras\n>>>     outputs = getattr(self.keras_model, func_type)(**func_args)\n>>> \n>>>   File \"/home/hutch/.pyenv/versions/miniconda3-4.7.12/envs/spiking_encoders/lib/python3.9/site-packages/keras/utils/traceback_utils.py\", line 64, in error_handler\n>>>     return fn(*args, **kwargs)\n>>> \n>>>   File \"/home/hutch/.pyenv/versions/miniconda3-4.7.12/envs/spiking_encoders/lib/python3.9/site-packages/keras/engine/training.py\", line 1789, in predict\n>>>     tmp_batch_outputs = self.predict_function(iterator)\n>>> \n>>>   File \"/home/hutch/.pyenv/versions/miniconda3-4.7.12/envs/spiking_encoders/lib/python3.9/site-packages/keras/engine/training.py\", line 1621, in predict_function\n>>>     return step_function(self, iterator)\n>>> \n>>>   File \"/home/hutch/.pyenv/versions/miniconda3-4.7.12/envs/spiking_encoders/lib/python3.9/site-packages/keras/engine/training.py\", line 1611, in step_function\n>>>     outputs = model.distribute_strategy.run(run_step, args=(data,))\n>>> \n>>>   File \"/home/hutch/.pyenv/versions/miniconda3-4.7.12/envs/spiking_encoders/lib/python3.9/site-packages/keras/engine/training.py\", line 1604, in run_step\n>>>     outputs = model.predict_step(data)\n>>> \n>>>   File \"/home/hutch/.pyenv/versions/miniconda3-4.7.12/envs/spiking_encoders/lib/python3.9/site-packages/keras/engine/training.py\", line 1572, in predict_step\n>>>     return self(x, training=False)\n>>> \n>>>   File \"/home/hutch/.pyenv/versions/miniconda3-4.7.12/envs/spiking_encoders/lib/python3.9/site-packages/keras/utils/traceback_utils.py\", line 64, in error_handler\n>>>     return fn(*args, **kwargs)\n>>> \n>>>   File \"/home/hutch/.pyenv/versions/miniconda3-4.7.12/envs/spiking_encoders/lib/python3.9/site-packages/keras/engine/base_layer.py\", line 1083, in __call__\n>>>     outputs = call_fn(inputs, *args, **kwargs)\n>>> \n>>>   File \"/home/hutch/.pyenv/versions/miniconda3-4.7.12/envs/spiking_encoders/lib/python3.9/site-packages/keras/utils/traceback_utils.py\", line 92, in error_handler\n>>>     return fn(*args, **kwargs)\n>>> \n>>>   File \"/home/hutch/.pyenv/versions/miniconda3-4.7.12/envs/spiking_encoders/lib/python3.9/site-packages/keras/engine/functional.py\", line 451, in call\n>>>     return self._run_internal_graph(\n>>> \n>>>   File \"/home/hutch/.pyenv/versions/miniconda3-4.7.12/envs/spiking_encoders/lib/python3.9/site-packages/keras/engine/functional.py\", line 589, in _run_internal_graph\n>>>     outputs = node.layer(*args, **kwargs)\n>>> \n>>>   File \"/home/hutch/.pyenv/versions/miniconda3-4.7.12/envs/spiking_encoders/lib/python3.9/site-packages/keras/utils/traceback_utils.py\", line 64, in error_handler\n>>>     return fn(*args, **kwargs)\n>>> \n>>>   File \"/home/hutch/.pyenv/versions/miniconda3-4.7.12/envs/spiking_encoders/lib/python3.9/site-packages/keras/engine/base_layer.py\", line 1083, in __call__\n>>>     outputs = call_fn(inputs, *args, **kwargs)\n>>> \n>>>   File \"/home/hutch/.pyenv/versions/miniconda3-4.7.12/envs/spiking_encoders/lib/python3.9/site-packages/keras/utils/traceback_utils.py\", line 92, in error_handler\n>>>     return fn(*args, **kwargs)\n>>> \n>>>   File \"/home/hutch/.pyenv/versions/miniconda3-4.7.12/envs/spiking_encoders/lib/python3.9/site-packages/nengo_dl/tensor_graph.py\", line 488, in call\n>>>     self._build_loop(sub) if self.use_loop else self._build_no_loop(sub)\n>>> \n>>>   File \"/home/hutch/.pyenv/versions/miniconda3-4.7.12/envs/spiking_encoders/lib/python3.9/site-packages/nengo_dl/tensor_graph.py\", line 638, in _build_loop\n>>>     loop_vars = tf.while_loop(\n>>> \n>>>   File \"/home/hutch/.pyenv/versions/miniconda3-4.7.12/envs/spiking_encoders/lib/python3.9/site-packages/nengo_dl/tensor_graph.py\", line 615, in loop_body\n>>>     loop_i = self._build_inner_loop(loop_i, update_probes, progress)\n>>> \n>>>   File \"/home/hutch/.pyenv/versions/miniconda3-4.7.12/envs/spiking_encoders/lib/python3.9/site-packages/nengo_dl/tensor_graph.py\", line 770, in _build_inner_loop\n>>>     side_effects = self.op_builder.build_step(self.signals, progress)\n>>> \n>>>   File \"/home/hutch/.pyenv/versions/miniconda3-4.7.12/envs/spiking_encoders/lib/python3.9/site-packages/nengo_dl/builder.py\", line 101, in build_step\n>>>     output = self.op_builds[ops].build_step(signals)\n>>> \n>>>   File \"/home/hutch/.pyenv/versions/miniconda3-4.7.12/envs/spiking_encoders/lib/python3.9/site-packages/nengo_dl/op_builders.py\", line 348, in build_step\n>>>     dot = tf.matmul(A, tf.transpose(X, perm=self.perm))\n>>> \n\nFunction call stack:\npredict_function -> keras_model_TensorGraph_while_body_580 -> predict_function -> keras_model_TensorGraph_while_body_580\n",
     "output_type": "error",
     "traceback": [
      "\u001b[0;31m---------------------------------------------------------------------------\u001b[0m",
      "\u001b[0;31mInternalError\u001b[0m                             Traceback (most recent call last)",
      "Input \u001b[0;32mIn [7]\u001b[0m, in \u001b[0;36m<cell line: 3>\u001b[0;34m()\u001b[0m\n\u001b[1;32m      1\u001b[0m minibatch_size \u001b[38;5;241m=\u001b[39m \u001b[38;5;241m5\u001b[39m\n\u001b[1;32m      3\u001b[0m \u001b[38;5;28;01mwith\u001b[39;00m nengo_dl\u001b[38;5;241m.\u001b[39mSimulator(network\u001b[38;5;241m=\u001b[39mauto_net, minibatch_size\u001b[38;5;241m=\u001b[39mminibatch_size) \u001b[38;5;28;01mas\u001b[39;00m sim:\n\u001b[0;32m----> 4\u001b[0m     out \u001b[38;5;241m=\u001b[39m \u001b[43msim\u001b[49m\u001b[38;5;241;43m.\u001b[39;49m\u001b[43mpredict\u001b[49m\u001b[43m(\u001b[49m\u001b[43mnp\u001b[49m\u001b[38;5;241;43m.\u001b[39;49m\u001b[43mones\u001b[49m\u001b[43m(\u001b[49m\u001b[43m(\u001b[49m\u001b[43mminibatch_size\u001b[49m\u001b[43m,\u001b[49m\u001b[43m \u001b[49m\u001b[38;5;241;43m1\u001b[39;49m\u001b[43m,\u001b[49m\u001b[43m \u001b[49m\u001b[43mn_in\u001b[49m\u001b[43m)\u001b[49m\u001b[43m)\u001b[49m\u001b[43m)\u001b[49m\n\u001b[1;32m      5\u001b[0m     \u001b[38;5;28mprint\u001b[39m(out[p_c]\u001b[38;5;241m.\u001b[39mshape,out[p_b]\u001b[38;5;241m.\u001b[39mshape)\n",
      "File \u001b[0;32m~/.pyenv/versions/miniconda3-4.7.12/envs/spiking_encoders/lib/python3.9/site-packages/nengo/utils/magic.py:179\u001b[0m, in \u001b[0;36mBoundFunctionWrapper.__call__\u001b[0;34m(self, *args, **kwargs)\u001b[0m\n\u001b[1;32m    177\u001b[0m         \u001b[38;5;28;01mreturn\u001b[39;00m \u001b[38;5;28mself\u001b[39m\u001b[38;5;241m.\u001b[39mwrapper(wrapped, instance, args, kwargs)\n\u001b[1;32m    178\u001b[0m     \u001b[38;5;28;01melse\u001b[39;00m:\n\u001b[0;32m--> 179\u001b[0m         \u001b[38;5;28;01mreturn\u001b[39;00m \u001b[38;5;28;43mself\u001b[39;49m\u001b[38;5;241;43m.\u001b[39;49m\u001b[43mwrapper\u001b[49m\u001b[43m(\u001b[49m\u001b[38;5;28;43mself\u001b[39;49m\u001b[38;5;241;43m.\u001b[39;49m\u001b[43m__wrapped__\u001b[49m\u001b[43m,\u001b[49m\u001b[43m \u001b[49m\u001b[38;5;28;43mself\u001b[39;49m\u001b[38;5;241;43m.\u001b[39;49m\u001b[43minstance\u001b[49m\u001b[43m,\u001b[49m\u001b[43m \u001b[49m\u001b[43margs\u001b[49m\u001b[43m,\u001b[49m\u001b[43m \u001b[49m\u001b[43mkwargs\u001b[49m\u001b[43m)\u001b[49m\n\u001b[1;32m    180\u001b[0m \u001b[38;5;28;01melse\u001b[39;00m:\n\u001b[1;32m    181\u001b[0m     instance \u001b[38;5;241m=\u001b[39m \u001b[38;5;28mgetattr\u001b[39m(\u001b[38;5;28mself\u001b[39m\u001b[38;5;241m.\u001b[39m__wrapped__, \u001b[38;5;124m\"\u001b[39m\u001b[38;5;124m__self__\u001b[39m\u001b[38;5;124m\"\u001b[39m, \u001b[38;5;28;01mNone\u001b[39;00m)\n",
      "File \u001b[0;32m~/.pyenv/versions/miniconda3-4.7.12/envs/spiking_encoders/lib/python3.9/site-packages/nengo_dl/simulator.py:67\u001b[0m, in \u001b[0;36mrequire_open\u001b[0;34m(wrapped, instance, args, kwargs)\u001b[0m\n\u001b[1;32m     62\u001b[0m \u001b[38;5;28;01mif\u001b[39;00m instance\u001b[38;5;241m.\u001b[39mclosed:\n\u001b[1;32m     63\u001b[0m     \u001b[38;5;28;01mraise\u001b[39;00m SimulatorClosed(\n\u001b[1;32m     64\u001b[0m         \u001b[38;5;124mf\u001b[39m\u001b[38;5;124m\"\u001b[39m\u001b[38;5;124mCannot call \u001b[39m\u001b[38;5;132;01m{\u001b[39;00mwrapped\u001b[38;5;241m.\u001b[39m\u001b[38;5;18m__name__\u001b[39m\u001b[38;5;132;01m}\u001b[39;00m\u001b[38;5;124m after simulator is closed\u001b[39m\u001b[38;5;124m\"\u001b[39m\n\u001b[1;32m     65\u001b[0m     )\n\u001b[0;32m---> 67\u001b[0m \u001b[38;5;28;01mreturn\u001b[39;00m \u001b[43mwrapped\u001b[49m\u001b[43m(\u001b[49m\u001b[38;5;241;43m*\u001b[39;49m\u001b[43margs\u001b[49m\u001b[43m,\u001b[49m\u001b[43m \u001b[49m\u001b[38;5;241;43m*\u001b[39;49m\u001b[38;5;241;43m*\u001b[39;49m\u001b[43mkwargs\u001b[49m\u001b[43m)\u001b[49m\n",
      "File \u001b[0;32m~/.pyenv/versions/miniconda3-4.7.12/envs/spiking_encoders/lib/python3.9/site-packages/nengo_dl/simulator.py:678\u001b[0m, in \u001b[0;36mSimulator.predict\u001b[0;34m(self, x, n_steps, stateful, **kwargs)\u001b[0m\n\u001b[1;32m    649\u001b[0m \u001b[38;5;129m@require_open\u001b[39m\n\u001b[1;32m    650\u001b[0m \u001b[38;5;129m@fill_docs\u001b[39m(\u001b[38;5;124m\"\u001b[39m\u001b[38;5;124mx\u001b[39m\u001b[38;5;124m\"\u001b[39m, \u001b[38;5;124m\"\u001b[39m\u001b[38;5;124mn_steps\u001b[39m\u001b[38;5;124m\"\u001b[39m, \u001b[38;5;124m\"\u001b[39m\u001b[38;5;124mstateful\u001b[39m\u001b[38;5;124m\"\u001b[39m)\n\u001b[1;32m    651\u001b[0m \u001b[38;5;28;01mdef\u001b[39;00m \u001b[38;5;21mpredict\u001b[39m(\u001b[38;5;28mself\u001b[39m, x\u001b[38;5;241m=\u001b[39m\u001b[38;5;28;01mNone\u001b[39;00m, n_steps\u001b[38;5;241m=\u001b[39m\u001b[38;5;28;01mNone\u001b[39;00m, stateful\u001b[38;5;241m=\u001b[39m\u001b[38;5;28;01mFalse\u001b[39;00m, \u001b[38;5;241m*\u001b[39m\u001b[38;5;241m*\u001b[39mkwargs):\n\u001b[1;32m    652\u001b[0m     \u001b[38;5;124;03m\"\"\"\u001b[39;00m\n\u001b[1;32m    653\u001b[0m \u001b[38;5;124;03m    Generate output predictions for the input samples.\u001b[39;00m\n\u001b[1;32m    654\u001b[0m \n\u001b[0;32m   (...)\u001b[0m\n\u001b[1;32m    675\u001b[0m \u001b[38;5;124;03m        Output values from all the Probes in the network.\u001b[39;00m\n\u001b[1;32m    676\u001b[0m \u001b[38;5;124;03m    \"\"\"\u001b[39;00m\n\u001b[0;32m--> 678\u001b[0m     \u001b[38;5;28;01mreturn\u001b[39;00m \u001b[38;5;28;43mself\u001b[39;49m\u001b[38;5;241;43m.\u001b[39;49m\u001b[43m_call_keras\u001b[49m\u001b[43m(\u001b[49m\n\u001b[1;32m    679\u001b[0m \u001b[43m        \u001b[49m\u001b[38;5;124;43m\"\u001b[39;49m\u001b[38;5;124;43mpredict\u001b[39;49m\u001b[38;5;124;43m\"\u001b[39;49m\u001b[43m,\u001b[49m\u001b[43m \u001b[49m\u001b[43mx\u001b[49m\u001b[38;5;241;43m=\u001b[39;49m\u001b[43mx\u001b[49m\u001b[43m,\u001b[49m\u001b[43m \u001b[49m\u001b[43mn_steps\u001b[49m\u001b[38;5;241;43m=\u001b[39;49m\u001b[43mn_steps\u001b[49m\u001b[43m,\u001b[49m\u001b[43m \u001b[49m\u001b[43mstateful\u001b[49m\u001b[38;5;241;43m=\u001b[39;49m\u001b[43mstateful\u001b[49m\u001b[43m,\u001b[49m\u001b[43m \u001b[49m\u001b[38;5;241;43m*\u001b[39;49m\u001b[38;5;241;43m*\u001b[39;49m\u001b[43mkwargs\u001b[49m\n\u001b[1;32m    680\u001b[0m \u001b[43m    \u001b[49m\u001b[43m)\u001b[49m\n",
      "File \u001b[0;32m~/.pyenv/versions/miniconda3-4.7.12/envs/spiking_encoders/lib/python3.9/site-packages/nengo/utils/magic.py:179\u001b[0m, in \u001b[0;36mBoundFunctionWrapper.__call__\u001b[0;34m(self, *args, **kwargs)\u001b[0m\n\u001b[1;32m    177\u001b[0m         \u001b[38;5;28;01mreturn\u001b[39;00m \u001b[38;5;28mself\u001b[39m\u001b[38;5;241m.\u001b[39mwrapper(wrapped, instance, args, kwargs)\n\u001b[1;32m    178\u001b[0m     \u001b[38;5;28;01melse\u001b[39;00m:\n\u001b[0;32m--> 179\u001b[0m         \u001b[38;5;28;01mreturn\u001b[39;00m \u001b[38;5;28;43mself\u001b[39;49m\u001b[38;5;241;43m.\u001b[39;49m\u001b[43mwrapper\u001b[49m\u001b[43m(\u001b[49m\u001b[38;5;28;43mself\u001b[39;49m\u001b[38;5;241;43m.\u001b[39;49m\u001b[43m__wrapped__\u001b[49m\u001b[43m,\u001b[49m\u001b[43m \u001b[49m\u001b[38;5;28;43mself\u001b[39;49m\u001b[38;5;241;43m.\u001b[39;49m\u001b[43minstance\u001b[49m\u001b[43m,\u001b[49m\u001b[43m \u001b[49m\u001b[43margs\u001b[49m\u001b[43m,\u001b[49m\u001b[43m \u001b[49m\u001b[43mkwargs\u001b[49m\u001b[43m)\u001b[49m\n\u001b[1;32m    180\u001b[0m \u001b[38;5;28;01melse\u001b[39;00m:\n\u001b[1;32m    181\u001b[0m     instance \u001b[38;5;241m=\u001b[39m \u001b[38;5;28mgetattr\u001b[39m(\u001b[38;5;28mself\u001b[39m\u001b[38;5;241m.\u001b[39m__wrapped__, \u001b[38;5;124m\"\u001b[39m\u001b[38;5;124m__self__\u001b[39m\u001b[38;5;124m\"\u001b[39m, \u001b[38;5;28;01mNone\u001b[39;00m)\n",
      "File \u001b[0;32m~/.pyenv/versions/miniconda3-4.7.12/envs/spiking_encoders/lib/python3.9/site-packages/nengo_dl/simulator.py:50\u001b[0m, in \u001b[0;36mwith_self\u001b[0;34m(wrapped, instance, args, kwargs)\u001b[0m\n\u001b[1;32m     48\u001b[0m \u001b[38;5;28;01mtry\u001b[39;00m:\n\u001b[1;32m     49\u001b[0m     \u001b[38;5;28;01mwith\u001b[39;00m tf\u001b[38;5;241m.\u001b[39mdevice(instance\u001b[38;5;241m.\u001b[39mtensor_graph\u001b[38;5;241m.\u001b[39mdevice):\n\u001b[0;32m---> 50\u001b[0m         output \u001b[38;5;241m=\u001b[39m \u001b[43mwrapped\u001b[49m\u001b[43m(\u001b[49m\u001b[38;5;241;43m*\u001b[39;49m\u001b[43margs\u001b[49m\u001b[43m,\u001b[49m\u001b[43m \u001b[49m\u001b[38;5;241;43m*\u001b[39;49m\u001b[38;5;241;43m*\u001b[39;49m\u001b[43mkwargs\u001b[49m\u001b[43m)\u001b[49m\n\u001b[1;32m     51\u001b[0m \u001b[38;5;28;01mfinally\u001b[39;00m:\n\u001b[1;32m     52\u001b[0m     tf\u001b[38;5;241m.\u001b[39mkeras\u001b[38;5;241m.\u001b[39mbackend\u001b[38;5;241m.\u001b[39mset_floatx(keras_dtype)\n",
      "File \u001b[0;32m~/.pyenv/versions/miniconda3-4.7.12/envs/spiking_encoders/lib/python3.9/site-packages/nengo_dl/simulator.py:1043\u001b[0m, in \u001b[0;36mSimulator._call_keras\u001b[0;34m(self, func_type, x, y, n_steps, stateful, **kwargs)\u001b[0m\n\u001b[1;32m   1040\u001b[0m \u001b[38;5;28;01melse\u001b[39;00m:\n\u001b[1;32m   1041\u001b[0m     func_args \u001b[38;5;241m=\u001b[39m \u001b[38;5;28mdict\u001b[39m(x\u001b[38;5;241m=\u001b[39mx, y\u001b[38;5;241m=\u001b[39my, \u001b[38;5;241m*\u001b[39m\u001b[38;5;241m*\u001b[39mkwargs)\n\u001b[0;32m-> 1043\u001b[0m outputs \u001b[38;5;241m=\u001b[39m \u001b[38;5;28;43mgetattr\u001b[39;49m\u001b[43m(\u001b[49m\u001b[38;5;28;43mself\u001b[39;49m\u001b[38;5;241;43m.\u001b[39;49m\u001b[43mkeras_model\u001b[49m\u001b[43m,\u001b[49m\u001b[43m \u001b[49m\u001b[43mfunc_type\u001b[49m\u001b[43m)\u001b[49m\u001b[43m(\u001b[49m\u001b[38;5;241;43m*\u001b[39;49m\u001b[38;5;241;43m*\u001b[39;49m\u001b[43mfunc_args\u001b[49m\u001b[43m)\u001b[49m\n\u001b[1;32m   1045\u001b[0m \u001b[38;5;66;03m# update n_steps/time\u001b[39;00m\n\u001b[1;32m   1046\u001b[0m \u001b[38;5;28;01mif\u001b[39;00m stateful:\n",
      "File \u001b[0;32m~/.pyenv/versions/miniconda3-4.7.12/envs/spiking_encoders/lib/python3.9/site-packages/keras/utils/traceback_utils.py:67\u001b[0m, in \u001b[0;36mfilter_traceback.<locals>.error_handler\u001b[0;34m(*args, **kwargs)\u001b[0m\n\u001b[1;32m     65\u001b[0m \u001b[38;5;28;01mexcept\u001b[39;00m \u001b[38;5;167;01mException\u001b[39;00m \u001b[38;5;28;01mas\u001b[39;00m e:  \u001b[38;5;66;03m# pylint: disable=broad-except\u001b[39;00m\n\u001b[1;32m     66\u001b[0m   filtered_tb \u001b[38;5;241m=\u001b[39m _process_traceback_frames(e\u001b[38;5;241m.\u001b[39m__traceback__)\n\u001b[0;32m---> 67\u001b[0m   \u001b[38;5;28;01mraise\u001b[39;00m e\u001b[38;5;241m.\u001b[39mwith_traceback(filtered_tb) \u001b[38;5;28;01mfrom\u001b[39;00m \u001b[38;5;28mNone\u001b[39m\n\u001b[1;32m     68\u001b[0m \u001b[38;5;28;01mfinally\u001b[39;00m:\n\u001b[1;32m     69\u001b[0m   \u001b[38;5;28;01mdel\u001b[39;00m filtered_tb\n",
      "File \u001b[0;32m~/.pyenv/versions/miniconda3-4.7.12/envs/spiking_encoders/lib/python3.9/site-packages/tensorflow/python/eager/execute.py:58\u001b[0m, in \u001b[0;36mquick_execute\u001b[0;34m(op_name, num_outputs, inputs, attrs, ctx, name)\u001b[0m\n\u001b[1;32m     56\u001b[0m \u001b[38;5;28;01mtry\u001b[39;00m:\n\u001b[1;32m     57\u001b[0m   ctx\u001b[38;5;241m.\u001b[39mensure_initialized()\n\u001b[0;32m---> 58\u001b[0m   tensors \u001b[38;5;241m=\u001b[39m pywrap_tfe\u001b[38;5;241m.\u001b[39mTFE_Py_Execute(ctx\u001b[38;5;241m.\u001b[39m_handle, device_name, op_name,\n\u001b[1;32m     59\u001b[0m                                       inputs, attrs, num_outputs)\n\u001b[1;32m     60\u001b[0m \u001b[38;5;28;01mexcept\u001b[39;00m core\u001b[38;5;241m.\u001b[39m_NotOkStatusException \u001b[38;5;28;01mas\u001b[39;00m e:\n\u001b[1;32m     61\u001b[0m   \u001b[38;5;28;01mif\u001b[39;00m name \u001b[38;5;129;01mis\u001b[39;00m \u001b[38;5;129;01mnot\u001b[39;00m \u001b[38;5;28;01mNone\u001b[39;00m:\n",
      "\u001b[0;31mInternalError\u001b[0m: 2 root error(s) found.\n  (0) INTERNAL:  Attempting to perform BLAS operation using StreamExecutor without BLAS support\n\t [[node keras_model/TensorGraph/while/iteration_0/DotIncBuilder/MatMul\n (defined at /home/hutch/.pyenv/versions/miniconda3-4.7.12/envs/spiking_encoders/lib/python3.9/site-packages/nengo_dl/op_builders.py:348)\n]]\n\t [[keras_model/TensorGraph/while/exit/_130/_8]]\n  (1) INTERNAL:  Attempting to perform BLAS operation using StreamExecutor without BLAS support\n\t [[node keras_model/TensorGraph/while/iteration_0/DotIncBuilder/MatMul\n (defined at /home/hutch/.pyenv/versions/miniconda3-4.7.12/envs/spiking_encoders/lib/python3.9/site-packages/nengo_dl/op_builders.py:348)\n]]\n0 successful operations.\n0 derived errors ignored. [Op:__inference_predict_function_906]\n\nErrors may have originated from an input operation.\nInput Source operations connected to node keras_model/TensorGraph/while/iteration_0/DotIncBuilder/MatMul:\nIn[0] keras_model/TensorGraph/while/iteration_0/DotIncBuilder/Reshape (defined at /home/hutch/.pyenv/versions/miniconda3-4.7.12/envs/spiking_encoders/lib/python3.9/site-packages/nengo_dl/signals.py:420)\t\nIn[1] keras_model/TensorGraph/while/iteration_0/DotIncBuilder/transpose:\n\nOperation defined at: (most recent call last)\n>>>   File \"/home/hutch/.pyenv/versions/miniconda3-4.7.12/envs/spiking_encoders/lib/python3.9/runpy.py\", line 197, in _run_module_as_main\n>>>     return _run_code(code, main_globals, None,\n>>> \n>>>   File \"/home/hutch/.pyenv/versions/miniconda3-4.7.12/envs/spiking_encoders/lib/python3.9/runpy.py\", line 87, in _run_code\n>>>     exec(code, run_globals)\n>>> \n>>>   File \"/home/hutch/.pyenv/versions/miniconda3-4.7.12/envs/spiking_encoders/lib/python3.9/site-packages/ipykernel_launcher.py\", line 16, in <module>\n>>>     app.launch_new_instance()\n>>> \n>>>   File \"/home/hutch/.pyenv/versions/miniconda3-4.7.12/envs/spiking_encoders/lib/python3.9/site-packages/traitlets/config/application.py\", line 846, in launch_instance\n>>>     app.start()\n>>> \n>>>   File \"/home/hutch/.pyenv/versions/miniconda3-4.7.12/envs/spiking_encoders/lib/python3.9/site-packages/ipykernel/kernelapp.py\", line 677, in start\n>>>     self.io_loop.start()\n>>> \n>>>   File \"/home/hutch/.pyenv/versions/miniconda3-4.7.12/envs/spiking_encoders/lib/python3.9/site-packages/tornado/platform/asyncio.py\", line 199, in start\n>>>     self.asyncio_loop.run_forever()\n>>> \n>>>   File \"/home/hutch/.pyenv/versions/miniconda3-4.7.12/envs/spiking_encoders/lib/python3.9/asyncio/base_events.py\", line 596, in run_forever\n>>>     self._run_once()\n>>> \n>>>   File \"/home/hutch/.pyenv/versions/miniconda3-4.7.12/envs/spiking_encoders/lib/python3.9/asyncio/base_events.py\", line 1890, in _run_once\n>>>     handle._run()\n>>> \n>>>   File \"/home/hutch/.pyenv/versions/miniconda3-4.7.12/envs/spiking_encoders/lib/python3.9/asyncio/events.py\", line 80, in _run\n>>>     self._context.run(self._callback, *self._args)\n>>> \n>>>   File \"/home/hutch/.pyenv/versions/miniconda3-4.7.12/envs/spiking_encoders/lib/python3.9/site-packages/ipykernel/kernelbase.py\", line 471, in dispatch_queue\n>>>     await self.process_one()\n>>> \n>>>   File \"/home/hutch/.pyenv/versions/miniconda3-4.7.12/envs/spiking_encoders/lib/python3.9/site-packages/ipykernel/kernelbase.py\", line 460, in process_one\n>>>     await dispatch(*args)\n>>> \n>>>   File \"/home/hutch/.pyenv/versions/miniconda3-4.7.12/envs/spiking_encoders/lib/python3.9/site-packages/ipykernel/kernelbase.py\", line 367, in dispatch_shell\n>>>     await result\n>>> \n>>>   File \"/home/hutch/.pyenv/versions/miniconda3-4.7.12/envs/spiking_encoders/lib/python3.9/site-packages/ipykernel/kernelbase.py\", line 662, in execute_request\n>>>     reply_content = await reply_content\n>>> \n>>>   File \"/home/hutch/.pyenv/versions/miniconda3-4.7.12/envs/spiking_encoders/lib/python3.9/site-packages/ipykernel/ipkernel.py\", line 360, in do_execute\n>>>     res = shell.run_cell(code, store_history=store_history, silent=silent)\n>>> \n>>>   File \"/home/hutch/.pyenv/versions/miniconda3-4.7.12/envs/spiking_encoders/lib/python3.9/site-packages/ipykernel/zmqshell.py\", line 532, in run_cell\n>>>     return super().run_cell(*args, **kwargs)\n>>> \n>>>   File \"/home/hutch/.pyenv/versions/miniconda3-4.7.12/envs/spiking_encoders/lib/python3.9/site-packages/IPython/core/interactiveshell.py\", line 2854, in run_cell\n>>>     result = self._run_cell(\n>>> \n>>>   File \"/home/hutch/.pyenv/versions/miniconda3-4.7.12/envs/spiking_encoders/lib/python3.9/site-packages/IPython/core/interactiveshell.py\", line 2900, in _run_cell\n>>>     return runner(coro)\n>>> \n>>>   File \"/home/hutch/.pyenv/versions/miniconda3-4.7.12/envs/spiking_encoders/lib/python3.9/site-packages/IPython/core/async_helpers.py\", line 129, in _pseudo_sync_runner\n>>>     coro.send(None)\n>>> \n>>>   File \"/home/hutch/.pyenv/versions/miniconda3-4.7.12/envs/spiking_encoders/lib/python3.9/site-packages/IPython/core/interactiveshell.py\", line 3098, in run_cell_async\n>>>     has_raised = await self.run_ast_nodes(code_ast.body, cell_name,\n>>> \n>>>   File \"/home/hutch/.pyenv/versions/miniconda3-4.7.12/envs/spiking_encoders/lib/python3.9/site-packages/IPython/core/interactiveshell.py\", line 3301, in run_ast_nodes\n>>>     if await self.run_code(code, result, async_=asy):\n>>> \n>>>   File \"/home/hutch/.pyenv/versions/miniconda3-4.7.12/envs/spiking_encoders/lib/python3.9/site-packages/IPython/core/interactiveshell.py\", line 3361, in run_code\n>>>     exec(code_obj, self.user_global_ns, self.user_ns)\n>>> \n>>>   File \"/tmp/ipykernel_3914796/3905949139.py\", line 4, in <cell line: 3>\n>>>     out = sim.predict(np.ones((minibatch_size, 1, n_in)))\n>>> \n>>>   File \"/home/hutch/.pyenv/versions/miniconda3-4.7.12/envs/spiking_encoders/lib/python3.9/site-packages/nengo/utils/magic.py\", line 179, in __call__\n>>>     return self.wrapper(self.__wrapped__, self.instance, args, kwargs)\n>>> \n>>>   File \"/home/hutch/.pyenv/versions/miniconda3-4.7.12/envs/spiking_encoders/lib/python3.9/site-packages/nengo_dl/simulator.py\", line 67, in require_open\n>>>     return wrapped(*args, **kwargs)\n>>> \n>>>   File \"/home/hutch/.pyenv/versions/miniconda3-4.7.12/envs/spiking_encoders/lib/python3.9/site-packages/nengo_dl/simulator.py\", line 678, in predict\n>>>     return self._call_keras(\n>>> \n>>>   File \"/home/hutch/.pyenv/versions/miniconda3-4.7.12/envs/spiking_encoders/lib/python3.9/site-packages/nengo/utils/magic.py\", line 179, in __call__\n>>>     return self.wrapper(self.__wrapped__, self.instance, args, kwargs)\n>>> \n>>>   File \"/home/hutch/.pyenv/versions/miniconda3-4.7.12/envs/spiking_encoders/lib/python3.9/site-packages/nengo_dl/simulator.py\", line 50, in with_self\n>>>     output = wrapped(*args, **kwargs)\n>>> \n>>>   File \"/home/hutch/.pyenv/versions/miniconda3-4.7.12/envs/spiking_encoders/lib/python3.9/site-packages/nengo_dl/simulator.py\", line 1043, in _call_keras\n>>>     outputs = getattr(self.keras_model, func_type)(**func_args)\n>>> \n>>>   File \"/home/hutch/.pyenv/versions/miniconda3-4.7.12/envs/spiking_encoders/lib/python3.9/site-packages/keras/utils/traceback_utils.py\", line 64, in error_handler\n>>>     return fn(*args, **kwargs)\n>>> \n>>>   File \"/home/hutch/.pyenv/versions/miniconda3-4.7.12/envs/spiking_encoders/lib/python3.9/site-packages/keras/engine/training.py\", line 1789, in predict\n>>>     tmp_batch_outputs = self.predict_function(iterator)\n>>> \n>>>   File \"/home/hutch/.pyenv/versions/miniconda3-4.7.12/envs/spiking_encoders/lib/python3.9/site-packages/keras/engine/training.py\", line 1621, in predict_function\n>>>     return step_function(self, iterator)\n>>> \n>>>   File \"/home/hutch/.pyenv/versions/miniconda3-4.7.12/envs/spiking_encoders/lib/python3.9/site-packages/keras/engine/training.py\", line 1611, in step_function\n>>>     outputs = model.distribute_strategy.run(run_step, args=(data,))\n>>> \n>>>   File \"/home/hutch/.pyenv/versions/miniconda3-4.7.12/envs/spiking_encoders/lib/python3.9/site-packages/keras/engine/training.py\", line 1604, in run_step\n>>>     outputs = model.predict_step(data)\n>>> \n>>>   File \"/home/hutch/.pyenv/versions/miniconda3-4.7.12/envs/spiking_encoders/lib/python3.9/site-packages/keras/engine/training.py\", line 1572, in predict_step\n>>>     return self(x, training=False)\n>>> \n>>>   File \"/home/hutch/.pyenv/versions/miniconda3-4.7.12/envs/spiking_encoders/lib/python3.9/site-packages/keras/utils/traceback_utils.py\", line 64, in error_handler\n>>>     return fn(*args, **kwargs)\n>>> \n>>>   File \"/home/hutch/.pyenv/versions/miniconda3-4.7.12/envs/spiking_encoders/lib/python3.9/site-packages/keras/engine/base_layer.py\", line 1083, in __call__\n>>>     outputs = call_fn(inputs, *args, **kwargs)\n>>> \n>>>   File \"/home/hutch/.pyenv/versions/miniconda3-4.7.12/envs/spiking_encoders/lib/python3.9/site-packages/keras/utils/traceback_utils.py\", line 92, in error_handler\n>>>     return fn(*args, **kwargs)\n>>> \n>>>   File \"/home/hutch/.pyenv/versions/miniconda3-4.7.12/envs/spiking_encoders/lib/python3.9/site-packages/keras/engine/functional.py\", line 451, in call\n>>>     return self._run_internal_graph(\n>>> \n>>>   File \"/home/hutch/.pyenv/versions/miniconda3-4.7.12/envs/spiking_encoders/lib/python3.9/site-packages/keras/engine/functional.py\", line 589, in _run_internal_graph\n>>>     outputs = node.layer(*args, **kwargs)\n>>> \n>>>   File \"/home/hutch/.pyenv/versions/miniconda3-4.7.12/envs/spiking_encoders/lib/python3.9/site-packages/keras/utils/traceback_utils.py\", line 64, in error_handler\n>>>     return fn(*args, **kwargs)\n>>> \n>>>   File \"/home/hutch/.pyenv/versions/miniconda3-4.7.12/envs/spiking_encoders/lib/python3.9/site-packages/keras/engine/base_layer.py\", line 1083, in __call__\n>>>     outputs = call_fn(inputs, *args, **kwargs)\n>>> \n>>>   File \"/home/hutch/.pyenv/versions/miniconda3-4.7.12/envs/spiking_encoders/lib/python3.9/site-packages/keras/utils/traceback_utils.py\", line 92, in error_handler\n>>>     return fn(*args, **kwargs)\n>>> \n>>>   File \"/home/hutch/.pyenv/versions/miniconda3-4.7.12/envs/spiking_encoders/lib/python3.9/site-packages/nengo_dl/tensor_graph.py\", line 488, in call\n>>>     self._build_loop(sub) if self.use_loop else self._build_no_loop(sub)\n>>> \n>>>   File \"/home/hutch/.pyenv/versions/miniconda3-4.7.12/envs/spiking_encoders/lib/python3.9/site-packages/nengo_dl/tensor_graph.py\", line 638, in _build_loop\n>>>     loop_vars = tf.while_loop(\n>>> \n>>>   File \"/home/hutch/.pyenv/versions/miniconda3-4.7.12/envs/spiking_encoders/lib/python3.9/site-packages/nengo_dl/tensor_graph.py\", line 615, in loop_body\n>>>     loop_i = self._build_inner_loop(loop_i, update_probes, progress)\n>>> \n>>>   File \"/home/hutch/.pyenv/versions/miniconda3-4.7.12/envs/spiking_encoders/lib/python3.9/site-packages/nengo_dl/tensor_graph.py\", line 770, in _build_inner_loop\n>>>     side_effects = self.op_builder.build_step(self.signals, progress)\n>>> \n>>>   File \"/home/hutch/.pyenv/versions/miniconda3-4.7.12/envs/spiking_encoders/lib/python3.9/site-packages/nengo_dl/builder.py\", line 101, in build_step\n>>>     output = self.op_builds[ops].build_step(signals)\n>>> \n>>>   File \"/home/hutch/.pyenv/versions/miniconda3-4.7.12/envs/spiking_encoders/lib/python3.9/site-packages/nengo_dl/op_builders.py\", line 348, in build_step\n>>>     dot = tf.matmul(A, tf.transpose(X, perm=self.perm))\n>>> \n\nInput Source operations connected to node keras_model/TensorGraph/while/iteration_0/DotIncBuilder/MatMul:\nIn[0] keras_model/TensorGraph/while/iteration_0/DotIncBuilder/Reshape (defined at /home/hutch/.pyenv/versions/miniconda3-4.7.12/envs/spiking_encoders/lib/python3.9/site-packages/nengo_dl/signals.py:420)\t\nIn[1] keras_model/TensorGraph/while/iteration_0/DotIncBuilder/transpose:\n\nOperation defined at: (most recent call last)\n>>>   File \"/home/hutch/.pyenv/versions/miniconda3-4.7.12/envs/spiking_encoders/lib/python3.9/runpy.py\", line 197, in _run_module_as_main\n>>>     return _run_code(code, main_globals, None,\n>>> \n>>>   File \"/home/hutch/.pyenv/versions/miniconda3-4.7.12/envs/spiking_encoders/lib/python3.9/runpy.py\", line 87, in _run_code\n>>>     exec(code, run_globals)\n>>> \n>>>   File \"/home/hutch/.pyenv/versions/miniconda3-4.7.12/envs/spiking_encoders/lib/python3.9/site-packages/ipykernel_launcher.py\", line 16, in <module>\n>>>     app.launch_new_instance()\n>>> \n>>>   File \"/home/hutch/.pyenv/versions/miniconda3-4.7.12/envs/spiking_encoders/lib/python3.9/site-packages/traitlets/config/application.py\", line 846, in launch_instance\n>>>     app.start()\n>>> \n>>>   File \"/home/hutch/.pyenv/versions/miniconda3-4.7.12/envs/spiking_encoders/lib/python3.9/site-packages/ipykernel/kernelapp.py\", line 677, in start\n>>>     self.io_loop.start()\n>>> \n>>>   File \"/home/hutch/.pyenv/versions/miniconda3-4.7.12/envs/spiking_encoders/lib/python3.9/site-packages/tornado/platform/asyncio.py\", line 199, in start\n>>>     self.asyncio_loop.run_forever()\n>>> \n>>>   File \"/home/hutch/.pyenv/versions/miniconda3-4.7.12/envs/spiking_encoders/lib/python3.9/asyncio/base_events.py\", line 596, in run_forever\n>>>     self._run_once()\n>>> \n>>>   File \"/home/hutch/.pyenv/versions/miniconda3-4.7.12/envs/spiking_encoders/lib/python3.9/asyncio/base_events.py\", line 1890, in _run_once\n>>>     handle._run()\n>>> \n>>>   File \"/home/hutch/.pyenv/versions/miniconda3-4.7.12/envs/spiking_encoders/lib/python3.9/asyncio/events.py\", line 80, in _run\n>>>     self._context.run(self._callback, *self._args)\n>>> \n>>>   File \"/home/hutch/.pyenv/versions/miniconda3-4.7.12/envs/spiking_encoders/lib/python3.9/site-packages/ipykernel/kernelbase.py\", line 471, in dispatch_queue\n>>>     await self.process_one()\n>>> \n>>>   File \"/home/hutch/.pyenv/versions/miniconda3-4.7.12/envs/spiking_encoders/lib/python3.9/site-packages/ipykernel/kernelbase.py\", line 460, in process_one\n>>>     await dispatch(*args)\n>>> \n>>>   File \"/home/hutch/.pyenv/versions/miniconda3-4.7.12/envs/spiking_encoders/lib/python3.9/site-packages/ipykernel/kernelbase.py\", line 367, in dispatch_shell\n>>>     await result\n>>> \n>>>   File \"/home/hutch/.pyenv/versions/miniconda3-4.7.12/envs/spiking_encoders/lib/python3.9/site-packages/ipykernel/kernelbase.py\", line 662, in execute_request\n>>>     reply_content = await reply_content\n>>> \n>>>   File \"/home/hutch/.pyenv/versions/miniconda3-4.7.12/envs/spiking_encoders/lib/python3.9/site-packages/ipykernel/ipkernel.py\", line 360, in do_execute\n>>>     res = shell.run_cell(code, store_history=store_history, silent=silent)\n>>> \n>>>   File \"/home/hutch/.pyenv/versions/miniconda3-4.7.12/envs/spiking_encoders/lib/python3.9/site-packages/ipykernel/zmqshell.py\", line 532, in run_cell\n>>>     return super().run_cell(*args, **kwargs)\n>>> \n>>>   File \"/home/hutch/.pyenv/versions/miniconda3-4.7.12/envs/spiking_encoders/lib/python3.9/site-packages/IPython/core/interactiveshell.py\", line 2854, in run_cell\n>>>     result = self._run_cell(\n>>> \n>>>   File \"/home/hutch/.pyenv/versions/miniconda3-4.7.12/envs/spiking_encoders/lib/python3.9/site-packages/IPython/core/interactiveshell.py\", line 2900, in _run_cell\n>>>     return runner(coro)\n>>> \n>>>   File \"/home/hutch/.pyenv/versions/miniconda3-4.7.12/envs/spiking_encoders/lib/python3.9/site-packages/IPython/core/async_helpers.py\", line 129, in _pseudo_sync_runner\n>>>     coro.send(None)\n>>> \n>>>   File \"/home/hutch/.pyenv/versions/miniconda3-4.7.12/envs/spiking_encoders/lib/python3.9/site-packages/IPython/core/interactiveshell.py\", line 3098, in run_cell_async\n>>>     has_raised = await self.run_ast_nodes(code_ast.body, cell_name,\n>>> \n>>>   File \"/home/hutch/.pyenv/versions/miniconda3-4.7.12/envs/spiking_encoders/lib/python3.9/site-packages/IPython/core/interactiveshell.py\", line 3301, in run_ast_nodes\n>>>     if await self.run_code(code, result, async_=asy):\n>>> \n>>>   File \"/home/hutch/.pyenv/versions/miniconda3-4.7.12/envs/spiking_encoders/lib/python3.9/site-packages/IPython/core/interactiveshell.py\", line 3361, in run_code\n>>>     exec(code_obj, self.user_global_ns, self.user_ns)\n>>> \n>>>   File \"/tmp/ipykernel_3914796/3905949139.py\", line 4, in <cell line: 3>\n>>>     out = sim.predict(np.ones((minibatch_size, 1, n_in)))\n>>> \n>>>   File \"/home/hutch/.pyenv/versions/miniconda3-4.7.12/envs/spiking_encoders/lib/python3.9/site-packages/nengo/utils/magic.py\", line 179, in __call__\n>>>     return self.wrapper(self.__wrapped__, self.instance, args, kwargs)\n>>> \n>>>   File \"/home/hutch/.pyenv/versions/miniconda3-4.7.12/envs/spiking_encoders/lib/python3.9/site-packages/nengo_dl/simulator.py\", line 67, in require_open\n>>>     return wrapped(*args, **kwargs)\n>>> \n>>>   File \"/home/hutch/.pyenv/versions/miniconda3-4.7.12/envs/spiking_encoders/lib/python3.9/site-packages/nengo_dl/simulator.py\", line 678, in predict\n>>>     return self._call_keras(\n>>> \n>>>   File \"/home/hutch/.pyenv/versions/miniconda3-4.7.12/envs/spiking_encoders/lib/python3.9/site-packages/nengo/utils/magic.py\", line 179, in __call__\n>>>     return self.wrapper(self.__wrapped__, self.instance, args, kwargs)\n>>> \n>>>   File \"/home/hutch/.pyenv/versions/miniconda3-4.7.12/envs/spiking_encoders/lib/python3.9/site-packages/nengo_dl/simulator.py\", line 50, in with_self\n>>>     output = wrapped(*args, **kwargs)\n>>> \n>>>   File \"/home/hutch/.pyenv/versions/miniconda3-4.7.12/envs/spiking_encoders/lib/python3.9/site-packages/nengo_dl/simulator.py\", line 1043, in _call_keras\n>>>     outputs = getattr(self.keras_model, func_type)(**func_args)\n>>> \n>>>   File \"/home/hutch/.pyenv/versions/miniconda3-4.7.12/envs/spiking_encoders/lib/python3.9/site-packages/keras/utils/traceback_utils.py\", line 64, in error_handler\n>>>     return fn(*args, **kwargs)\n>>> \n>>>   File \"/home/hutch/.pyenv/versions/miniconda3-4.7.12/envs/spiking_encoders/lib/python3.9/site-packages/keras/engine/training.py\", line 1789, in predict\n>>>     tmp_batch_outputs = self.predict_function(iterator)\n>>> \n>>>   File \"/home/hutch/.pyenv/versions/miniconda3-4.7.12/envs/spiking_encoders/lib/python3.9/site-packages/keras/engine/training.py\", line 1621, in predict_function\n>>>     return step_function(self, iterator)\n>>> \n>>>   File \"/home/hutch/.pyenv/versions/miniconda3-4.7.12/envs/spiking_encoders/lib/python3.9/site-packages/keras/engine/training.py\", line 1611, in step_function\n>>>     outputs = model.distribute_strategy.run(run_step, args=(data,))\n>>> \n>>>   File \"/home/hutch/.pyenv/versions/miniconda3-4.7.12/envs/spiking_encoders/lib/python3.9/site-packages/keras/engine/training.py\", line 1604, in run_step\n>>>     outputs = model.predict_step(data)\n>>> \n>>>   File \"/home/hutch/.pyenv/versions/miniconda3-4.7.12/envs/spiking_encoders/lib/python3.9/site-packages/keras/engine/training.py\", line 1572, in predict_step\n>>>     return self(x, training=False)\n>>> \n>>>   File \"/home/hutch/.pyenv/versions/miniconda3-4.7.12/envs/spiking_encoders/lib/python3.9/site-packages/keras/utils/traceback_utils.py\", line 64, in error_handler\n>>>     return fn(*args, **kwargs)\n>>> \n>>>   File \"/home/hutch/.pyenv/versions/miniconda3-4.7.12/envs/spiking_encoders/lib/python3.9/site-packages/keras/engine/base_layer.py\", line 1083, in __call__\n>>>     outputs = call_fn(inputs, *args, **kwargs)\n>>> \n>>>   File \"/home/hutch/.pyenv/versions/miniconda3-4.7.12/envs/spiking_encoders/lib/python3.9/site-packages/keras/utils/traceback_utils.py\", line 92, in error_handler\n>>>     return fn(*args, **kwargs)\n>>> \n>>>   File \"/home/hutch/.pyenv/versions/miniconda3-4.7.12/envs/spiking_encoders/lib/python3.9/site-packages/keras/engine/functional.py\", line 451, in call\n>>>     return self._run_internal_graph(\n>>> \n>>>   File \"/home/hutch/.pyenv/versions/miniconda3-4.7.12/envs/spiking_encoders/lib/python3.9/site-packages/keras/engine/functional.py\", line 589, in _run_internal_graph\n>>>     outputs = node.layer(*args, **kwargs)\n>>> \n>>>   File \"/home/hutch/.pyenv/versions/miniconda3-4.7.12/envs/spiking_encoders/lib/python3.9/site-packages/keras/utils/traceback_utils.py\", line 64, in error_handler\n>>>     return fn(*args, **kwargs)\n>>> \n>>>   File \"/home/hutch/.pyenv/versions/miniconda3-4.7.12/envs/spiking_encoders/lib/python3.9/site-packages/keras/engine/base_layer.py\", line 1083, in __call__\n>>>     outputs = call_fn(inputs, *args, **kwargs)\n>>> \n>>>   File \"/home/hutch/.pyenv/versions/miniconda3-4.7.12/envs/spiking_encoders/lib/python3.9/site-packages/keras/utils/traceback_utils.py\", line 92, in error_handler\n>>>     return fn(*args, **kwargs)\n>>> \n>>>   File \"/home/hutch/.pyenv/versions/miniconda3-4.7.12/envs/spiking_encoders/lib/python3.9/site-packages/nengo_dl/tensor_graph.py\", line 488, in call\n>>>     self._build_loop(sub) if self.use_loop else self._build_no_loop(sub)\n>>> \n>>>   File \"/home/hutch/.pyenv/versions/miniconda3-4.7.12/envs/spiking_encoders/lib/python3.9/site-packages/nengo_dl/tensor_graph.py\", line 638, in _build_loop\n>>>     loop_vars = tf.while_loop(\n>>> \n>>>   File \"/home/hutch/.pyenv/versions/miniconda3-4.7.12/envs/spiking_encoders/lib/python3.9/site-packages/nengo_dl/tensor_graph.py\", line 615, in loop_body\n>>>     loop_i = self._build_inner_loop(loop_i, update_probes, progress)\n>>> \n>>>   File \"/home/hutch/.pyenv/versions/miniconda3-4.7.12/envs/spiking_encoders/lib/python3.9/site-packages/nengo_dl/tensor_graph.py\", line 770, in _build_inner_loop\n>>>     side_effects = self.op_builder.build_step(self.signals, progress)\n>>> \n>>>   File \"/home/hutch/.pyenv/versions/miniconda3-4.7.12/envs/spiking_encoders/lib/python3.9/site-packages/nengo_dl/builder.py\", line 101, in build_step\n>>>     output = self.op_builds[ops].build_step(signals)\n>>> \n>>>   File \"/home/hutch/.pyenv/versions/miniconda3-4.7.12/envs/spiking_encoders/lib/python3.9/site-packages/nengo_dl/op_builders.py\", line 348, in build_step\n>>>     dot = tf.matmul(A, tf.transpose(X, perm=self.perm))\n>>> \n\nFunction call stack:\npredict_function -> keras_model_TensorGraph_while_body_580 -> predict_function -> keras_model_TensorGraph_while_body_580\n"
     ]
    }
   ],
   "source": [
    "minibatch_size = 5\n",
    "\n",
    "with nengo_dl.Simulator(network=auto_net, minibatch_size=minibatch_size) as sim:\n",
    "    out = sim.predict(np.ones((minibatch_size, 1, n_in)))\n",
    "    print(out[p_c].shape,out[p_b].shape)"
   ]
  },
  {
   "cell_type": "code",
   "execution_count": 8,
   "id": "487580af-ae7d-421e-b6cd-7ae384edffe9",
   "metadata": {},
   "outputs": [
    {
     "name": "stdout",
     "output_type": "stream",
     "text": [
      "Build finished in 0:00:00                                                      \n",
      "Optimization finished in 0:00:00                                               \n",
      "Construction finished in 0:00:00                                               \n"
     ]
    },
    {
     "name": "stderr",
     "output_type": "stream",
     "text": [
      "/home/hutch/.pyenv/versions/miniconda3-4.7.12/envs/spiking_encoders/lib/python3.9/site-packages/nengo_dl/simulator.py:1765: UserWarning: Number of elements (1) in ['ndarray'] does not match number of Probes (2); consider using an explicit input dictionary in this case, so that the assignment of data to objects is unambiguous.\n",
      "  warnings.warn(\n"
     ]
    },
    {
     "name": "stdout",
     "output_type": "stream",
     "text": [
      "Epoch 1/5\n",
      "12/12 [==============================] - 122s 10s/step - loss: 0.6252 - probe_loss: 0.6252 - probe_1_loss: 0.0000e+00\n",
      "Epoch 2/5\n",
      "12/12 [==============================] - 119s 10s/step - loss: 0.0054 - probe_loss: 0.0054 - probe_1_loss: 0.0000e+00\n",
      "Epoch 3/5\n",
      "12/12 [==============================] - 118s 10s/step - loss: 6.3237e-04 - probe_loss: 6.3237e-04 - probe_1_loss: 0.0000e+00\n",
      "Epoch 4/5\n",
      "12/12 [==============================] - 117s 10s/step - loss: 6.2247e-04 - probe_loss: 6.2247e-04 - probe_1_loss: 0.0000e+00\n",
      "Epoch 5/5\n",
      "12/12 [==============================] - 118s 10s/step - loss: 6.0812e-04 - probe_loss: 6.0812e-04 - probe_1_loss: 0.0000e+00\n",
      "3/3 [==============================] - 12s 4s/step - loss: 0.2316 - probe_loss: 0.2316 - probe_1_loss: 0.0000e+00\n"
     ]
    }
   ],
   "source": [
    "with nengo_dl.Simulator(auto_net, minibatch_size=minibatch_size) as sim:\n",
    "    sim.compile(optimizer=tf.optimizers.RMSprop(1e-3), loss=tf.losses.mse)\n",
    "\n",
    "    # run training loop\n",
    "    sim.fit(train_data, train_data, epochs=5)\n",
    "\n",
    "    # evaluate performance on test set\n",
    "    sim.evaluate(test_data, test_data)\n",
    "    \n",
    "    # Save the model\n",
    "    sim.save_params(\"./LIF_ncars\")\n"
   ]
  },
  {
   "cell_type": "code",
   "execution_count": 13,
   "id": "58a71ff0-7070-47d7-ad1c-4284ea64626d",
   "metadata": {},
   "outputs": [
    {
     "name": "stdout",
     "output_type": "stream",
     "text": [
      "Build finished in 0:00:00                                                      \n",
      "Optimization finished in 0:00:00                                               \n",
      "Construction finished in 0:00:00                                               \n",
      "Constructing graph: build stage finished in 0:00:00                            \r"
     ]
    },
    {
     "data": {
      "image/png": "[encoded data removed]",
      "text/plain": [
       "<Figure size 432x288 with 1 Axes>"
      ]
     },
     "metadata": {
      "needs_background": "light"
     },
     "output_type": "display_data"
    },
    {
     "data": {
      "image/png": "[encoded data removed]",
      "text/plain": [
       "<Figure size 432x288 with 1 Axes>"
      ]
     },
     "metadata": {
      "needs_background": "light"
     },
     "output_type": "display_data"
    },
    {
     "name": "stdout",
     "output_type": "stream",
     "text": [
      "Mean of the hidden space rep: 0.0003939083\n"
     ]
    }
   ],
   "source": [
    "with nengo_dl.Simulator(auto_net, minibatch_size=minibatch_size) as sim:\n",
    "    #sim.compile(optimizer=tf.optimizers.RMSprop(1e-3), loss=tf.losses.mse)\n",
    "\n",
    "    # run training loop\n",
    "    #sim.fit(train_data, train_data, epochs=n_epochs)\n",
    "\n",
    "    # evaluate performance on test set\n",
    "    #sim.evaluate(test_data, test_data)\n",
    "\n",
    "    # Load the saved model\n",
    "    sim.load_params(\"./LIF_ncars\")\n",
    "\n",
    "    # display example output\n",
    "    output = sim.predict(test_data[:minibatch_size])\n",
    "    plt.figure()\n",
    "    plt.imshow(output[p_c][0,0].reshape((30, 30)))\n",
    "    plt.show()\n",
    "\n",
    "    # display the latent space representation\n",
    "    output = sim.predict(test_data[:minibatch_size])\n",
    "    plt.figure()\n",
    "    plt.imshow(output[p_b][0,0].reshape((8, 8)))\n",
    "    plt.show()\n",
    "\n",
    "    hidden_rep = output[p_b][0]\n",
    "    norm = np.linalg.norm(hidden_rep)\n",
    "    hidden_rep = hidden_rep/norm\n",
    "    print('Mean of the hidden space rep:', hidden_rep.mean())"
   ]
  },
  {
   "cell_type": "code",
   "execution_count": null,
   "id": "56949ce6-de0a-48d1-8016-868a2514394e",
   "metadata": {},
   "outputs": [],
   "source": [
    "with nengo_dl.Simulator(net, minibatch_size=minibatch_size) as sim:\n",
    "    #sim.compile(optimizer=tf.optimizers.RMSprop(1e-3), loss=tf.losses.mse)\n",
    "\n",
    "    # run training loopq\n",
    "    #sim.fit(train_data, train_data, epochs=n_epochs)\n",
    "\n",
    "    # evaluate performance on test set\n",
    "    #sim.evaluate(test_data, test_data)\n",
    "\n",
    "    # Load the saved model\n",
    "    sim.load_params(\"./LMU_ncars\")\n",
    "\n",
    "    # display example output\n",
    "    output = sim.predict(test_data[:minibatch_size])\n",
    "    plt.figure()\n",
    "    plt.imshow(np.mean(output[p_c][1],axis=0).reshape((30, 30)))\n",
    "    plt.show()\n",
    "\n",
    "    # display the latent space representation\n",
    "    output = sim.predict(test_data[:minibatch_size])\n",
    "    plt.figure()\n",
    "    plt.figure()\n",
    "    plt.imshow(np.mean(output[p_b][1],axis=0).reshape((8, 8)))\n",
    "    plt.show()\n",
    "    \n",
    "    plt.figure()\n",
    "    plt.imshow(np.mean(test_data[1],axis=0).reshape(30,30))\n",
    "\n",
    "    hidden_rep = output[p_b][0]\n",
    "    norm = np.linalg.norm(hidden_rep)\n",
    "    hidden_rep = hidden_rep/norm\n",
    "    print('Mean of the hidden space rep:', hidden_rep.mean())"
   ]
  },
  {
   "cell_type": "code",
   "execution_count": null,
   "id": "0ac4ca6f-48f3-4e92-bbf6-f7f812fcf7b0",
   "metadata": {},
   "outputs": [],
   "source": []
  }
 ],
 "metadata": {
  "kernelspec": {
   "display_name": "Python 3 (ipykernel)",
   "language": "python",
   "name": "python3"
  },
  "language_info": {
   "codemirror_mode": {
    "name": "ipython",
    "version": 3
   },
   "file_extension": ".py",
   "mimetype": "text/x-python",
   "name": "python",
   "nbconvert_exporter": "python",
   "pygments_lexer": "ipython3",
   "version": "3.9.10"
  }
 },
 "nbformat": 4,
 "nbformat_minor": 5
}
