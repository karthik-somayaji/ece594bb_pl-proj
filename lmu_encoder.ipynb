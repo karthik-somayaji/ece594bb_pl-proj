{
 "cells": [
  {
   "cell_type": "code",
   "execution_count": 1,
   "id": "29b6bcce-a49b-4e6a-a150-bf2ce0636ffd",
   "metadata": {},
   "outputs": [],
   "source": [
    "%matplotlib inline\n",
    "\n",
    "from urllib.request import urlretrieve\n",
    "\n",
    "import matplotlib.pyplot as plt\n",
    "import nengo\n",
    "from nengo import spa\n",
    "import numpy as np\n",
    "import tensorflow as tf\n",
    "\n",
    "import nengo_dl\n",
    "from nengo.utils.filter_design import cont2discrete"
   ]
  },
  {
   "cell_type": "code",
   "execution_count": 2,
   "id": "c03e17cd-e748-4f7d-810b-e5c0b20cb01a",
   "metadata": {},
   "outputs": [],
   "source": [
    "from prophesee.io.psee_loader import PSEELoader\n",
    "\n",
    "import pathlib\n",
    "from glob import glob"
   ]
  },
  {
   "cell_type": "code",
   "execution_count": 3,
   "id": "fc8cda27-09a1-4c4d-acc3-bbc9b126e32d",
   "metadata": {},
   "outputs": [],
   "source": [
    "delta_t = 10000\n",
    "n = 75\n",
    "skip = 100"
   ]
  },
  {
   "cell_type": "code",
   "execution_count": 4,
   "id": "751e457b-7b36-47b2-87fb-baf516986cdb",
   "metadata": {},
   "outputs": [],
   "source": [
    "vids = map(PSEELoader, glob(\"Prophesee_Dataset_n_cars/n-cars_train/cars/*_td.dat\"))\n",
    "# height, width = vid.get_size()\n",
    "height, width = 120, 120\n",
    "# vid.seek_time(skip)\n",
    "event_seqs = [next(vids).load_delta_t(delta_t) for _ in range(n)]\n",
    "# N = len(event_seqs)"
   ]
  },
  {
   "cell_type": "code",
   "execution_count": 24,
   "id": "303b9461-c7c1-4a83-8591-f1ae8568be6a",
   "metadata": {},
   "outputs": [],
   "source": [
    "dat = np.zeros((n, delta_t, 29, 29),dtype=np.int8)\n",
    "for i,block in enumerate(event_seqs):\n",
    "    for ev in block:\n",
    "        dat[i,ev[0],ev[1]//4,ev[2]//4] = ev[3]\n",
    "# for ev in events:\n",
    "#     dat[ev[0],ev[1],ev[2]] = ev[3]\n",
    "\n",
    "# dat = decimate(dat,4,axis=2)\n",
    "# dat = decimate(dat,4,axis=3)\n",
    "\n",
    "train_data = dat[0:60,:,:,:]\n",
    "test_data  = dat[60:75,:,:,:]\n",
    "\n",
    "# train_data = tf.data.Dataset.from_tensor_slices(tf.sparse.from_dense(train_data.reshape((train_data.shape[0], train_data.shape[1], -1))))\n",
    "# test_data = tf.data.Dataset.from_tensor_slices(tf.sparse.from_dense(test_data.reshape((test_data.shape[0], test_data.shape[1], -1))))\n",
    "\n",
    "train_data = train_data.reshape((train_data.shape[0], train_data.shape[1], -1))\n",
    "test_data = test_data.reshape((test_data.shape[0], test_data.shape[1], -1))\n",
    "\n",
    "n_in = train_data.shape[-1]"
   ]
  },
  {
   "cell_type": "code",
   "execution_count": 6,
   "id": "4471885a-bce7-4cb4-a029-9d1a7aa2d528",
   "metadata": {},
   "outputs": [],
   "source": [
    "class LMUCell(nengo.Network):\n",
    "    def __init__(self, units, order, theta, input_d, **kwargs):\n",
    "        super().__init__(**kwargs)\n",
    "\n",
    "        # compute the A and B matrices according to the LMU's mathematical derivation\n",
    "        # (see the paper for details)\n",
    "        Q = np.arange(order, dtype=np.float64)\n",
    "        R = (2 * Q + 1)[:, None] / theta\n",
    "        j, i = np.meshgrid(Q, Q)\n",
    "\n",
    "        A = np.where(i < j, -1, (-1.0) ** (i - j + 1)) * R\n",
    "        B = (-1.0) ** Q[:, None] * R\n",
    "        C = np.ones((1, order))\n",
    "        D = np.zeros((1,))\n",
    "\n",
    "        A, B, _, _, _ = cont2discrete((A, B, C, D), dt=1.0, method=\"zoh\")\n",
    "\n",
    "        with self:\n",
    "            nengo_dl.configure_settings(trainable=None)\n",
    "\n",
    "            # create objects corresponding to the x/u/m/h variables in the above diagram\n",
    "            self.x = nengo.Node(size_in=input_d)\n",
    "            self.u = nengo.Node(size_in=1)\n",
    "            self.m = nengo.Node(size_in=order)\n",
    "            self.h = nengo.Ensemble(units, 1, neuron_type=nengo.PoissonSpiking(nengo.Tanh()))\n",
    "\n",
    "            # compute u_t from the above diagram. we have removed e_h and e_m as they\n",
    "            # are not needed in this task.\n",
    "            nengo.Connection(\n",
    "                self.x, self.u, transform=np.ones((1, input_d)), synapse=None\n",
    "            )\n",
    "\n",
    "            # compute m_t\n",
    "            # in this implementation we'll make A and B non-trainable, but they\n",
    "            # could also be optimized in the same way as the other parameters.\n",
    "            # note that setting synapse=0 (versus synapse=None) adds a one-timestep\n",
    "            # delay, so we can think of any connections with synapse=0 as representing\n",
    "            # value_{t-1}.\n",
    "            conn_A = nengo.Connection(self.m, self.m, transform=A, synapse=0)\n",
    "            self.config[conn_A].trainable = False\n",
    "            conn_B = nengo.Connection(self.u, self.m, transform=B, synapse=None)\n",
    "            self.config[conn_B].trainable = False\n",
    "\n",
    "            # compute h_t\n",
    "            nengo.Connection(\n",
    "                self.x, self.h, transform=nengo_dl.dists.Glorot(), synapse=None\n",
    "            )\n",
    "            nengo.Connection(\n",
    "                self.h, self.h, transform=nengo_dl.dists.Glorot(), synapse=0\n",
    "            )\n",
    "            nengo.Connection(\n",
    "                self.m,\n",
    "                self.h,\n",
    "                transform=nengo_dl.dists.Glorot(),\n",
    "                synapse=None,\n",
    "            )"
   ]
  },
  {
   "cell_type": "code",
   "execution_count": 18,
   "id": "918fbfea-27f1-483e-b554-536812f5fbff",
   "metadata": {},
   "outputs": [],
   "source": [
    "with nengo.Network(seed=0) as net:\n",
    "    neuron_type = nengo.LIF(amplitude=0.01)\n",
    "    # remove some unnecessary features to speed up the training\n",
    "    nengo_dl.configure_settings(\n",
    "        trainable=None,\n",
    "        stateful=False,\n",
    "        # keep_history=False,\n",
    "    )\n",
    "\n",
    "    # input node\n",
    "    inp = nengo.Node(np.zeros(train_data.shape[-1]))\n",
    "\n",
    "    # lmu cell\n",
    "    enc = LMUCell(\n",
    "        units=64,\n",
    "        order=256,\n",
    "        theta=train_data.shape[1],\n",
    "        input_d=train_data.shape[-1],\n",
    "    )\n",
    "    conn_enc = nengo.Connection(inp, enc.x, transform=nengo_dl.dists.Glorot(), synapse=None)\n",
    "    net.config[conn_enc].trainable = False\n",
    "\n",
    "    # # dense linear readout\n",
    "    # out = nengo.Node(size_in=10)\n",
    "    # nengo.Connection(enc.h, out, transform=nengo_dl.dists.Glorot(), synapse=None)\n",
    "    \n",
    "    # dec = LMUCell(\n",
    "    #     units=train_data.shape[-1],\n",
    "    #     order=128,\n",
    "    #     theta=train_data.shape[1],\n",
    "    #     input_d=64,\n",
    "    # )\n",
    "    # conn_dec = nengo.Connection(enc.h,dec.x,transform=nengo_dl.dists.Glorot(),synapse=None)\n",
    "    # net.config[conn_dec].trainable = False\n",
    "    \n",
    "    # hid = nengo.Ensemble(train_data.shape[-1], 1, neuron_type=neuron_type)\n",
    "    # nengo.Connection(enc.h.neurons, hid.neurons, transform=nengo_dl.dists.Glorot(), synapse=None)\n",
    "    \n",
    "    \n",
    "    out = nengo.Node(size_in=train_data.shape[-1])\n",
    "    nengo.Connection(enc.h.neurons, out, transform=nengo_dl.dists.Glorot(), synapse=None)\n",
    "    \n",
    "\n",
    "    # record output. note that we set keep_history=False above, so this will\n",
    "    # only record the output on the last timestep (which is all we need\n",
    "    # on this task)\n",
    " \n",
    "    p_c = nengo.Probe(out)\n",
    "    p_b = nengo.Probe(enc.h.neurons)"
   ]
  },
  {
   "cell_type": "code",
   "execution_count": 20,
   "id": "be3a4861-e7f2-49c6-a5d8-3fd744277625",
   "metadata": {},
   "outputs": [
    {
     "name": "stdout",
     "output_type": "stream",
     "text": [
      "Build finished in 0:00:00                                                      \n",
      "Optimization finished in 0:00:00                                               \n",
      "Construction finished in 0:00:00                                               \n",
      "WARNING:tensorflow:5 out of the last 6 calls to <function Model.make_predict_function.<locals>.predict_function at 0x7f403c14d0d0> triggered tf.function retracing. Tracing is expensive and the excessive number of tracings could be due to (1) creating @tf.function repeatedly in a loop, (2) passing tensors with different shapes, (3) passing Python objects instead of tensors. For (1), please define your @tf.function outside of the loop. For (2), @tf.function has experimental_relax_shapes=True option that relaxes argument shapes that can avoid unnecessary retracing. For (3), please refer to https://www.tensorflow.org/guide/function#controlling_retracing and https://www.tensorflow.org/api_docs/python/tf/function for  more details.\n"
     ]
    },
    {
     "name": "stderr",
     "output_type": "stream",
     "text": [
      "WARNING:tensorflow:5 out of the last 6 calls to <function Model.make_predict_function.<locals>.predict_function at 0x7f403c14d0d0> triggered tf.function retracing. Tracing is expensive and the excessive number of tracings could be due to (1) creating @tf.function repeatedly in a loop, (2) passing tensors with different shapes, (3) passing Python objects instead of tensors. For (1), please define your @tf.function outside of the loop. For (2), @tf.function has experimental_relax_shapes=True option that relaxes argument shapes that can avoid unnecessary retracing. For (3), please refer to https://www.tensorflow.org/guide/function#controlling_retracing and https://www.tensorflow.org/api_docs/python/tf/function for  more details.\n"
     ]
    },
    {
     "name": "stdout",
     "output_type": "stream",
     "text": [
      "(3, 10, 900) (3, 10, 64)\n"
     ]
    }
   ],
   "source": [
    "minibatch_size = 3\n",
    "\n",
    "with nengo_dl.Simulator(network=net, minibatch_size=minibatch_size) as sim:\n",
    "    out = sim.predict(np.ones((minibatch_size, 10, n_in)))\n",
    "    print(out[p_c].shape,out[p_b].shape)"
   ]
  },
  {
   "cell_type": "code",
   "execution_count": 21,
   "id": "6eb0898a-7ebb-49b2-9422-2bdf97045e36",
   "metadata": {},
   "outputs": [
    {
     "name": "stdout",
     "output_type": "stream",
     "text": [
      "Build finished in 0:00:00                                                      \n",
      "Optimization finished in 0:00:00                                               \n",
      "Construction finished in 0:00:00                                               \n",
      "Epoch 1/4\n",
      "20/20 [==============================] - 459s 23s/step - loss: 2335.7954 - probe_loss: 2335.7954 - probe_1_loss: 0.0000e+00\n",
      "Epoch 2/4\n",
      "20/20 [==============================] - 442s 22s/step - loss: 96.1012 - probe_loss: 96.1012 - probe_1_loss: 0.0000e+00\n",
      "Epoch 3/4\n",
      "20/20 [==============================] - 428s 21s/step - loss: 151.9393 - probe_loss: 151.9393 - probe_1_loss: 0.0000e+00\n",
      "Epoch 4/4\n",
      "20/20 [==============================] - 421s 21s/step - loss: 164.3585 - probe_loss: 164.3585 - probe_1_loss: 0.0000e+00\n",
      "5/5 [==============================] - 45s 9s/step - loss: 50859.7617 - probe_loss: 50859.7617 - probe_1_loss: 0.0000e+00\n"
     ]
    }
   ],
   "source": [
    "with nengo_dl.Simulator(net, minibatch_size=minibatch_size) as sim:\n",
    "    sim.compile(optimizer=tf.optimizers.RMSprop(1e-3), loss=tf.losses.mse)\n",
    "\n",
    "    # run training loop\n",
    "    sim.fit(train_data, train_data, epochs=4)\n",
    "\n",
    "    # evaluate performance on test set\n",
    "    sim.evaluate(test_data, test_data)\n",
    "    \n",
    "    # Save the model\n",
    "    sim.save_params(\"./LMU_ncars\")\n"
   ]
  },
  {
   "cell_type": "code",
   "execution_count": 15,
   "id": "448427da-8e05-4197-84d6-ffffbdc631e0",
   "metadata": {
    "tags": []
   },
   "outputs": [
    {
     "name": "stdout",
     "output_type": "stream",
     "text": [
      "Build finished in 0:00:00                                                      \n",
      "Optimization finished in 0:00:00                                               \n",
      "Construction finished in 0:00:00                                               \n",
      "Constructing graph: build stage finished in 0:00:00                            \r"
     ]
    },
    {
     "data": {
      "image/png": "[encoded data removed]",
      "text/plain": [
       "<Figure size 432x288 with 1 Axes>"
      ]
     },
     "metadata": {
      "needs_background": "light"
     },
     "output_type": "display_data"
    },
    {
     "data": {
      "text/plain": [
       "<Figure size 432x288 with 0 Axes>"
      ]
     },
     "metadata": {},
     "output_type": "display_data"
    },
    {
     "data": {
      "image/png": "[encoded data removed]",
      "text/plain": [
       "<Figure size 432x288 with 1 Axes>"
      ]
     },
     "metadata": {
      "needs_background": "light"
     },
     "output_type": "display_data"
    },
    {
     "name": "stdout",
     "output_type": "stream",
     "text": [
      "Mean of the hidden space rep: -8.1292035e-07\n"
     ]
    },
    {
     "data": {
      "image/png": "[encoded data removed]",
      "text/plain": [
       "<Figure size 432x288 with 1 Axes>"
      ]
     },
     "metadata": {
      "needs_background": "light"
     },
     "output_type": "display_data"
    }
   ],
   "source": [
    "with nengo_dl.Simulator(net, minibatch_size=minibatch_size) as sim:\n",
    "    #sim.compile(optimizer=tf.optimizers.RMSprop(1e-3), loss=tf.losses.mse)\n",
    "\n",
    "    # run training loopq\n",
    "    #sim.fit(train_data, train_data, epochs=n_epochs)\n",
    "\n",
    "    # evaluate performance on test set\n",
    "    #sim.evaluate(test_data, test_data)\n",
    "\n",
    "    # Load the saved model\n",
    "    sim.load_params(\"./LMU_ncars\")\n",
    "\n",
    "    # display example output\n",
    "    output = sim.predict(test_data[:minibatch_size])\n",
    "    plt.figure()\n",
    "    plt.imshow(np.mean(output[p_c][1],axis=0).reshape((30, 30)))\n",
    "    plt.show()\n",
    "\n",
    "    # display the latent space representation\n",
    "    output = sim.predict(test_data[:minibatch_size])\n",
    "    plt.figure()\n",
    "    plt.figure()\n",
    "    plt.imshow(np.mean(output[p_b][1],axis=0).reshape((8, 8)))\n",
    "    plt.show()\n",
    "    \n",
    "    plt.figure()\n",
    "    plt.imshow(np.mean(test_data[1],axis=0).reshape(30,30))\n",
    "\n",
    "    hidden_rep = output[p_b][0]\n",
    "    norm = np.linalg.norm(hidden_rep)\n",
    "    hidden_rep = hidden_rep/norm\n",
    "    print('Mean of the hidden space rep:', hidden_rep.mean())"
   ]
  },
  {
   "cell_type": "code",
   "execution_count": 16,
   "id": "a9fd5a97-3ed1-4b5a-9382-af987351bde6",
   "metadata": {},
   "outputs": [
    {
     "data": {
      "text/plain": [
       "(60, 10000, 900)"
      ]
     },
     "execution_count": 16,
     "metadata": {},
     "output_type": "execute_result"
    }
   ],
   "source": [
    "train_data.shape"
   ]
  },
  {
   "cell_type": "code",
   "execution_count": null,
   "id": "be8c1232-8ac4-43ea-b184-ca6186e01941",
   "metadata": {},
   "outputs": [],
   "source": []
  }
 ],
 "metadata": {
  "kernelspec": {
   "display_name": "Python 3 (ipykernel)",
   "language": "python",
   "name": "python3"
  },
  "language_info": {
   "codemirror_mode": {
    "name": "ipython",
    "version": 3
   },
   "file_extension": ".py",
   "mimetype": "text/x-python",
   "name": "python",
   "nbconvert_exporter": "python",
   "pygments_lexer": "ipython3",
   "version": "3.9.10"
  }
 },
 "nbformat": 4,
 "nbformat_minor": 5
}
